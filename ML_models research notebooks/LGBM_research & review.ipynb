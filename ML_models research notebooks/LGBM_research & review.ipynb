{
  "cells": [
    {
      "cell_type": "markdown",
      "metadata": {
        "id": "view-in-github",
        "colab_type": "text"
      },
      "source": [
        "<a href=\"https://colab.research.google.com/github/ArslanAmanov/AI-ML-DL/blob/default-branch/ML_models%20research%20notebooks/LGBM_research%20%26%20review.ipynb\" target=\"_parent\"><img src=\"https://colab.research.google.com/assets/colab-badge.svg\" alt=\"Open In Colab\"/></a>"
      ]
    },
    {
      "cell_type": "markdown",
      "source": [
        "#LGBM Model Research\n",
        "\n",
        "LightGBM( Light Gradient Boosting Machine) is a popular gradient boosting framework for machine learning tasks, especially in the field of tabular data.\n",
        "It was developed by Microsoft and is known for its efficiency, speed and ability to handle large datasets.\n",
        "\n"
      ],
      "metadata": {
        "id": "_vUH6NfIwnCO"
      }
    },
    {
      "cell_type": "markdown",
      "source": [
        "# Gradient Boosting overview:\n",
        "\n",
        "Gradient boosting is an ensemble learning technique used for both classification and regression tasks. It builds of decision trees sequentially, where each tree corrects the errors made by the previous one."
      ],
      "metadata": {
        "id": "DwSekPM0yjCj"
      }
    },
    {
      "cell_type": "markdown",
      "source": [
        "# Step by Step process of gradient boosting:\n",
        "\n",
        "1. Start with an initial prediction(usually the mean of the target values for regression or a balanced class distribution for classification).\n",
        "2. Calculate the residuals (the difference between the actual and predicted values) for each data point.\n",
        "3. Fit a decision tree to the residuals. This tree is often referred to as a \"weak learner\" because it's simple model.\n",
        "4. Add the predictions from the new tree to the previous predictions, which updates the model's predictions.\n",
        "5. Repeat steps 2-4 for a special number of iterations or until a predefined stopping criterion is met.\n",
        "6. The final ensemble model is the sum of all the predictions from the individual trees."
      ],
      "metadata": {
        "id": "-SHasvYjzEuD"
      }
    },
    {
      "cell_type": "markdown",
      "source": [
        "# LGBM Features:\n",
        "LightGBM offers several features and optimizations that make it stand out:\n",
        "\n",
        "1. Gradient Boosting with Histogram-Based Learning: LGBM uses histogram based learning which bins the continuous feature values into discrete bins. This speeds up the training process and reduces memory usage compared to traditional tree-based models.\n",
        "2. Leaf Wise Growth: LGBM uses a leaf-wise tree growth strategy rather than a level-wise strategy, which can lead to more accurate models with fewer leaves. This reduces overfitting.\n",
        "3. Gradient-Based One-Side Sampling(GOOS): GOOS is a technique used to subsample the data points during training. It keeps the data points with large gradients(which contribute more to the model) while randomly sampling those with small gradient. This improves both training speed and generalization.\n",
        "4. Exclusive Feature Bundling: LGBM supports feature bundling, which groups related features together. This reduces the dimensionality of the data and can improve model performance.\n",
        "5. Regularization: LGBM provides options for L1 and L2 regularization to prevent overfitting.\n",
        "6. Categorical Feature Support: LGBM can handle categorical features directly without one-hot encoding, making it more memory-efficient.\n",
        "7. Parallel and GPU Learning: LGBM is highly optimized for parallel processing and can leverage GPU's for even faster  training.\n",
        "8. Early Stopping: You can use early stopping to halt training when the model's performance on a validation dataset plateaus or worsens, preventing overfitting.\n"
      ],
      "metadata": {
        "id": "2NCPYA7T0hsQ"
      }
    },
    {
      "cell_type": "markdown",
      "source": [
        "# Install\n",
        "\n",
        "The preferred way to install LightGBM is via pip:"
      ],
      "metadata": {
        "id": "6qQ74zUp8jeQ"
      }
    },
    {
      "cell_type": "code",
      "source": [
        "! pip install lightgbm"
      ],
      "metadata": {
        "colab": {
          "base_uri": "https://localhost:8080/"
        },
        "id": "XlCHh9sl0uml",
        "outputId": "708f1dcc-d0d5-4392-de3b-9437514b5195"
      },
      "execution_count": 1,
      "outputs": [
        {
          "output_type": "stream",
          "name": "stdout",
          "text": [
            "Requirement already satisfied: lightgbm in /usr/local/lib/python3.10/dist-packages (4.1.0)\n",
            "Requirement already satisfied: numpy in /usr/local/lib/python3.10/dist-packages (from lightgbm) (1.23.5)\n",
            "Requirement already satisfied: scipy in /usr/local/lib/python3.10/dist-packages (from lightgbm) (1.11.3)\n"
          ]
        }
      ]
    },
    {
      "cell_type": "code",
      "source": [
        "# verify your installation, try to\n",
        "import lightgbm as lgb"
      ],
      "metadata": {
        "id": "ZhDxg86o8vx8"
      },
      "execution_count": 2,
      "outputs": []
    },
    {
      "cell_type": "markdown",
      "source": [
        "# Data Interface\n",
        "The LightGBM Python module can load data from:\n",
        "\n",
        "LibSVM (zero-based) / TSV / CSV format text file\n",
        "\n",
        "NumPy 2D array(s), pandas DataFrame, H2O DataTable’s Frame, SciPy sparse matrix\n",
        "\n",
        "LightGBM binary file\n",
        "\n",
        "LightGBM Sequence object(s)\n",
        "\n",
        "The data is stored in a Dataset object.\n",
        "\n",
        "\n",
        "Many of the examples in this page use functionality from numpy. To run the examples, be sure to import numpy in your session."
      ],
      "metadata": {
        "id": "3_WkyFa09FSi"
      }
    },
    {
      "cell_type": "code",
      "source": [
        "import numpy as np"
      ],
      "metadata": {
        "id": "xU0LooJA86XM"
      },
      "execution_count": 3,
      "outputs": []
    },
    {
      "cell_type": "markdown",
      "source": [
        "To load a LibSVM(zero-based) text file or a LGBM binary file into Dataset:"
      ],
      "metadata": {
        "id": "ADY2M4TF9gGG"
      }
    },
    {
      "cell_type": "code",
      "source": [
        "train_data = lgb.Dataset('train.svm.bin')"
      ],
      "metadata": {
        "id": "VVQN7e9h9fLn"
      },
      "execution_count": 4,
      "outputs": []
    },
    {
      "cell_type": "markdown",
      "source": [
        "# To load a numpy array into Dataset:"
      ],
      "metadata": {
        "id": "ZnSckSII9vMU"
      }
    },
    {
      "cell_type": "code",
      "source": [
        "data = np.random.rand(500, 10)  # 500 entities, each contains 10 features\n",
        "label = np.random.randint(2, size=500)  # binary target\n",
        "train_data = lgb.Dataset(data, label=label)"
      ],
      "metadata": {
        "id": "XCMdj-7a9rOs"
      },
      "execution_count": 5,
      "outputs": []
    },
    {
      "cell_type": "markdown",
      "source": [
        "# To load a scipy.sparse.csr_matrix array into Dataset:"
      ],
      "metadata": {
        "id": "QiE-aLXq93tT"
      }
    },
    {
      "cell_type": "code",
      "source": [
        "# import scipy\n",
        "# csr = scipy.sparse.csr_matrix((data, (row, col)))\n",
        "# train_data = lgb.Dataset(csr)"
      ],
      "metadata": {
        "id": "Mi4XuWHf90MH"
      },
      "execution_count": 8,
      "outputs": []
    },
    {
      "cell_type": "markdown",
      "source": [
        "# Load from Sequence objects:\n",
        "\n",
        "We can implement Sequence interface to read binary files. The following example shows reading HDF5 file with h5py."
      ],
      "metadata": {
        "id": "AUE0_Y46-SA5"
      }
    },
    {
      "cell_type": "code",
      "source": [
        "import h5py\n",
        "\n",
        "class HDFSequence(lgb.Sequence):\n",
        "    def __init__(self, hdf_dataset, batch_size):\n",
        "        self.data = hdf_dataset\n",
        "        self.batch_size = batch_size\n",
        "\n",
        "    def __getitem__(self, idx):\n",
        "        return self.data[idx]\n",
        "\n",
        "    def __len__(self):\n",
        "        return len(self.data)\n",
        "\n",
        "f = h5py.File('train.hdf5', 'r')\n",
        "train_data = lgb.Dataset(HDFSequence(f['X'], 8192), label=f['Y'][:])"
      ],
      "metadata": {
        "id": "ZVfYa1-q98JU"
      },
      "execution_count": null,
      "outputs": []
    },
    {
      "cell_type": "markdown",
      "source": [
        "# Saving Dataset into a LightGBM binary file will make loading faster:"
      ],
      "metadata": {
        "id": "vyw0hoLO_XGX"
      }
    },
    {
      "cell_type": "code",
      "source": [
        "train_data = lgb.Dataset('train.svm.txt')\n",
        "train_data.save_binary('train.bin')"
      ],
      "metadata": {
        "id": "i2tX3RAu-sdB"
      },
      "execution_count": null,
      "outputs": []
    },
    {
      "cell_type": "markdown",
      "source": [
        "# Create validation data:"
      ],
      "metadata": {
        "id": "IJH2zND8_jEy"
      }
    },
    {
      "cell_type": "code",
      "source": [
        "validation_data = train_data.create_valid('validation.svm')"
      ],
      "metadata": {
        "id": "eTafgW9F_agV"
      },
      "execution_count": null,
      "outputs": []
    },
    {
      "cell_type": "code",
      "source": [
        "# or\n",
        "validation_data = lgb.Dataset('validation.svm', reference=train_data)\n",
        "#In LightGBM, the validation data should be aligned with training data."
      ],
      "metadata": {
        "id": "-oAzX78u_s6V"
      },
      "execution_count": null,
      "outputs": []
    },
    {
      "cell_type": "markdown",
      "source": [
        "# Specific feature names and categorical features:"
      ],
      "metadata": {
        "id": "i4EVFIJUAC8i"
      }
    },
    {
      "cell_type": "code",
      "source": [
        "train_data=lgb.Dataset(data, label=label, feature_name=['c1', 'c2','c3'], categorical_feature=['c3'])"
      ],
      "metadata": {
        "id": "EqMb5_1y_4fk"
      },
      "execution_count": null,
      "outputs": []
    },
    {
      "cell_type": "markdown",
      "source": [
        "LightGBM can use categorical features as input directly. It doesn’t need to convert to one-hot encoding, and is much faster than one-hot encoding (about 8x speed-up).\n",
        "\n",
        "Note: You should convert your categorical features to int type before you construct Dataset.\n",
        "\n",
        "# Weights can be set when needed:"
      ],
      "metadata": {
        "id": "BPOZuaxQAWg3"
      }
    },
    {
      "cell_type": "code",
      "source": [
        "w = np.random.rand(500, )\n",
        "train_data = lgb.Dataset(data, label=label, weight=w)"
      ],
      "metadata": {
        "id": "hpl7ta7_AaSO"
      },
      "execution_count": null,
      "outputs": []
    },
    {
      "cell_type": "code",
      "source": [
        "# or\n",
        "train_data = lgb.Dataset(data, label=label)\n",
        "w = np.random.rand(500, )\n",
        "train_data.set_weight(w)"
      ],
      "metadata": {
        "id": "01mZ9aOiAj4o"
      },
      "execution_count": null,
      "outputs": []
    },
    {
      "cell_type": "markdown",
      "source": [
        "# Setting parameters\n",
        "\n",
        "Booster parameters:"
      ],
      "metadata": {
        "id": "Z5m5qvUDAzgh"
      }
    },
    {
      "cell_type": "code",
      "source": [
        "param = {'num_leaves': 31, 'objective': 'binary'}\n",
        "param['metric'] = 'auc'"
      ],
      "metadata": {
        "id": "dA7VVJ_CAyVd"
      },
      "execution_count": null,
      "outputs": []
    },
    {
      "cell_type": "code",
      "source": [
        "# You can also specify multiple eval metrics:\n",
        "param['metric']=['auc', 'binary_logloss']"
      ],
      "metadata": {
        "id": "OwEePBBJA6TE"
      },
      "execution_count": null,
      "outputs": []
    },
    {
      "cell_type": "markdown",
      "source": [
        "# Training\n",
        "Training a model requires a parameter list and data set:"
      ],
      "metadata": {
        "id": "kUwFXpoUBSnl"
      }
    },
    {
      "cell_type": "code",
      "source": [
        "num_round = 10\n",
        "bst = lgb.train(param, train_data, num_round, valid_sets=[validation_data])"
      ],
      "metadata": {
        "id": "vj-_jZvkBR_y"
      },
      "execution_count": null,
      "outputs": []
    },
    {
      "cell_type": "markdown",
      "source": [
        "After training, the model can be saved:"
      ],
      "metadata": {
        "id": "wULtGUxvBaX7"
      }
    },
    {
      "cell_type": "code",
      "source": [
        "bst.save_model('model.txt')"
      ],
      "metadata": {
        "id": "gCxLS0xoBcFL"
      },
      "execution_count": null,
      "outputs": []
    },
    {
      "cell_type": "markdown",
      "source": [
        "The trained model can also be dumped to JSON format:"
      ],
      "metadata": {
        "id": "7ObTTjHcBeEd"
      }
    },
    {
      "cell_type": "code",
      "source": [
        "json_model = bst.dump_model()"
      ],
      "metadata": {
        "id": "kPNd2EVTBgAr"
      },
      "execution_count": null,
      "outputs": []
    },
    {
      "cell_type": "markdown",
      "source": [
        "A saved model can be loaded:"
      ],
      "metadata": {
        "id": "MQBIzAt5BiVD"
      }
    },
    {
      "cell_type": "code",
      "source": [
        "bst = lgb.Booster(model_file='model.txt')  # init model"
      ],
      "metadata": {
        "id": "01CeMbHCBkjr"
      },
      "execution_count": null,
      "outputs": []
    },
    {
      "cell_type": "markdown",
      "source": [
        "# Early Stopping\n",
        "If you have a validation set, you can use early stopping to find the optimal number of boosting rounds. Early stopping requires at least one set in valid_sets. If there is more than one, it will use all of them except the training data:"
      ],
      "metadata": {
        "id": "MfQSfsENByYj"
      }
    },
    {
      "cell_type": "code",
      "source": [
        "bst = lgb.train(param, train_data, num_round, valid_sets=valid_sets, callbacks=[lgb.early_stopping(stopping_rounds=5)])\n",
        "bst.save_model('model.txt', num_iteration=bst.best_iteration)"
      ],
      "metadata": {
        "id": "7R4ofNXkB0Jp"
      },
      "execution_count": null,
      "outputs": []
    },
    {
      "cell_type": "markdown",
      "source": [
        "The model will train until the validation score stops improving. Validation score needs to improve at least every stopping_rounds to continue training.\n",
        "\n",
        "The index of iteration that has the best performance will be saved in the best_iteration field if early stopping logic is enabled by setting early_stopping callback. Note that train() will return a model from the best iteration.\n",
        "\n",
        "This works with both metrics to minimize (L2, log loss, etc.) and to maximize (NDCG, AUC, etc.). Note that if you specify more than one evaluation metric, all of them will be used for early stopping. However, you can change this behavior and make LightGBM check only the first metric for early stopping by passing first_metric_only=True in early_stopping callback constructor."
      ],
      "metadata": {
        "id": "-e50_ZTLB8Oa"
      }
    },
    {
      "cell_type": "code",
      "source": [
        "#If early stopping is enabled during training, you can get predictions from the best iteration with bst.best_iteration:\n",
        "ypred = bst.predict(data, num_iteration=bst.best_iteration)"
      ],
      "metadata": {
        "id": "QtVvcirqB-OC"
      },
      "execution_count": null,
      "outputs": []
    }
  ],
  "metadata": {
    "kernelspec": {
      "display_name": "Python 3",
      "language": "python",
      "name": "python3"
    },
    "language_info": {
      "codemirror_mode": {
        "name": "ipython",
        "version": 3
      },
      "file_extension": ".py",
      "mimetype": "text/x-python",
      "name": "python",
      "nbconvert_exporter": "python",
      "pygments_lexer": "ipython3",
      "version": "3.9.17"
    },
    "orig_nbformat": 4,
    "colab": {
      "provenance": [],
      "include_colab_link": true
    }
  },
  "nbformat": 4,
  "nbformat_minor": 0
}