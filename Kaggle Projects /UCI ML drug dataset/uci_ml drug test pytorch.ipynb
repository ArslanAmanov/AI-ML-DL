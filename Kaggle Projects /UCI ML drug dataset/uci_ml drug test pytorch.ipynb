{
 "cells": [
  {
   "cell_type": "code",
   "execution_count": 1,
   "metadata": {},
   "outputs": [],
   "source": [
    "# #Import libraries and modules \n",
    "# import random\n",
    "# import copy\n",
    "# import time\n",
    "# import pandas as pd\n",
    "# import numpy as np\n",
    "# import gc\n",
    "# import re\n",
    "# import torch\n",
    "\n",
    "# #import spacy\n",
    "# from tqdm import tqdm_notebook, tnrange\n",
    "# from tqdm.auto import tqdm\n",
    "\n",
    "# tqdm.pandas(desc='Progress')\n",
    "# from collections import Counter\n",
    "\n",
    "# from nltk import word_tokenize\n",
    "\n",
    "# import torch.nn as nn\n",
    "# import torch.optim as optim\n",
    "# import torch.nn.functional as F\n",
    "# from torch.utils.data import Dataset, DataLoader\n",
    "# from torch.nn.utils.rnn import pack_padded_sequence, pad_packed_sequence\n",
    "# from torch.autograd import Variable\n",
    "# from sklearn.metrics import f1_score\n",
    "# import os \n",
    "\n",
    "# from keras.preprocessing.text import Tokenizer\n",
    "# from keras.preprocessing.sequence import pad_sequences\n",
    "\n",
    "# # cross validation and metrics\n",
    "# from sklearn.model_selection import StratifiedKFold\n",
    "# from sklearn.metrics import f1_score\n",
    "# from torch.optim.optimizer import Optimizer\n",
    "\n",
    "# from sklearn.preprocessing import StandardScaler\n",
    "# from multiprocessing import  Pool\n",
    "# from functools import partial\n",
    "# import numpy as np\n",
    "# from sklearn.decomposition import PCA\n",
    "# import torch as t\n",
    "# import torch.nn as nn\n",
    "# import torch.nn.functional as F\n",
    "\n",
    "# import matplotlib.pyplot as plt "
   ]
  },
  {
   "cell_type": "code",
   "execution_count": 3,
   "metadata": {},
   "outputs": [],
   "source": [
    "# embed_size = 300 # how big is each word vector\n",
    "# max_features = 120000 # how many unique words to use (i.e num rows in embedding vector)\n",
    "# maxlen = 750 # max number of words in a question to use\n",
    "# batch_size = 512 # how many samples to process at once\n",
    "# n_epochs = 5 # how many times to iterate over all samples\n",
    "# n_splits = 5 # Number of K-fold Splits\n",
    "# SEED = 10\n",
    "# debug = 0"
   ]
  },
  {
   "cell_type": "code",
   "execution_count": null,
   "metadata": {},
   "outputs": [],
   "source": []
  }
 ],
 "metadata": {
  "kernelspec": {
   "display_name": "Tensorflow",
   "language": "python",
   "name": "python3"
  },
  "language_info": {
   "codemirror_mode": {
    "name": "ipython",
    "version": 3
   },
   "file_extension": ".py",
   "mimetype": "text/x-python",
   "name": "python",
   "nbconvert_exporter": "python",
   "pygments_lexer": "ipython3",
   "version": "3.9.17"
  },
  "orig_nbformat": 4
 },
 "nbformat": 4,
 "nbformat_minor": 2
}
