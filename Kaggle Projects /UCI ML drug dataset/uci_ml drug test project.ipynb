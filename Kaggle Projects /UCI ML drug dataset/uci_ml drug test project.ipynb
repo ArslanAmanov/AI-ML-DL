{
 "cells": [
  {
   "cell_type": "markdown",
   "metadata": {},
   "source": [
    "# EDA Sentiment Analyses "
   ]
  },
  {
   "cell_type": "code",
   "execution_count": 1,
   "metadata": {},
   "outputs": [],
   "source": [
    "# Importing the Required Libraries\n",
    "\n",
    "import pandas as pd\n",
    "import numpy as np\n",
    "import seaborn as sns\n",
    "import matplotlib.pyplot as plt\n",
    "from wordcloud import WordCloud\n",
    "from textblob import TextBlob\n",
    "from nltk.corpus import stopwords \n",
    "from collections import Counter\n",
    "import warnings; warnings.simplefilter('ignore')\n",
    "import nltk\n",
    "import re\n",
    "import string\n",
    "from string import punctuation\n",
    "from nltk import ngrams\n",
    "from nltk.tokenize import word_tokenize \n",
    "from nltk.stem import SnowballStemmer \n",
    "\n",
    "from sklearn.preprocessing import LabelEncoder \n",
    "import xgboost as xgb\n",
    "from sklearn.metrics import confusion_matrix, accuracy_score, classification_report\n",
    "from sklearn.model_selection import train_test_split\n",
    "\n",
    "stop_words = set(stopwords.words('english'))\n",
    "punctuation = punctuation + '\"\"“”’' + '∞θ÷α•à−β∅³π‘₹´°£€\\×™√²—–&o'"
   ]
  },
  {
   "cell_type": "code",
   "execution_count": 2,
   "metadata": {},
   "outputs": [
    {
     "name": "stdout",
     "output_type": "stream",
     "text": [
      "The shape of the train set given is :  (161297, 7)\n",
      "The shape of the test set given is :  (53766, 7)\n"
     ]
    },
    {
     "data": {
      "text/html": [
       "<div>\n",
       "<style scoped>\n",
       "    .dataframe tbody tr th:only-of-type {\n",
       "        vertical-align: middle;\n",
       "    }\n",
       "\n",
       "    .dataframe tbody tr th {\n",
       "        vertical-align: top;\n",
       "    }\n",
       "\n",
       "    .dataframe thead th {\n",
       "        text-align: right;\n",
       "    }\n",
       "</style>\n",
       "<table border=\"1\" class=\"dataframe\">\n",
       "  <thead>\n",
       "    <tr style=\"text-align: right;\">\n",
       "      <th></th>\n",
       "      <th>uniqueID</th>\n",
       "      <th>drugName</th>\n",
       "      <th>condition</th>\n",
       "      <th>review</th>\n",
       "      <th>rating</th>\n",
       "      <th>date</th>\n",
       "      <th>usefulCount</th>\n",
       "    </tr>\n",
       "  </thead>\n",
       "  <tbody>\n",
       "    <tr>\n",
       "      <th>0</th>\n",
       "      <td>206461</td>\n",
       "      <td>Valsartan</td>\n",
       "      <td>Left Ventricular Dysfunction</td>\n",
       "      <td>\"It has no side effect, I take it in combinati...</td>\n",
       "      <td>9</td>\n",
       "      <td>20-May-12</td>\n",
       "      <td>27</td>\n",
       "    </tr>\n",
       "    <tr>\n",
       "      <th>1</th>\n",
       "      <td>95260</td>\n",
       "      <td>Guanfacine</td>\n",
       "      <td>ADHD</td>\n",
       "      <td>\"My son is halfway through his fourth week of ...</td>\n",
       "      <td>8</td>\n",
       "      <td>27-Apr-10</td>\n",
       "      <td>192</td>\n",
       "    </tr>\n",
       "    <tr>\n",
       "      <th>2</th>\n",
       "      <td>92703</td>\n",
       "      <td>Lybrel</td>\n",
       "      <td>Birth Control</td>\n",
       "      <td>\"I used to take another oral contraceptive, wh...</td>\n",
       "      <td>5</td>\n",
       "      <td>14-Dec-09</td>\n",
       "      <td>17</td>\n",
       "    </tr>\n",
       "    <tr>\n",
       "      <th>3</th>\n",
       "      <td>138000</td>\n",
       "      <td>Ortho Evra</td>\n",
       "      <td>Birth Control</td>\n",
       "      <td>\"This is my first time using any form of birth...</td>\n",
       "      <td>8</td>\n",
       "      <td>3-Nov-15</td>\n",
       "      <td>10</td>\n",
       "    </tr>\n",
       "    <tr>\n",
       "      <th>4</th>\n",
       "      <td>35696</td>\n",
       "      <td>Buprenorphine / naloxone</td>\n",
       "      <td>Opiate Dependence</td>\n",
       "      <td>\"Suboxone has completely turned my life around...</td>\n",
       "      <td>9</td>\n",
       "      <td>27-Nov-16</td>\n",
       "      <td>37</td>\n",
       "    </tr>\n",
       "  </tbody>\n",
       "</table>\n",
       "</div>"
      ],
      "text/plain": [
       "   uniqueID                  drugName                     condition  \\\n",
       "0    206461                 Valsartan  Left Ventricular Dysfunction   \n",
       "1     95260                Guanfacine                          ADHD   \n",
       "2     92703                    Lybrel                 Birth Control   \n",
       "3    138000                Ortho Evra                 Birth Control   \n",
       "4     35696  Buprenorphine / naloxone             Opiate Dependence   \n",
       "\n",
       "                                              review  rating       date  \\\n",
       "0  \"It has no side effect, I take it in combinati...       9  20-May-12   \n",
       "1  \"My son is halfway through his fourth week of ...       8  27-Apr-10   \n",
       "2  \"I used to take another oral contraceptive, wh...       5  14-Dec-09   \n",
       "3  \"This is my first time using any form of birth...       8   3-Nov-15   \n",
       "4  \"Suboxone has completely turned my life around...       9  27-Nov-16   \n",
       "\n",
       "   usefulCount  \n",
       "0           27  \n",
       "1          192  \n",
       "2           17  \n",
       "3           10  \n",
       "4           37  "
      ]
     },
     "execution_count": 2,
     "metadata": {},
     "output_type": "execute_result"
    }
   ],
   "source": [
    "#UCI ML drug dataset\n",
    "\n",
    "#Importing the datasets\n",
    "\n",
    "df_train = pd.read_csv(\"drugsComTrain_raw.csv\")\n",
    "df_test = pd.read_csv(\"drugsComTest_raw.csv\") \n",
    "\n",
    "print (\"The shape of the train set given is : \", df_train.shape)\n",
    "print (\"The shape of the test set given is : \", df_test.shape)\n",
    "\n",
    "df_train.head()"
   ]
  },
  {
   "cell_type": "code",
   "execution_count": 3,
   "metadata": {},
   "outputs": [
    {
     "data": {
      "text/plain": [
       "uniqueID        int64\n",
       "drugName       object\n",
       "condition      object\n",
       "review         object\n",
       "rating          int64\n",
       "date           object\n",
       "usefulCount     int64\n",
       "dtype: object"
      ]
     },
     "execution_count": 3,
     "metadata": {},
     "output_type": "execute_result"
    }
   ],
   "source": [
    "# Data types\n",
    "df_train.dtypes"
   ]
  },
  {
   "cell_type": "code",
   "execution_count": 4,
   "metadata": {},
   "outputs": [
    {
     "name": "stdout",
     "output_type": "stream",
     "text": [
      "(215063, 7)\n"
     ]
    },
    {
     "data": {
      "text/html": [
       "<div>\n",
       "<style scoped>\n",
       "    .dataframe tbody tr th:only-of-type {\n",
       "        vertical-align: middle;\n",
       "    }\n",
       "\n",
       "    .dataframe tbody tr th {\n",
       "        vertical-align: top;\n",
       "    }\n",
       "\n",
       "    .dataframe thead th {\n",
       "        text-align: right;\n",
       "    }\n",
       "</style>\n",
       "<table border=\"1\" class=\"dataframe\">\n",
       "  <thead>\n",
       "    <tr style=\"text-align: right;\">\n",
       "      <th></th>\n",
       "      <th>uniqueID</th>\n",
       "      <th>drugName</th>\n",
       "      <th>condition</th>\n",
       "      <th>review</th>\n",
       "      <th>rating</th>\n",
       "      <th>date</th>\n",
       "      <th>usefulCount</th>\n",
       "    </tr>\n",
       "  </thead>\n",
       "  <tbody>\n",
       "    <tr>\n",
       "      <th>0</th>\n",
       "      <td>206461</td>\n",
       "      <td>Valsartan</td>\n",
       "      <td>Left Ventricular Dysfunction</td>\n",
       "      <td>\"It has no side effect, I take it in combinati...</td>\n",
       "      <td>9</td>\n",
       "      <td>20-May-12</td>\n",
       "      <td>27</td>\n",
       "    </tr>\n",
       "    <tr>\n",
       "      <th>1</th>\n",
       "      <td>95260</td>\n",
       "      <td>Guanfacine</td>\n",
       "      <td>ADHD</td>\n",
       "      <td>\"My son is halfway through his fourth week of ...</td>\n",
       "      <td>8</td>\n",
       "      <td>27-Apr-10</td>\n",
       "      <td>192</td>\n",
       "    </tr>\n",
       "    <tr>\n",
       "      <th>2</th>\n",
       "      <td>92703</td>\n",
       "      <td>Lybrel</td>\n",
       "      <td>Birth Control</td>\n",
       "      <td>\"I used to take another oral contraceptive, wh...</td>\n",
       "      <td>5</td>\n",
       "      <td>14-Dec-09</td>\n",
       "      <td>17</td>\n",
       "    </tr>\n",
       "    <tr>\n",
       "      <th>3</th>\n",
       "      <td>138000</td>\n",
       "      <td>Ortho Evra</td>\n",
       "      <td>Birth Control</td>\n",
       "      <td>\"This is my first time using any form of birth...</td>\n",
       "      <td>8</td>\n",
       "      <td>3-Nov-15</td>\n",
       "      <td>10</td>\n",
       "    </tr>\n",
       "    <tr>\n",
       "      <th>4</th>\n",
       "      <td>35696</td>\n",
       "      <td>Buprenorphine / naloxone</td>\n",
       "      <td>Opiate Dependence</td>\n",
       "      <td>\"Suboxone has completely turned my life around...</td>\n",
       "      <td>9</td>\n",
       "      <td>27-Nov-16</td>\n",
       "      <td>37</td>\n",
       "    </tr>\n",
       "    <tr>\n",
       "      <th>5</th>\n",
       "      <td>155963</td>\n",
       "      <td>Cialis</td>\n",
       "      <td>Benign Prostatic Hyperplasia</td>\n",
       "      <td>\"2nd day on 5mg started to work with rock hard...</td>\n",
       "      <td>2</td>\n",
       "      <td>28-Nov-15</td>\n",
       "      <td>43</td>\n",
       "    </tr>\n",
       "    <tr>\n",
       "      <th>6</th>\n",
       "      <td>165907</td>\n",
       "      <td>Levonorgestrel</td>\n",
       "      <td>Emergency Contraception</td>\n",
       "      <td>\"He pulled out, but he cummed a bit in me. I t...</td>\n",
       "      <td>1</td>\n",
       "      <td>7-Mar-17</td>\n",
       "      <td>5</td>\n",
       "    </tr>\n",
       "    <tr>\n",
       "      <th>7</th>\n",
       "      <td>102654</td>\n",
       "      <td>Aripiprazole</td>\n",
       "      <td>Bipolar Disorde</td>\n",
       "      <td>\"Abilify changed my life. There is hope. I was...</td>\n",
       "      <td>10</td>\n",
       "      <td>14-Mar-15</td>\n",
       "      <td>32</td>\n",
       "    </tr>\n",
       "    <tr>\n",
       "      <th>8</th>\n",
       "      <td>74811</td>\n",
       "      <td>Keppra</td>\n",
       "      <td>Epilepsy</td>\n",
       "      <td>\" I Ve had  nothing but problems with the Kepp...</td>\n",
       "      <td>1</td>\n",
       "      <td>9-Aug-16</td>\n",
       "      <td>11</td>\n",
       "    </tr>\n",
       "    <tr>\n",
       "      <th>9</th>\n",
       "      <td>48928</td>\n",
       "      <td>Ethinyl estradiol / levonorgestrel</td>\n",
       "      <td>Birth Control</td>\n",
       "      <td>\"I had been on the pill for many years. When m...</td>\n",
       "      <td>8</td>\n",
       "      <td>8-Dec-16</td>\n",
       "      <td>1</td>\n",
       "    </tr>\n",
       "  </tbody>\n",
       "</table>\n",
       "</div>"
      ],
      "text/plain": [
       "   uniqueID                            drugName                     condition  \\\n",
       "0    206461                           Valsartan  Left Ventricular Dysfunction   \n",
       "1     95260                          Guanfacine                          ADHD   \n",
       "2     92703                              Lybrel                 Birth Control   \n",
       "3    138000                          Ortho Evra                 Birth Control   \n",
       "4     35696            Buprenorphine / naloxone             Opiate Dependence   \n",
       "5    155963                              Cialis  Benign Prostatic Hyperplasia   \n",
       "6    165907                      Levonorgestrel       Emergency Contraception   \n",
       "7    102654                        Aripiprazole               Bipolar Disorde   \n",
       "8     74811                              Keppra                      Epilepsy   \n",
       "9     48928  Ethinyl estradiol / levonorgestrel                 Birth Control   \n",
       "\n",
       "                                              review  rating       date  \\\n",
       "0  \"It has no side effect, I take it in combinati...       9  20-May-12   \n",
       "1  \"My son is halfway through his fourth week of ...       8  27-Apr-10   \n",
       "2  \"I used to take another oral contraceptive, wh...       5  14-Dec-09   \n",
       "3  \"This is my first time using any form of birth...       8   3-Nov-15   \n",
       "4  \"Suboxone has completely turned my life around...       9  27-Nov-16   \n",
       "5  \"2nd day on 5mg started to work with rock hard...       2  28-Nov-15   \n",
       "6  \"He pulled out, but he cummed a bit in me. I t...       1   7-Mar-17   \n",
       "7  \"Abilify changed my life. There is hope. I was...      10  14-Mar-15   \n",
       "8  \" I Ve had  nothing but problems with the Kepp...       1   9-Aug-16   \n",
       "9  \"I had been on the pill for many years. When m...       8   8-Dec-16   \n",
       "\n",
       "   usefulCount  \n",
       "0           27  \n",
       "1          192  \n",
       "2           17  \n",
       "3           10  \n",
       "4           37  \n",
       "5           43  \n",
       "6            5  \n",
       "7           32  \n",
       "8           11  \n",
       "9            1  "
      ]
     },
     "execution_count": 4,
     "metadata": {},
     "output_type": "execute_result"
    }
   ],
   "source": [
    "#Merging the test and train data \n",
    "merge = [df_train, df_test]\n",
    "df_data = pd.concat(merge)\n",
    "\n",
    "print (df_data.shape)\n",
    "\n",
    "df_data.head(10)"
   ]
  },
  {
   "cell_type": "code",
   "execution_count": 5,
   "metadata": {},
   "outputs": [
    {
     "data": {
      "text/html": [
       "<div>\n",
       "<style scoped>\n",
       "    .dataframe tbody tr th:only-of-type {\n",
       "        vertical-align: middle;\n",
       "    }\n",
       "\n",
       "    .dataframe tbody tr th {\n",
       "        vertical-align: top;\n",
       "    }\n",
       "\n",
       "    .dataframe thead th {\n",
       "        text-align: right;\n",
       "    }\n",
       "</style>\n",
       "<table border=\"1\" class=\"dataframe\">\n",
       "  <thead>\n",
       "    <tr style=\"text-align: right;\">\n",
       "      <th></th>\n",
       "      <th>uniqueID</th>\n",
       "      <th>rating</th>\n",
       "      <th>usefulCount</th>\n",
       "    </tr>\n",
       "  </thead>\n",
       "  <tbody>\n",
       "    <tr>\n",
       "      <th>count</th>\n",
       "      <td>215063.000000</td>\n",
       "      <td>215063.000000</td>\n",
       "      <td>215063.000000</td>\n",
       "    </tr>\n",
       "    <tr>\n",
       "      <th>mean</th>\n",
       "      <td>116039.364814</td>\n",
       "      <td>6.990008</td>\n",
       "      <td>28.001004</td>\n",
       "    </tr>\n",
       "    <tr>\n",
       "      <th>std</th>\n",
       "      <td>67007.913366</td>\n",
       "      <td>3.275554</td>\n",
       "      <td>36.346069</td>\n",
       "    </tr>\n",
       "    <tr>\n",
       "      <th>min</th>\n",
       "      <td>0.000000</td>\n",
       "      <td>1.000000</td>\n",
       "      <td>0.000000</td>\n",
       "    </tr>\n",
       "    <tr>\n",
       "      <th>25%</th>\n",
       "      <td>58115.500000</td>\n",
       "      <td>5.000000</td>\n",
       "      <td>6.000000</td>\n",
       "    </tr>\n",
       "    <tr>\n",
       "      <th>50%</th>\n",
       "      <td>115867.000000</td>\n",
       "      <td>8.000000</td>\n",
       "      <td>16.000000</td>\n",
       "    </tr>\n",
       "    <tr>\n",
       "      <th>75%</th>\n",
       "      <td>173963.500000</td>\n",
       "      <td>10.000000</td>\n",
       "      <td>36.000000</td>\n",
       "    </tr>\n",
       "    <tr>\n",
       "      <th>max</th>\n",
       "      <td>232291.000000</td>\n",
       "      <td>10.000000</td>\n",
       "      <td>1291.000000</td>\n",
       "    </tr>\n",
       "  </tbody>\n",
       "</table>\n",
       "</div>"
      ],
      "text/plain": [
       "            uniqueID         rating    usefulCount\n",
       "count  215063.000000  215063.000000  215063.000000\n",
       "mean   116039.364814       6.990008      28.001004\n",
       "std     67007.913366       3.275554      36.346069\n",
       "min         0.000000       1.000000       0.000000\n",
       "25%     58115.500000       5.000000       6.000000\n",
       "50%    115867.000000       8.000000      16.000000\n",
       "75%    173963.500000      10.000000      36.000000\n",
       "max    232291.000000      10.000000    1291.000000"
      ]
     },
     "execution_count": 5,
     "metadata": {},
     "output_type": "execute_result"
    }
   ],
   "source": [
    "df_data.describe()"
   ]
  },
  {
   "cell_type": "code",
   "execution_count": 10,
   "metadata": {},
   "outputs": [
    {
     "name": "stdout",
     "output_type": "stream",
     "text": [
      "Null values in the dataset :  uniqueID          0\n",
      "drugName          0\n",
      "condition      1194\n",
      "review            0\n",
      "rating            0\n",
      "date              0\n",
      "usefulCount       0\n",
      "dtype: int64\n"
     ]
    }
   ],
   "source": [
    "# Null values\n",
    "print (\"Null values in the dataset : \", df_data.isnull().sum(axis = 0))"
   ]
  },
  {
   "cell_type": "code",
   "execution_count": 11,
   "metadata": {},
   "outputs": [
    {
     "data": {
      "text/html": [
       "<div>\n",
       "<style scoped>\n",
       "    .dataframe tbody tr th:only-of-type {\n",
       "        vertical-align: middle;\n",
       "    }\n",
       "\n",
       "    .dataframe tbody tr th {\n",
       "        vertical-align: top;\n",
       "    }\n",
       "\n",
       "    .dataframe thead th {\n",
       "        text-align: right;\n",
       "    }\n",
       "</style>\n",
       "<table border=\"1\" class=\"dataframe\">\n",
       "  <thead>\n",
       "    <tr style=\"text-align: right;\">\n",
       "      <th></th>\n",
       "      <th>uniqueID</th>\n",
       "      <th>rating</th>\n",
       "      <th>usefulCount</th>\n",
       "    </tr>\n",
       "  </thead>\n",
       "  <tbody>\n",
       "    <tr>\n",
       "      <th>count</th>\n",
       "      <td>215063.000000</td>\n",
       "      <td>215063.000000</td>\n",
       "      <td>215063.000000</td>\n",
       "    </tr>\n",
       "    <tr>\n",
       "      <th>mean</th>\n",
       "      <td>116039.364814</td>\n",
       "      <td>6.990008</td>\n",
       "      <td>28.001004</td>\n",
       "    </tr>\n",
       "    <tr>\n",
       "      <th>std</th>\n",
       "      <td>67007.913366</td>\n",
       "      <td>3.275554</td>\n",
       "      <td>36.346069</td>\n",
       "    </tr>\n",
       "    <tr>\n",
       "      <th>min</th>\n",
       "      <td>0.000000</td>\n",
       "      <td>1.000000</td>\n",
       "      <td>0.000000</td>\n",
       "    </tr>\n",
       "    <tr>\n",
       "      <th>25%</th>\n",
       "      <td>58115.500000</td>\n",
       "      <td>5.000000</td>\n",
       "      <td>6.000000</td>\n",
       "    </tr>\n",
       "    <tr>\n",
       "      <th>50%</th>\n",
       "      <td>115867.000000</td>\n",
       "      <td>8.000000</td>\n",
       "      <td>16.000000</td>\n",
       "    </tr>\n",
       "    <tr>\n",
       "      <th>75%</th>\n",
       "      <td>173963.500000</td>\n",
       "      <td>10.000000</td>\n",
       "      <td>36.000000</td>\n",
       "    </tr>\n",
       "    <tr>\n",
       "      <th>max</th>\n",
       "      <td>232291.000000</td>\n",
       "      <td>10.000000</td>\n",
       "      <td>1291.000000</td>\n",
       "    </tr>\n",
       "  </tbody>\n",
       "</table>\n",
       "</div>"
      ],
      "text/plain": [
       "            uniqueID         rating    usefulCount\n",
       "count  215063.000000  215063.000000  215063.000000\n",
       "mean   116039.364814       6.990008      28.001004\n",
       "std     67007.913366       3.275554      36.346069\n",
       "min         0.000000       1.000000       0.000000\n",
       "25%     58115.500000       5.000000       6.000000\n",
       "50%    115867.000000       8.000000      16.000000\n",
       "75%    173963.500000      10.000000      36.000000\n",
       "max    232291.000000      10.000000    1291.000000"
      ]
     },
     "execution_count": 11,
     "metadata": {},
     "output_type": "execute_result"
    }
   ],
   "source": [
    "df_data.describe() "
   ]
  },
  {
   "cell_type": "code",
   "execution_count": 12,
   "metadata": {},
   "outputs": [
    {
     "name": "stdout",
     "output_type": "stream",
     "text": [
      "Total Size of the dataset :  215063\n",
      "Null values 1194\n",
      "Percentage of null values :  0.5551861547546533\n"
     ]
    }
   ],
   "source": [
    "# Calculating what percentage of data is null \n",
    "\n",
    "size = df_data.shape[0] \n",
    "\n",
    "print(\"Total Size of the dataset : \", size)  \n",
    "\n",
    "total_na = df_data.isnull().sum(axis=0)['condition'] \n",
    "print(\"Null values\", total_na) \n",
    "\n",
    "print(\"Percentage of null values : \", (total_na/size)*100)  "
   ]
  },
  {
   "cell_type": "code",
   "execution_count": 13,
   "metadata": {},
   "outputs": [
    {
     "name": "stdout",
     "output_type": "stream",
     "text": [
      "The shape of the data after dropping the null values is :  (213869, 7)\n"
     ]
    }
   ],
   "source": [
    "# Dropping the data points with null values as it's very much less than 5% of the total data points and also the data is not time series data \n",
    "# so we can drop the data points with null values without any problem \n",
    "df_data  = df_data.dropna(how='any',axis=0)  \n",
    "print(\"The shape of the data after dropping the null values is : \",df_data.shape) # printing the shape of the data after dropping the null values "
   ]
  },
  {
   "cell_type": "code",
   "execution_count": 14,
   "metadata": {},
   "outputs": [],
   "source": [
    "# lowercasing the column names so it will be easier to work with them \n",
    "df_data.columns = df_data.columns.str.lower()  "
   ]
  },
  {
   "cell_type": "code",
   "execution_count": 15,
   "metadata": {},
   "outputs": [
    {
     "data": {
      "text/plain": [
       "Index(['uniqueid', 'drugname', 'condition', 'review', 'rating', 'date',\n",
       "       'usefulcount'],\n",
       "      dtype='object')"
      ]
     },
     "execution_count": 15,
     "metadata": {},
     "output_type": "execute_result"
    }
   ],
   "source": [
    "df_data.columns"
   ]
  },
  {
   "cell_type": "code",
   "execution_count": 16,
   "metadata": {},
   "outputs": [
    {
     "data": {
      "text/html": [
       "<div>\n",
       "<style scoped>\n",
       "    .dataframe tbody tr th:only-of-type {\n",
       "        vertical-align: middle;\n",
       "    }\n",
       "\n",
       "    .dataframe tbody tr th {\n",
       "        vertical-align: top;\n",
       "    }\n",
       "\n",
       "    .dataframe thead th {\n",
       "        text-align: right;\n",
       "    }\n",
       "</style>\n",
       "<table border=\"1\" class=\"dataframe\">\n",
       "  <thead>\n",
       "    <tr style=\"text-align: right;\">\n",
       "      <th></th>\n",
       "      <th>uniqueid</th>\n",
       "      <th>drugname</th>\n",
       "      <th>condition</th>\n",
       "      <th>review</th>\n",
       "      <th>rating</th>\n",
       "      <th>date</th>\n",
       "      <th>usefulcount</th>\n",
       "    </tr>\n",
       "  </thead>\n",
       "  <tbody>\n",
       "    <tr>\n",
       "      <th>0</th>\n",
       "      <td>0</td>\n",
       "      <td>Medroxyprogesterone</td>\n",
       "      <td>Abnormal Uterine Bleeding</td>\n",
       "      <td>\"Been on the depo injection since January 2015...</td>\n",
       "      <td>3</td>\n",
       "      <td>28-Oct-15</td>\n",
       "      <td>4</td>\n",
       "    </tr>\n",
       "    <tr>\n",
       "      <th>1</th>\n",
       "      <td>2</td>\n",
       "      <td>Medroxyprogesterone</td>\n",
       "      <td>Amenorrhea</td>\n",
       "      <td>\"I&amp;#039;m 21 years old and recently found out ...</td>\n",
       "      <td>10</td>\n",
       "      <td>27-Oct-15</td>\n",
       "      <td>11</td>\n",
       "    </tr>\n",
       "    <tr>\n",
       "      <th>2</th>\n",
       "      <td>3</td>\n",
       "      <td>Medroxyprogesterone</td>\n",
       "      <td>Abnormal Uterine Bleeding</td>\n",
       "      <td>\"I have been on the shot 11 years and until a ...</td>\n",
       "      <td>8</td>\n",
       "      <td>27-Oct-15</td>\n",
       "      <td>7</td>\n",
       "    </tr>\n",
       "    <tr>\n",
       "      <th>3</th>\n",
       "      <td>4</td>\n",
       "      <td>Medroxyprogesterone</td>\n",
       "      <td>Birth Control</td>\n",
       "      <td>\"Ive had four shots at this point. I was on bi...</td>\n",
       "      <td>9</td>\n",
       "      <td>26-Oct-15</td>\n",
       "      <td>12</td>\n",
       "    </tr>\n",
       "    <tr>\n",
       "      <th>4</th>\n",
       "      <td>5</td>\n",
       "      <td>Medroxyprogesterone</td>\n",
       "      <td>Abnormal Uterine Bleeding</td>\n",
       "      <td>\"I had a total of 3 shots. I got my first one ...</td>\n",
       "      <td>1</td>\n",
       "      <td>25-Oct-15</td>\n",
       "      <td>4</td>\n",
       "    </tr>\n",
       "    <tr>\n",
       "      <th>5</th>\n",
       "      <td>6</td>\n",
       "      <td>Medroxyprogesterone</td>\n",
       "      <td>Birth Control</td>\n",
       "      <td>\"This is a horrible shot!! I got my first shot...</td>\n",
       "      <td>1</td>\n",
       "      <td>24-Oct-15</td>\n",
       "      <td>3</td>\n",
       "    </tr>\n",
       "    <tr>\n",
       "      <th>6</th>\n",
       "      <td>7</td>\n",
       "      <td>Medroxyprogesterone</td>\n",
       "      <td>Abnormal Uterine Bleeding</td>\n",
       "      <td>\"I&amp;#039;m 18 and got this for heavy bleeding. ...</td>\n",
       "      <td>5</td>\n",
       "      <td>22-Oct-15</td>\n",
       "      <td>6</td>\n",
       "    </tr>\n",
       "    <tr>\n",
       "      <th>7</th>\n",
       "      <td>8</td>\n",
       "      <td>Medroxyprogesterone</td>\n",
       "      <td>Abnormal Uterine Bleeding</td>\n",
       "      <td>\"Im 19 and have been having heavy and painful ...</td>\n",
       "      <td>5</td>\n",
       "      <td>21-Oct-15</td>\n",
       "      <td>2</td>\n",
       "    </tr>\n",
       "    <tr>\n",
       "      <th>8</th>\n",
       "      <td>9</td>\n",
       "      <td>Medroxyprogesterone</td>\n",
       "      <td>Abnormal Uterine Bleeding</td>\n",
       "      <td>\"I&amp;#039;m a 30 year old woman. I got the shot ...</td>\n",
       "      <td>2</td>\n",
       "      <td>21-Oct-15</td>\n",
       "      <td>5</td>\n",
       "    </tr>\n",
       "    <tr>\n",
       "      <th>9</th>\n",
       "      <td>10</td>\n",
       "      <td>Medroxyprogesterone</td>\n",
       "      <td>Abnormal Uterine Bleeding</td>\n",
       "      <td>\"I&amp;#039;m 17 years old and I got shot in Augus...</td>\n",
       "      <td>7</td>\n",
       "      <td>20-Oct-15</td>\n",
       "      <td>2</td>\n",
       "    </tr>\n",
       "  </tbody>\n",
       "</table>\n",
       "</div>"
      ],
      "text/plain": [
       "   uniqueid             drugname                  condition  \\\n",
       "0         0  Medroxyprogesterone  Abnormal Uterine Bleeding   \n",
       "1         2  Medroxyprogesterone                 Amenorrhea   \n",
       "2         3  Medroxyprogesterone  Abnormal Uterine Bleeding   \n",
       "3         4  Medroxyprogesterone              Birth Control   \n",
       "4         5  Medroxyprogesterone  Abnormal Uterine Bleeding   \n",
       "5         6  Medroxyprogesterone              Birth Control   \n",
       "6         7  Medroxyprogesterone  Abnormal Uterine Bleeding   \n",
       "7         8  Medroxyprogesterone  Abnormal Uterine Bleeding   \n",
       "8         9  Medroxyprogesterone  Abnormal Uterine Bleeding   \n",
       "9        10  Medroxyprogesterone  Abnormal Uterine Bleeding   \n",
       "\n",
       "                                              review  rating       date  \\\n",
       "0  \"Been on the depo injection since January 2015...       3  28-Oct-15   \n",
       "1  \"I&#039;m 21 years old and recently found out ...      10  27-Oct-15   \n",
       "2  \"I have been on the shot 11 years and until a ...       8  27-Oct-15   \n",
       "3  \"Ive had four shots at this point. I was on bi...       9  26-Oct-15   \n",
       "4  \"I had a total of 3 shots. I got my first one ...       1  25-Oct-15   \n",
       "5  \"This is a horrible shot!! I got my first shot...       1  24-Oct-15   \n",
       "6  \"I&#039;m 18 and got this for heavy bleeding. ...       5  22-Oct-15   \n",
       "7  \"Im 19 and have been having heavy and painful ...       5  21-Oct-15   \n",
       "8  \"I&#039;m a 30 year old woman. I got the shot ...       2  21-Oct-15   \n",
       "9  \"I&#039;m 17 years old and I got shot in Augus...       7  20-Oct-15   \n",
       "\n",
       "   usefulcount  \n",
       "0            4  \n",
       "1           11  \n",
       "2            7  \n",
       "3           12  \n",
       "4            4  \n",
       "5            3  \n",
       "6            6  \n",
       "7            2  \n",
       "8            5  \n",
       "9            2  "
      ]
     },
     "execution_count": 16,
     "metadata": {},
     "output_type": "execute_result"
    }
   ],
   "source": [
    "# Sorting the dataframe by uniqueID \n",
    "df_data = df_data.sort_values(by=['uniqueid'])  \n",
    "df_data.reset_index(inplace=True, drop=True) \n",
    "df_data.head(10) "
   ]
  },
  {
   "cell_type": "code",
   "execution_count": 17,
   "metadata": {},
   "outputs": [
    {
     "name": "stdout",
     "output_type": "stream",
     "text": [
      "916 \n",
      "\n",
      "some of the conditions are: \n",
      " ['Abnormal Uterine Bleeding' 'Amenorrhea' 'Birth Control' 'Endometriosis'\n",
      " 'Endometrial Hyperplasia, Prophylaxis' 'Renal Cell Carcinoma'\n",
      " 'Not Listed / Othe' 'Eye Redness' 'Benign Prostatic Hyperplasia' 'Acne'] \n",
      "\n"
     ]
    }
   ],
   "source": [
    "# Total unique conditions in the dataset \n",
    "print(df_data['condition'].nunique(), \"\\n\") \n",
    "print(\"some of the conditions are: \\n\", df_data['condition'].unique()[0:10], \"\\n\")  "
   ]
  },
  {
   "cell_type": "code",
   "execution_count": 18,
   "metadata": {},
   "outputs": [
    {
     "data": {
      "text/plain": [
       "drugname\n",
       "Miconazole                            767\n",
       "Ethinyl estradiol / norethindrone     728\n",
       "Etonogestrel                          707\n",
       "Levonorgestrel                        511\n",
       "Nexplanon                             504\n",
       "Ethinyl estradiol / norgestimate      464\n",
       "Medroxyprogesterone                   443\n",
       "Depo-Provera                          417\n",
       "Tioconazole                           410\n",
       "Ethinyl estradiol / levonorgestrel    385\n",
       "Name: count, dtype: int64"
      ]
     },
     "execution_count": 18,
     "metadata": {},
     "output_type": "execute_result"
    }
   ],
   "source": [
    "# top 10 drugs with rating equals 1  \n",
    "df_data[df_data['rating']==1]['drugname'].value_counts().head(10) "
   ]
  },
  {
   "cell_type": "code",
   "execution_count": 19,
   "metadata": {},
   "outputs": [
    {
     "data": {
      "image/png": "[encoded data removed]",
      "text/plain": [
       "<Figure size 1000x500 with 1 Axes>"
      ]
     },
     "metadata": {},
     "output_type": "display_data"
    }
   ],
   "source": [
    "df_data.loc[df_data.usefulcount==0, 'drugname'].value_counts()[:10].plot(kind='barh', figsize=(10,5), color='green') \n",
    "plt.title('Top 10 drugs with no useful count') \n",
    "plt.xlabel('Count')\n",
    "plt.ylabel('Drug Name')\n",
    "plt.show() "
   ]
  },
  {
   "cell_type": "code",
   "execution_count": 20,
   "metadata": {},
   "outputs": [
    {
     "name": "stdout",
     "output_type": "stream",
     "text": [
      "1\n"
     ]
    }
   ],
   "source": [
    "# minimum rating in the dataset \n",
    "min_rating = min(df_data['rating']) \n",
    "print(min_rating)  "
   ]
  },
  {
   "cell_type": "code",
   "execution_count": 21,
   "metadata": {},
   "outputs": [],
   "source": [
    "# Converting the date in to date time format \n",
    "df_data['date'] = pd.to_datetime(df_data['date']) "
   ]
  },
  {
   "cell_type": "markdown",
   "metadata": {},
   "source": [
    "# Exploratory Data Analysis "
   ]
  },
  {
   "cell_type": "code",
   "execution_count": 22,
   "metadata": {},
   "outputs": [
    {
     "data": {
      "image/png": "[encoded data removed]",
      "text/plain": [
       "<Figure size 1500x800 with 1 Axes>"
      ]
     },
     "metadata": {},
     "output_type": "display_data"
    }
   ],
   "source": [
    "# This barplot shows the top 20 drugs with the 10/10 rating\n",
    "\n",
    "# Setting the Parameters\n",
    "sns.set(font_scale = 1.2, style = 'darkgrid')\n",
    "plt.rcParams['figure.figsize'] = [15, 8]\n",
    "\n",
    "rating = dict(df_data.loc[df_data.rating == 10, \"drugname\"].value_counts())\n",
    "drugname = list(rating.keys())\n",
    "drug_rating = list(rating.values())\n",
    "\n",
    "sns_rating = sns.barplot(x = drugname[0:20], y = drug_rating[0:20])\n",
    "\n",
    "sns_rating.set(title = 'Top 20 drugs with 10/10 rating', ylabel = 'Number of Ratings', xlabel = \"Drug Names\")\n",
    "plt.setp(sns_rating.get_xticklabels(), rotation=90); # Rotating the x-axis labels to 90 degrees "
   ]
  },
  {
   "cell_type": "code",
   "execution_count": null,
   "metadata": {},
   "outputs": [],
   "source": []
  }
 ],
 "metadata": {
  "kernelspec": {
   "display_name": "base",
   "language": "python",
   "name": "python3"
  },
  "language_info": {
   "codemirror_mode": {
    "name": "ipython",
    "version": 3
   },
   "file_extension": ".py",
   "mimetype": "text/x-python",
   "name": "python",
   "nbconvert_exporter": "python",
   "pygments_lexer": "ipython3",
   "version": "3.9.17"
  },
  "orig_nbformat": 4
 },
 "nbformat": 4,
 "nbformat_minor": 2
}
