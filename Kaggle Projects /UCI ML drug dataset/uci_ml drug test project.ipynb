{
 "cells": [
  {
   "cell_type": "code",
   "execution_count": 6,
   "metadata": {},
   "outputs": [],
   "source": [
    "# # Importing the Required Libraries\n",
    "\n",
    "# import pandas as pd\n",
    "# import numpy as np\n",
    "# import seaborn as sns\n",
    "# import matplotlib.pyplot as plt\n",
    "# from wordcloud import WordCloud\n",
    "# from textblob import TextBlob\n",
    "# from nltk.corpus import stopwords\n",
    "# from collections import Counter\n",
    "# import warnings; warnings.simplefilter('ignore')\n",
    "# import nltk\n",
    "# import re\n",
    "# import string\n",
    "# from string import punctuation\n",
    "# from nltk import ngrams\n",
    "# from nltk.tokenize import word_tokenize \n",
    "# from nltk.stem import SnowballStemmer\n",
    "\n",
    "# from sklearn.preprocessing import LabelEncoder\n",
    "# from xgboost import XGBClassifier\n",
    "# from lightgbm import LGBMModel,LGBMClassifier, plot_importance\n",
    "# from catboost import CatBoostClassifier\n",
    "# from sklearn.metrics import confusion_matrix, accuracy_score, classification_report\n",
    "# from sklearn.model_selection import train_test_split\n",
    "\n",
    "# stop_words = set(stopwords.words('english'))\n",
    "# punctuation = punctuation + '\"\"“”’' + '∞θ÷α•à−β∅³π‘₹´°£€\\×™√²—–&'"
   ]
  },
  {
   "cell_type": "code",
   "execution_count": 7,
   "metadata": {},
   "outputs": [],
   "source": [
    "# UCI ML drug dataset\n",
    "\n",
    "# Importing the datasets\n",
    "\n",
    "# df_train = pd.read_csv(\"/kaggle/input/kuc-hackathon-winter-2018/drugsComTrain_raw.csv\")\n",
    "# df_test = pd.read_csv(\"/kaggle/input/kuc-hackathon-winter-2018/drugsComTest_raw.csv\") \n",
    "\n",
    "# print (\"The shape of the train set given is : \", df_train.shape)\n",
    "# print (\"The shape of the test set given is : \", df_test.shape)\n",
    "\n",
    "# df_train.head()"
   ]
  },
  {
   "cell_type": "code",
   "execution_count": 8,
   "metadata": {},
   "outputs": [],
   "source": [
    "# Data types\n",
    "# df_train.dtypes"
   ]
  },
  {
   "cell_type": "code",
   "execution_count": 3,
   "metadata": {},
   "outputs": [],
   "source": [
    "# Merging the test and train data \n",
    "# merge = [df_train, df_test]\n",
    "# df_data = pd.concat(merge)\n",
    "\n",
    "# print (df_data.shape)\n",
    "\n",
    "# df_data.head(10)"
   ]
  },
  {
   "cell_type": "code",
   "execution_count": 9,
   "metadata": {},
   "outputs": [],
   "source": [
    "# df_data.describe()"
   ]
  },
  {
   "cell_type": "code",
   "execution_count": 5,
   "metadata": {},
   "outputs": [],
   "source": [
    "# Null values\n",
    "# print (\"Null values in the dataset : \", df_data.isnull().sum(axis = 0))"
   ]
  }
 ],
 "metadata": {
  "kernelspec": {
   "display_name": "base",
   "language": "python",
   "name": "python3"
  },
  "language_info": {
   "codemirror_mode": {
    "name": "ipython",
    "version": 3
   },
   "file_extension": ".py",
   "mimetype": "text/x-python",
   "name": "python",
   "nbconvert_exporter": "python",
   "pygments_lexer": "ipython3",
   "version": "3.9.7"
  },
  "orig_nbformat": 4
 },
 "nbformat": 4,
 "nbformat_minor": 2
}
