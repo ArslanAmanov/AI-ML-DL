{
 "cells": [
  {
   "cell_type": "markdown",
   "metadata": {},
   "source": [
    "# EDA Sentiment Analyses "
   ]
  },
  {
   "cell_type": "code",
   "execution_count": null,
   "metadata": {},
   "outputs": [],
   "source": [
    "# Importing the Required Libraries\n",
    "\n",
    "import pandas as pd\n",
    "import numpy as np\n",
    "import seaborn as sns\n",
    "import matplotlib.pyplot as plt\n",
    "from wordcloud import WordCloud\n",
    "from textblob import TextBlob\n",
    "import nltk.corpus as stopwords \n",
    "from collections import Counter\n",
    "import warnings; warnings.simplefilter('ignore')\n",
    "import nltk\n",
    "import re\n",
    "import string\n",
    "from string import punctuation \n",
    "from nltk.stem import SnowballStemmer \n",
    "from nltk.corpus import stopwords \n",
    "\n",
    "from sklearn.preprocessing import LabelEncoder   \n",
    "import xgboost as xgb\n",
    "from sklearn.metrics import confusion_matrix, accuracy_score, classification_report\n",
    "from sklearn.model_selection import train_test_split\n",
    "\n",
    "stop_words = set(stopwords.words('english'))\n",
    "punctuation = punctuation + '\"\"“”’' + '∞θ÷α•à−β∅³π‘₹´°£€\\×™√²—–&o' "
   ]
  },
  {
   "cell_type": "code",
   "execution_count": null,
   "metadata": {},
   "outputs": [],
   "source": [
    "#UCI ML drug dataset\n",
    "\n",
    "#Importing the datasets and libraries \n",
    "\n",
    "df_train = pd.read_csv(\"drugsComTrain_raw.csv\")\n",
    "df_test = pd.read_csv(\"drugsComTest_raw.csv\") \n",
    "\n",
    "print (\"The shape of the train set given is : \", df_train.shape)\n",
    "print (\"The shape of the test set given is : \", df_test.shape)\n",
    "\n",
    "df_train.head() #printing the first 5 rows of the train set"
   ]
  },
  {
   "cell_type": "code",
   "execution_count": null,
   "metadata": {},
   "outputs": [],
   "source": [
    "# Data types\n",
    "print(df_train.dtypes)  # data types of each column in the dataset  "
   ]
  },
  {
   "cell_type": "code",
   "execution_count": null,
   "metadata": {},
   "outputs": [],
   "source": [
    "#Merging the test and train data \n",
    "merge = [df_train, df_test]\n",
    "df_data = pd.concat(merge)\n",
    "\n",
    "print (df_data.shape)\n",
    "\n",
    "df_data.head(10) "
   ]
  },
  {
   "cell_type": "code",
   "execution_count": null,
   "metadata": {},
   "outputs": [],
   "source": [
    "df_data.describe() "
   ]
  },
  {
   "cell_type": "code",
   "execution_count": null,
   "metadata": {},
   "outputs": [],
   "source": [
    "# Null values\n",
    "print (\"Null values in the dataset : \", df_data.isnull().sum(axis = 0)) "
   ]
  },
  {
   "cell_type": "code",
   "execution_count": null,
   "metadata": {},
   "outputs": [],
   "source": [
    "df_data.describe() "
   ]
  },
  {
   "cell_type": "code",
   "execution_count": null,
   "metadata": {},
   "outputs": [],
   "source": [
    "# Calculating what percentage of data is null \n",
    "\n",
    "size = df_data.shape[0] \n",
    "\n",
    "print(\"Total Size of the dataset : \", size)  \n",
    "\n",
    "total_na = df_data.isnull().sum(axis=0)['condition'] \n",
    "print(\"Null values\", total_na) \n",
    "\n",
    "print(\"Percentage of null values : \", (total_na/size)*100)  "
   ]
  },
  {
   "cell_type": "code",
   "execution_count": null,
   "metadata": {},
   "outputs": [],
   "source": [
    "# Dropping the data points with null values as it's very much less than 5% of the total data points and also the data is not time series data \n",
    "# so we can drop the data points with null values without any problem \n",
    "df_data  = df_data.dropna(how='any',axis=0)  \n",
    "print(\"The shape of the data after dropping the null values is : \",df_data.shape) # printing the shape of the data after dropping the null values "
   ]
  },
  {
   "cell_type": "code",
   "execution_count": null,
   "metadata": {},
   "outputs": [],
   "source": [
    "# lowercasing the column names so it will be easier to work with them \n",
    "df_data.columns = df_data.columns.str.lower()  "
   ]
  },
  {
   "cell_type": "code",
   "execution_count": null,
   "metadata": {},
   "outputs": [],
   "source": [
    "df_data.columns"
   ]
  },
  {
   "cell_type": "code",
   "execution_count": null,
   "metadata": {},
   "outputs": [],
   "source": [
    "# Sorting the dataframe by uniqueID \n",
    "df_data = df_data.sort_values(by=['uniqueid'])  \n",
    "df_data.reset_index(inplace=True, drop=True) \n",
    "df_data.head(10) "
   ]
  },
  {
   "cell_type": "code",
   "execution_count": null,
   "metadata": {},
   "outputs": [],
   "source": [
    "# Total unique conditions in the dataset \n",
    "print(df_data['condition'].nunique(), \"\\n\") \n",
    "print(\"some of the conditions are: \\n\", df_data['condition'].unique()[0:10], \"\\n\")  "
   ]
  },
  {
   "cell_type": "code",
   "execution_count": null,
   "metadata": {},
   "outputs": [],
   "source": [
    "# top 10 drugs with rating equals 1  \n",
    "df_data[df_data['rating']==1]['drugname'].value_counts().head(10) "
   ]
  },
  {
   "cell_type": "code",
   "execution_count": null,
   "metadata": {},
   "outputs": [],
   "source": [
    "df_data.loc[df_data.usefulcount==0, 'drugname'].value_counts()[:10].plot(kind='barh', figsize=(10,5), color='green') \n",
    "plt.title('Top 10 drugs with no useful count') \n",
    "plt.xlabel('Count')\n",
    "plt.ylabel('Drug Name')\n",
    "plt.show() "
   ]
  },
  {
   "cell_type": "code",
   "execution_count": null,
   "metadata": {},
   "outputs": [],
   "source": [
    "# minimum rating in the dataset \n",
    "min_rating = min(df_data['rating']) \n",
    "print(min_rating)  "
   ]
  },
  {
   "cell_type": "code",
   "execution_count": null,
   "metadata": {},
   "outputs": [],
   "source": [
    "# Converting the date in to date time format \n",
    "df_data['date'] = pd.to_datetime(df_data['date']) "
   ]
  },
  {
   "cell_type": "markdown",
   "metadata": {},
   "source": [
    "# Exploratory Data Analysis "
   ]
  },
  {
   "cell_type": "code",
   "execution_count": null,
   "metadata": {},
   "outputs": [],
   "source": [
    "# This barplot shows the top 20 drugs with the 10/10 rating\n",
    "\n",
    "# Setting the Parameters\n",
    "sns.set(font_scale = 1.2, style = 'darkgrid')\n",
    "plt.rcParams['figure.figsize'] = [15, 8]\n",
    "\n",
    "rating = dict(df_data.loc[df_data.rating == 10, \"drugname\"].value_counts())\n",
    "drugname = list(rating.keys())\n",
    "drug_rating = list(rating.values())\n",
    "\n",
    "sns_rating = sns.barplot(x = drugname[0:20], y = drug_rating[0:20])\n",
    "\n",
    "sns_rating.set(title = 'Top 20 drugs with 10/10 rating', ylabel = 'Number of Ratings', xlabel = \"Drug Names\")\n",
    "plt.setp(sns_rating.get_xticklabels(), rotation=90); # Rotating the x-axis labels to 90 degrees "
   ]
  },
  {
   "cell_type": "code",
   "execution_count": null,
   "metadata": {},
   "outputs": [],
   "source": [
    "# This barplot shows the Top 20 drugs with the 1/10 rating \n",
    "\n",
    "# setting parameter \n",
    "sns.set(font_scale=1.5, style=\"whitegrid\") \n",
    "plt.rcParams['figure.figsize'] = (20, 10) \n",
    "\n",
    "rating = dict(df_data.loc[df_data.rating==1, 'drugname'].value_counts()) \n",
    "\n",
    "drugname = list(rating.keys()) \n",
    "\n",
    "sns_rating = sns.barplot(x=drugname[:20], y=list(rating.values())[:20], palette=\"Reds_d\") \n",
    "sns_rating.set_xticklabels(sns_rating.get_xticklabels(), rotation=90) \n",
    "sns_rating.set_title(\"Top 20 drugs with the 1/10 rating\") \n",
    "sns_rating.set_ylabel(\"Number of ratings\") \n",
    "sns_rating.set_xlabel(\"Drug name\")  "
   ]
  },
  {
   "cell_type": "code",
   "execution_count": null,
   "metadata": {},
   "outputs": [],
   "source": [
    "# A counplot of the ratings so we can see the distribution of the ratings in the dataset \n",
    "plt.rcParams['figure.figsize'] = (15, 9) # setting the figure size \n",
    "sns.set(style = 'darkgrid', font_scale = 1.3) # setting the style of the plot and the font size \n",
    "fig, ax = plt.subplots(1, 2) # creating a figure and axes object  \n",
    "\n",
    "sns_1 = sns.countplot(df_data['rating'], palette='magma', order=list(range(10, 0, -1)), ax=ax[0]) # creating a countplot for the ratings \n",
    "sns_1.set_title('Countplot of the ratings', fontsize=20) # setting the title of the plot \n",
    "sns_1.set_xlabel('Ratings', fontsize=16) # setting the x label of the plot\n",
    "\n",
    "#sns_2 = sns.displot(df_data['rating']) # creating a distplot for the ratings \n",
    "#sns_2.set_title('Distplot of the ratings', fontsize=20) # setting the title of the plot \n",
    "#sns_2.set_xlabel('Ratings', fontsize=16) # setting the x label of the plot \n"
   ]
  },
  {
   "cell_type": "code",
   "execution_count": null,
   "metadata": {},
   "outputs": [],
   "source": [
    "# word cloud of the reviews with rating equal to 10  \n",
    "\n",
    "df_rate_ten = df_data.loc[df_data['rating'] == 10, 'review'] # selecting the reviews with rating equal to 10 \n",
    "k = (' '.join(df_rate_ten)) # joining all the reviews into a single string \n",
    "wordcloud = WordCloud(width = 1000, height = 500, background_color='white').generate(k) # creating the word cloud  \n",
    "plt.figure(figsize=(15,8)) # setting the figure size \n",
    "plt.imshow(wordcloud, interpolation=\"bilinear\") # displaying the word cloud  \n",
    "plt.axis(\"off\"); # removing the axis  "
   ]
  },
  {
   "cell_type": "code",
   "execution_count": null,
   "metadata": {},
   "outputs": [],
   "source": [
    "# Word cloud of the reviews with rating eqaul to 1 \n",
    "df_rate_one = df_data.loc[df_data.rating ==1, 'review']  \n",
    "k1 = ' '.join(df_rate_one) \n",
    "wordcloud = WordCloud(width = 800, height = 800,).generate(k1)  \n",
    "plt.figure(figsize = (8, 8), facecolor = None) \n",
    "plt.imshow(wordcloud, interpolation=\"bilinear\") \n",
    "plt.axis(\"off\"); "
   ]
  },
  {
   "cell_type": "code",
   "execution_count": null,
   "metadata": {},
   "outputs": [],
   "source": [
    "# This barplot shows the mean rating of the drugs per year \n",
    "# The mean rating of the drugs is calculated by taking the mean of the rating of the drugs per year \n",
    "\n",
    "mean_rating = dict(df_data.groupby(df_data['date'].dt.year)['rating'].mean()) \n",
    "plt.rcParams['figure.figsize'] = (15, 5) \n",
    "sns.set(font_scale = 1.2, style='darkgrid') \n",
    "sns= sns.barplot(x=list(mean_rating.keys()), y=list(mean_rating.values()), color='orange') \n",
    "plt.xlabel('Year', fontsize=15) \n",
    "plt.ylabel('Mean Rating', fontsize=15) \n",
    "plt.title('Mean Rating of the Drugs per Year', fontsize=18) "
   ]
  },
  {
   "cell_type": "code",
   "execution_count": null,
   "metadata": {},
   "outputs": [],
   "source": [
    "# This barplot show the Top 10 conditions of the people are suffering from. \n",
    "\n",
    "cond=dict(df_data['condition'].value_counts()) # dict of conditions and their count \n",
    "cond=dict(sorted(cond.items(), key=lambda x: x[1], reverse=True)) # sorting the dict in descending order \n",
    "cond=dict(list(cond.items())[0:10]) # slicing the dict to get top 10 conditions \n",
    "plt.figure(figsize=(10,5)) \n",
    "plt.bar(cond.keys(),cond.values(),color='green') \n",
    "plt.xticks(rotation=90) \n",
    "plt.xlabel('Conditions')\n",
    "plt.ylabel('Count')\n",
    "plt.title('Top 10 conditions of the people are suffering from') \n",
    "plt.show()\n"
   ]
  },
  {
   "cell_type": "code",
   "execution_count": null,
   "metadata": {},
   "outputs": [],
   "source": [
    "# Top 10 drugs which are used for the Top condition, that is Birth Control \n",
    "# Top 10 drugs which are used for the top condition, that is Birth Control \n",
    "import seaborn as sns \n",
    "\n",
    "df = df_data[df_data['condition'] == 'Birth Control']['drugname'].value_counts()[0: 10]\n",
    "sns.set(font_scale = 1.5, style = 'whitegrid')\n",
    "sns_ = sns.barplot(x = df.index, y = df.values, palette = 'summer')\n",
    "sns_.set_xlabel('Drug Names')\n",
    "sns_.set_title(\"Top 10 Drugs used for Birth Control\")\n",
    "plt.setp(sns_.get_xticklabels(), rotation = 90);   "
   ]
  },
  {
   "cell_type": "code",
   "execution_count": null,
   "metadata": {},
   "outputs": [],
   "source": [
    "#! pip upgrade seaborn # to upgrade seaborn\n",
    "#! pip install seaborn==0.11.0 # to install specific version of seaborn"
   ]
  },
  {
   "cell_type": "code",
   "execution_count": null,
   "metadata": {},
   "outputs": [],
   "source": [
    "# # Distribution of the useful count \n",
    "# import seaborn as sns \n",
    "# sns.set(style=\"whitegrid\", font_scale=1.5) \n",
    "# plt.rcParams['figure.figsize'] = [20, 10]\n",
    "# sns.distplot(df_data['usefulcount'].dropna())\n",
    "# Libaraies error "
   ]
  },
  {
   "cell_type": "code",
   "execution_count": null,
   "metadata": {},
   "outputs": [],
   "source": [
    "df_data.columns"
   ]
  },
  {
   "cell_type": "code",
   "execution_count": null,
   "metadata": {},
   "outputs": [],
   "source": [
    "# This barplot shows the number of reviews per year \n",
    "df_bar = df_data['date'].dt.year.value_counts() \n",
    "df_bar = df_bar.sort_index() \n",
    "sns_=sns.barplot(x= df_bar.index, y=df_bar.values,  color='mediumaquamarine') \n",
    "sns_.set_title('Number of reviews per year', fontsize=15) \n",
    "sns_.set_xlabel('Year', fontsize=15); "
   ]
  },
  {
   "cell_type": "code",
   "execution_count": null,
   "metadata": {},
   "outputs": [],
   "source": [
    "# Heatmap of the correlation matrix \n",
    "import matplotlib.pyplot as plt \n",
    "import seaborn as sns \n",
    "plt.rcParams['figure.figsize'] = (12, 6) # set the figure size\n",
    "corr = df_data.select_dtypes(include = ['float64', 'int64']).corr() # select the numerical columns \n",
    "sns_heat=sns.heatmap(corr, annot=True, vmin=-1, vmax=1, center=0, cmap=sns.diverging_palette(20, 220, n=200), square=True);  # plot the heatmap\n",
    "plt.setp(sns_heat.get_xticklabels(), rotation=45); # rotate the x-axis labels to 45 degrees"
   ]
  },
  {
   "cell_type": "markdown",
   "metadata": {},
   "source": [
    "# Unigrams "
   ]
  },
  {
   "cell_type": "code",
   "execution_count": null,
   "metadata": {},
   "outputs": [],
   "source": [
    "# # Top 20 unigrams according to the rating\n",
    "# from nltk import ngrams\n",
    "# from nltk.tokenize import word_tokenize    \n",
    "# from collections import Counter \n",
    "# import seaborn as sns\n",
    "# import matplotlib.pyplot as plt\n",
    "# import pandas as pd\n",
    "# import numpy as np  \n",
    "\n",
    "# df_ = df_data[['rating', 'review']] \n",
    "# df_['reveiew']= df_data['review'].str.replace(\"&#039;\", \"\") \n",
    "# df_['review']= df_['review'].str.replace(r'[^\\w\\d\\s]',' ') \n",
    "\n",
    "# df_review_5 = \" \".join(df_.loc[df_.rating<=5, 'review']) \n",
    "# df_review_10 = \" \".join(df_.loc[df_.rating>5, 'review']) \n",
    "\n",
    "# token_review_5 = word_tokenize(df_review_5) \n",
    "# token_review_10 = word_tokenize(df_review_10) \n",
    "\n",
    "# unigram_5 = ngrams(token_review_5, 1) \n",
    "# unigram_10 = ngrams(token_review_10, 1)\n",
    "\n",
    "# frequency_5 = Counter(unigram_5) \n",
    "# frequency_10 = Counter(unigram_10) \n",
    "\n",
    "# df_5 = pd.DataFrame(frequency_5.most_common(20)) \n",
    "# df_10 = pd.DataFrame(frequency_10.most_common(20)) \n",
    "\n",
    "# # Barplot for top 20 unigrams for rating  <=5 \n",
    "\n",
    "# plt.rcParams['figure.figsize'] = (15, 5) \n",
    "# fig, ax = plt.subplots(1, 2) \n",
    "# sns.set(font_scale = 1.5, style = 'whitegrid') \n",
    "\n",
    "# sns_5=sns.barplot(x=df_5[1], y=df_5[0], color='lightblue', ax=ax[0])\n",
    "# sns_10=sns.barplot(x=df_10[1], y=df_10[0], color='lightblue', ax=ax[1])  \n",
    "\n",
    "# # Setting axes labels \n",
    "# sns_5.set_title('Top 20 unigrams for rating <=5')  \n",
    "# sns_10.set_title('Top 20 unigrams for rating >5') \n",
    "# sns_5.set_ylabel('Unigrams');\n"
   ]
  },
  {
   "cell_type": "code",
   "execution_count": null,
   "metadata": {},
   "outputs": [],
   "source": [
    "# # Top 20 bigrams according to the rating \n",
    "# from wordcloud import WordCloud \n",
    "# from nltk import ngrams \n",
    "# from collections import Counter \n",
    "# import matplotlib.pyplot as plt \n",
    "# import seaborn as sns\n",
    "# import pandas as pd\n",
    "# from textblob import TextBlob \n",
    "# from nltk.corpus import stopwords  \n",
    "# from nltk.tokenize import word_tokenize \n",
    "# import nltk \n",
    "# import re \n",
    "# import string \n",
    "# import warnings \n",
    "# warnings.filterwarnings(\"ignore\") \n",
    "# from nltk.stem import WordNetLemmatizer \n",
    "# from nltk.stem import PorterStemmer \n",
    "# from nltk.stem import SnowballStemmer \n",
    "\n",
    "\n",
    "# # Top 20 unigrams according to the rating\n",
    "# df_ = df_data[['rating', 'review']]\n",
    "# df_['review'] = df_data['review'].str.replace(\"&#039;\", \"\")\n",
    "# df_['review'] = df_['review'].str.replace(r'[^\\w\\d\\s]',' ')\n",
    "\n",
    "# df_review_5 = \" \".join(df_.loc[df_.rating <= 5, 'review'])\n",
    "# df_review_10 = \" \".join(df_.loc[df_.rating > 5, 'review'])\n",
    "\n",
    "# token_review_5 = word_tokenize(df_review_5)\n",
    "# token_review_10 = word_tokenize(df_review_10) \n",
    "\n",
    "# token_review_10 = word_tokenize(df_review_10) \n",
    "# token_review_5 = word_tokenize(df_review_5) \n",
    "\n",
    "\n",
    "# bigrams_5 = ngrams(token_review_5, 2)\n",
    "# bigrams_10 = ngrams(token_review_10, 2)\n",
    "\n",
    "# frequency_5 = Counter(bigrams_5)\n",
    "# frequency_10 = Counter(bigrams_10)\n",
    "\n",
    "# df_5 = pd.DataFrame(frequency_5.most_common(20))\n",
    "# df_10 = pd.DataFrame(frequency_10.most_common(20))\n",
    "\n",
    "# # Barplot that shows the top 20 bigrams\n",
    "# plt.rcParams['figure.figsize'] = [22,11]\n",
    "# fig, ax = plt.subplots(1,2)\n",
    "# sns.set(font_scale = 1.3, style = 'whitegrid')\n",
    "\n",
    "# sns_5 = sns.barplot(x = df_5[1], y = df_5[0], color = 'red', ax = ax[0])\n",
    "# sns_10 = sns.barplot(x = df_10[1], y = df_10[0], color = 'red', ax = ax[1])\n",
    "\n",
    "# # Setting axes labels\n",
    "# sns_5.set_title(\"Top 20 bigrams according for rating <= 5\")\n",
    "# sns_10.set_title(\"Top 20 bigrams according for rating > 5\")\n",
    "# sns_5.set_ylabel(\"bigrams\");\n"
   ]
  },
  {
   "cell_type": "markdown",
   "metadata": {},
   "source": [
    "# Preprocessing "
   ]
  },
  {
   "cell_type": "code",
   "execution_count": null,
   "metadata": {},
   "outputs": [],
   "source": [
    "# We are going to use the threshold rating of 5 for giving the sentiment. \n",
    "# The review will have a positive sentiment (1) if rating>5 and negative sentiment otherwise. \n"
   ]
  }
 ],
 "metadata": {
  "kernelspec": {
   "display_name": "Python 3 (ipykernel)",
   "language": "python",
   "name": "python3"
  },
  "language_info": {
   "codemirror_mode": {
    "name": "ipython",
    "version": 3
   },
   "file_extension": ".py",
   "mimetype": "text/x-python",
   "name": "python",
   "nbconvert_exporter": "python",
   "pygments_lexer": "ipython3",
   "version": "3.9.17"
  }
 },
 "nbformat": 4,
 "nbformat_minor": 2
}
