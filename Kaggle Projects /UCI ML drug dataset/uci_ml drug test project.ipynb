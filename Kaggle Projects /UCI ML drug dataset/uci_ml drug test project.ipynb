{
 "cells": [
  {
   "cell_type": "markdown",
   "metadata": {},
   "source": [
    "# EDA Sentiment Analyses "
   ]
  },
  {
   "cell_type": "code",
   "execution_count": 5,
   "metadata": {},
   "outputs": [],
   "source": [
    "# Importing the Required Libraries\n",
    "\n",
    "import pandas as pd\n",
    "import numpy as np\n",
    "import seaborn as sns\n",
    "import matplotlib.pyplot as plt\n",
    "from wordcloud import WordCloud\n",
    "from textblob import TextBlob\n",
    "from nltk.corpus import stopwords \n",
    "from collections import Counter\n",
    "import warnings; warnings.simplefilter('ignore')\n",
    "import nltk\n",
    "import re\n",
    "import string\n",
    "from string import punctuation \n",
    "from nltk import ngrams\n",
    "from nltk.tokenize import word_tokenize \n",
    "from nltk.stem import SnowballStemmer \n",
    "\n",
    "from sklearn.preprocessing import LabelEncoder \n",
    "import xgboost as xgb\n",
    "from sklearn.metrics import confusion_matrix, accuracy_score, classification_report\n",
    "from sklearn.model_selection import train_test_split\n",
    "\n",
    "stop_words = set(stopwords.words('english'))\n",
    "punctuation = punctuation + '\"\"“”’' + '∞θ÷α•à−β∅³π‘₹´°£€\\×™√²—–&o' \n"
   ]
  },
  {
   "cell_type": "code",
   "execution_count": 6,
   "metadata": {},
   "outputs": [
    {
     "name": "stdout",
     "output_type": "stream",
     "text": [
      "The shape of the train set given is :  (161297, 7)\n",
      "The shape of the test set given is :  (53766, 7)\n"
     ]
    },
    {
     "data": {
      "text/html": [
       "<div>\n",
       "<style scoped>\n",
       "    .dataframe tbody tr th:only-of-type {\n",
       "        vertical-align: middle;\n",
       "    }\n",
       "\n",
       "    .dataframe tbody tr th {\n",
       "        vertical-align: top;\n",
       "    }\n",
       "\n",
       "    .dataframe thead th {\n",
       "        text-align: right;\n",
       "    }\n",
       "</style>\n",
       "<table border=\"1\" class=\"dataframe\">\n",
       "  <thead>\n",
       "    <tr style=\"text-align: right;\">\n",
       "      <th></th>\n",
       "      <th>uniqueID</th>\n",
       "      <th>drugName</th>\n",
       "      <th>condition</th>\n",
       "      <th>review</th>\n",
       "      <th>rating</th>\n",
       "      <th>date</th>\n",
       "      <th>usefulCount</th>\n",
       "    </tr>\n",
       "  </thead>\n",
       "  <tbody>\n",
       "    <tr>\n",
       "      <th>0</th>\n",
       "      <td>206461</td>\n",
       "      <td>Valsartan</td>\n",
       "      <td>Left Ventricular Dysfunction</td>\n",
       "      <td>\"It has no side effect, I take it in combinati...</td>\n",
       "      <td>9</td>\n",
       "      <td>20-May-12</td>\n",
       "      <td>27</td>\n",
       "    </tr>\n",
       "    <tr>\n",
       "      <th>1</th>\n",
       "      <td>95260</td>\n",
       "      <td>Guanfacine</td>\n",
       "      <td>ADHD</td>\n",
       "      <td>\"My son is halfway through his fourth week of ...</td>\n",
       "      <td>8</td>\n",
       "      <td>27-Apr-10</td>\n",
       "      <td>192</td>\n",
       "    </tr>\n",
       "    <tr>\n",
       "      <th>2</th>\n",
       "      <td>92703</td>\n",
       "      <td>Lybrel</td>\n",
       "      <td>Birth Control</td>\n",
       "      <td>\"I used to take another oral contraceptive, wh...</td>\n",
       "      <td>5</td>\n",
       "      <td>14-Dec-09</td>\n",
       "      <td>17</td>\n",
       "    </tr>\n",
       "    <tr>\n",
       "      <th>3</th>\n",
       "      <td>138000</td>\n",
       "      <td>Ortho Evra</td>\n",
       "      <td>Birth Control</td>\n",
       "      <td>\"This is my first time using any form of birth...</td>\n",
       "      <td>8</td>\n",
       "      <td>3-Nov-15</td>\n",
       "      <td>10</td>\n",
       "    </tr>\n",
       "    <tr>\n",
       "      <th>4</th>\n",
       "      <td>35696</td>\n",
       "      <td>Buprenorphine / naloxone</td>\n",
       "      <td>Opiate Dependence</td>\n",
       "      <td>\"Suboxone has completely turned my life around...</td>\n",
       "      <td>9</td>\n",
       "      <td>27-Nov-16</td>\n",
       "      <td>37</td>\n",
       "    </tr>\n",
       "  </tbody>\n",
       "</table>\n",
       "</div>"
      ],
      "text/plain": [
       "   uniqueID                  drugName                     condition  \\\n",
       "0    206461                 Valsartan  Left Ventricular Dysfunction   \n",
       "1     95260                Guanfacine                          ADHD   \n",
       "2     92703                    Lybrel                 Birth Control   \n",
       "3    138000                Ortho Evra                 Birth Control   \n",
       "4     35696  Buprenorphine / naloxone             Opiate Dependence   \n",
       "\n",
       "                                              review  rating       date  \\\n",
       "0  \"It has no side effect, I take it in combinati...       9  20-May-12   \n",
       "1  \"My son is halfway through his fourth week of ...       8  27-Apr-10   \n",
       "2  \"I used to take another oral contraceptive, wh...       5  14-Dec-09   \n",
       "3  \"This is my first time using any form of birth...       8   3-Nov-15   \n",
       "4  \"Suboxone has completely turned my life around...       9  27-Nov-16   \n",
       "\n",
       "   usefulCount  \n",
       "0           27  \n",
       "1          192  \n",
       "2           17  \n",
       "3           10  \n",
       "4           37  "
      ]
     },
     "execution_count": 6,
     "metadata": {},
     "output_type": "execute_result"
    }
   ],
   "source": [
    "#UCI ML drug dataset\n",
    "\n",
    "#Importing the datasets and libraries \n",
    "\n",
    "df_train = pd.read_csv(\"drugsComTrain_raw.csv\")\n",
    "df_test = pd.read_csv(\"drugsComTest_raw.csv\") \n",
    "\n",
    "print (\"The shape of the train set given is : \", df_train.shape)\n",
    "print (\"The shape of the test set given is : \", df_test.shape)\n",
    "\n",
    "df_train.head() #printing the first 5 rows of the train set"
   ]
  },
  {
   "cell_type": "code",
   "execution_count": 8,
   "metadata": {},
   "outputs": [
    {
     "name": "stdout",
     "output_type": "stream",
     "text": [
      "uniqueID        int64\n",
      "drugName       object\n",
      "condition      object\n",
      "review         object\n",
      "rating          int64\n",
      "date           object\n",
      "usefulCount     int64\n",
      "dtype: object\n"
     ]
    }
   ],
   "source": [
    "# Data types\n",
    "print(df_train.dtypes)  # data types of each column in the dataset  "
   ]
  },
  {
   "cell_type": "code",
   "execution_count": null,
   "metadata": {},
   "outputs": [],
   "source": [
    "#Merging the test and train data \n",
    "merge = [df_train, df_test]\n",
    "df_data = pd.concat(merge)\n",
    "\n",
    "print (df_data.shape)\n",
    "\n",
    "df_data.head(10)"
   ]
  },
  {
   "cell_type": "code",
   "execution_count": null,
   "metadata": {},
   "outputs": [],
   "source": [
    "df_data.describe()"
   ]
  },
  {
   "cell_type": "code",
   "execution_count": null,
   "metadata": {},
   "outputs": [],
   "source": [
    "# Null values\n",
    "print (\"Null values in the dataset : \", df_data.isnull().sum(axis = 0))"
   ]
  },
  {
   "cell_type": "code",
   "execution_count": null,
   "metadata": {},
   "outputs": [],
   "source": [
    "df_data.describe() "
   ]
  },
  {
   "cell_type": "code",
   "execution_count": null,
   "metadata": {},
   "outputs": [],
   "source": [
    "# Calculating what percentage of data is null \n",
    "\n",
    "size = df_data.shape[0] \n",
    "\n",
    "print(\"Total Size of the dataset : \", size)  \n",
    "\n",
    "total_na = df_data.isnull().sum(axis=0)['condition'] \n",
    "print(\"Null values\", total_na) \n",
    "\n",
    "print(\"Percentage of null values : \", (total_na/size)*100)  "
   ]
  },
  {
   "cell_type": "code",
   "execution_count": null,
   "metadata": {},
   "outputs": [],
   "source": [
    "# Dropping the data points with null values as it's very much less than 5% of the total data points and also the data is not time series data \n",
    "# so we can drop the data points with null values without any problem \n",
    "df_data  = df_data.dropna(how='any',axis=0)  \n",
    "print(\"The shape of the data after dropping the null values is : \",df_data.shape) # printing the shape of the data after dropping the null values "
   ]
  },
  {
   "cell_type": "code",
   "execution_count": null,
   "metadata": {},
   "outputs": [],
   "source": [
    "# lowercasing the column names so it will be easier to work with them \n",
    "df_data.columns = df_data.columns.str.lower()  "
   ]
  },
  {
   "cell_type": "code",
   "execution_count": null,
   "metadata": {},
   "outputs": [],
   "source": [
    "df_data.columns"
   ]
  },
  {
   "cell_type": "code",
   "execution_count": null,
   "metadata": {},
   "outputs": [],
   "source": [
    "# Sorting the dataframe by uniqueID \n",
    "df_data = df_data.sort_values(by=['uniqueid'])  \n",
    "df_data.reset_index(inplace=True, drop=True) \n",
    "df_data.head(10) "
   ]
  },
  {
   "cell_type": "code",
   "execution_count": null,
   "metadata": {},
   "outputs": [],
   "source": [
    "# Total unique conditions in the dataset \n",
    "print(df_data['condition'].nunique(), \"\\n\") \n",
    "print(\"some of the conditions are: \\n\", df_data['condition'].unique()[0:10], \"\\n\")  "
   ]
  },
  {
   "cell_type": "code",
   "execution_count": null,
   "metadata": {},
   "outputs": [],
   "source": [
    "# top 10 drugs with rating equals 1  \n",
    "df_data[df_data['rating']==1]['drugname'].value_counts().head(10) "
   ]
  },
  {
   "cell_type": "code",
   "execution_count": null,
   "metadata": {},
   "outputs": [],
   "source": [
    "df_data.loc[df_data.usefulcount==0, 'drugname'].value_counts()[:10].plot(kind='barh', figsize=(10,5), color='green') \n",
    "plt.title('Top 10 drugs with no useful count') \n",
    "plt.xlabel('Count')\n",
    "plt.ylabel('Drug Name')\n",
    "plt.show() "
   ]
  },
  {
   "cell_type": "code",
   "execution_count": null,
   "metadata": {},
   "outputs": [],
   "source": [
    "# minimum rating in the dataset \n",
    "min_rating = min(df_data['rating']) \n",
    "print(min_rating)  "
   ]
  },
  {
   "cell_type": "code",
   "execution_count": null,
   "metadata": {},
   "outputs": [],
   "source": [
    "# Converting the date in to date time format \n",
    "df_data['date'] = pd.to_datetime(df_data['date']) "
   ]
  },
  {
   "cell_type": "markdown",
   "metadata": {},
   "source": [
    "# Exploratory Data Analysis "
   ]
  },
  {
   "cell_type": "code",
   "execution_count": null,
   "metadata": {},
   "outputs": [],
   "source": [
    "# This barplot shows the top 20 drugs with the 10/10 rating\n",
    "\n",
    "# Setting the Parameters\n",
    "sns.set(font_scale = 1.2, style = 'darkgrid')\n",
    "plt.rcParams['figure.figsize'] = [15, 8]\n",
    "\n",
    "rating = dict(df_data.loc[df_data.rating == 10, \"drugname\"].value_counts())\n",
    "drugname = list(rating.keys())\n",
    "drug_rating = list(rating.values())\n",
    "\n",
    "sns_rating = sns.barplot(x = drugname[0:20], y = drug_rating[0:20])\n",
    "\n",
    "sns_rating.set(title = 'Top 20 drugs with 10/10 rating', ylabel = 'Number of Ratings', xlabel = \"Drug Names\")\n",
    "plt.setp(sns_rating.get_xticklabels(), rotation=90); # Rotating the x-axis labels to 90 degrees "
   ]
  },
  {
   "cell_type": "code",
   "execution_count": null,
   "metadata": {},
   "outputs": [],
   "source": [
    "# This barplot shows the Top 20 drugs with the 1/10 rating \n",
    "\n",
    "# setting parameter \n",
    "sns.set(font_scale=1.5, style=\"whitegrid\") \n",
    "plt.rcParams['figure.figsize'] = (20, 10) \n",
    "\n",
    "rating = dict(df_data.loc[df_data.rating==1, 'drugname'].value_counts()) \n",
    "\n",
    "drugname = list(rating.keys()) \n",
    "\n",
    "sns_rating = sns.barplot(x=drugname[:20], y=list(rating.values())[:20], palette=\"Reds_d\") \n",
    "sns_rating.set_xticklabels(sns_rating.get_xticklabels(), rotation=90) \n",
    "sns_rating.set_title(\"Top 20 drugs with the 1/10 rating\") \n",
    "sns_rating.set_ylabel(\"Number of ratings\") \n",
    "sns_rating.set_xlabel(\"Drug name\") "
   ]
  },
  {
   "cell_type": "code",
   "execution_count": null,
   "metadata": {},
   "outputs": [],
   "source": [
    "# A counplot of the ratings so we can see the distribution of the ratings in the dataset \n",
    "plt.rcParams['figure.figsize'] = (15, 9) # setting the figure size \n",
    "sns.set(style = 'darkgrid', font_scale = 1.3) # setting the style of the plot and the font size \n",
    "fig, ax = plt.subplots(1, 2) # creating a figure and axes object  \n",
    "\n",
    "sns_1 = sns.countplot(df_data['rating'], palette='magma', order=list(range(10, 0, -1)), ax=ax[0]) # creating a countplot for the ratings \n",
    "sns_1.set_title('Countplot of the ratings', fontsize=20) # setting the title of the plot \n",
    "sns_1.set_xlabel('Ratings', fontsize=16) # setting the x label of the plot\n",
    "\n",
    "#sns_2 = sns.displot(df_data['rating']) # creating a distplot for the ratings \n",
    "#sns_2.set_title('Distplot of the ratings', fontsize=20) # setting the title of the plot \n",
    "#sns_2.set_xlabel('Ratings', fontsize=16) # setting the x label of the plot \n"
   ]
  },
  {
   "cell_type": "code",
   "execution_count": null,
   "metadata": {},
   "outputs": [],
   "source": []
  }
 ],
 "metadata": {
  "kernelspec": {
   "display_name": "base",
   "language": "python",
   "name": "python3"
  },
  "language_info": {
   "codemirror_mode": {
    "name": "ipython",
    "version": 3
   },
   "file_extension": ".py",
   "mimetype": "text/x-python",
   "name": "python",
   "nbconvert_exporter": "python",
   "pygments_lexer": "ipython3",
   "version": "3.9.17"
  },
  "orig_nbformat": 4
 },
 "nbformat": 4,
 "nbformat_minor": 2
}
