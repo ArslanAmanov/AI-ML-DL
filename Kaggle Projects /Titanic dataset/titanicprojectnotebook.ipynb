{
 "cells": [
  {
   "attachments": {},
   "cell_type": "markdown",
   "metadata": {},
   "source": [
    "Welcome to the Titanic Dataset Visualization Notebook! In this notebook, we will explore and visualize the famous \"Titanic: Machine Learning from Disaster\" dataset. This dataset contains information about the passengers aboard the Titanic, including their demographics, cabin class, ticket fare, and survival outcome.\n",
    "\n",
    "Throughout the notebook, we provide detailed descriptions for each plot, guiding you through the visualizations and highlighting the insights they reveal.\n",
    "\n",
    "Data visualization plays a crucial role in understanding and communicating patterns within the Titanic dataset. By the end of this notebook, you will have gained valuable insights into the passenger characteristics, survival rates, and potential correlations within the dataset.\n",
    "\n",
    "Let's dive in and explore the Titanic dataset through the power of data visualization!"
   ]
  },
  {
   "cell_type": "code",
   "execution_count": 1,
   "metadata": {},
   "outputs": [],
   "source": [
    "import pandas as pd \n",
    "import numpy as np\n",
    "import matplotlib.pyplot as plt\n",
    "import seaborn as sns  "
   ]
  },
  {
   "cell_type": "code",
   "execution_count": 2,
   "metadata": {},
   "outputs": [
    {
     "data": {
      "text/html": [
       "<div>\n",
       "<style scoped>\n",
       "    .dataframe tbody tr th:only-of-type {\n",
       "        vertical-align: middle;\n",
       "    }\n",
       "\n",
       "    .dataframe tbody tr th {\n",
       "        vertical-align: top;\n",
       "    }\n",
       "\n",
       "    .dataframe thead th {\n",
       "        text-align: right;\n",
       "    }\n",
       "</style>\n",
       "<table border=\"1\" class=\"dataframe\">\n",
       "  <thead>\n",
       "    <tr style=\"text-align: right;\">\n",
       "      <th></th>\n",
       "      <th>PassengerId</th>\n",
       "      <th>Survived</th>\n",
       "      <th>Pclass</th>\n",
       "      <th>Name</th>\n",
       "      <th>Sex</th>\n",
       "      <th>Age</th>\n",
       "      <th>SibSp</th>\n",
       "      <th>Parch</th>\n",
       "      <th>Ticket</th>\n",
       "      <th>Fare</th>\n",
       "      <th>Cabin</th>\n",
       "      <th>Embarked</th>\n",
       "    </tr>\n",
       "  </thead>\n",
       "  <tbody>\n",
       "    <tr>\n",
       "      <th>0</th>\n",
       "      <td>1</td>\n",
       "      <td>0.0</td>\n",
       "      <td>3</td>\n",
       "      <td>Braund, Mr. Owen Harris</td>\n",
       "      <td>male</td>\n",
       "      <td>22.0</td>\n",
       "      <td>1</td>\n",
       "      <td>0</td>\n",
       "      <td>A/5 21171</td>\n",
       "      <td>7.2500</td>\n",
       "      <td>NaN</td>\n",
       "      <td>S</td>\n",
       "    </tr>\n",
       "    <tr>\n",
       "      <th>1</th>\n",
       "      <td>2</td>\n",
       "      <td>1.0</td>\n",
       "      <td>1</td>\n",
       "      <td>Cumings, Mrs. John Bradley (Florence Briggs Th...</td>\n",
       "      <td>female</td>\n",
       "      <td>38.0</td>\n",
       "      <td>1</td>\n",
       "      <td>0</td>\n",
       "      <td>PC 17599</td>\n",
       "      <td>71.2833</td>\n",
       "      <td>C85</td>\n",
       "      <td>C</td>\n",
       "    </tr>\n",
       "    <tr>\n",
       "      <th>2</th>\n",
       "      <td>3</td>\n",
       "      <td>1.0</td>\n",
       "      <td>3</td>\n",
       "      <td>Heikkinen, Miss. Laina</td>\n",
       "      <td>female</td>\n",
       "      <td>26.0</td>\n",
       "      <td>0</td>\n",
       "      <td>0</td>\n",
       "      <td>STON/O2. 3101282</td>\n",
       "      <td>7.9250</td>\n",
       "      <td>NaN</td>\n",
       "      <td>S</td>\n",
       "    </tr>\n",
       "    <tr>\n",
       "      <th>3</th>\n",
       "      <td>4</td>\n",
       "      <td>1.0</td>\n",
       "      <td>1</td>\n",
       "      <td>Futrelle, Mrs. Jacques Heath (Lily May Peel)</td>\n",
       "      <td>female</td>\n",
       "      <td>35.0</td>\n",
       "      <td>1</td>\n",
       "      <td>0</td>\n",
       "      <td>113803</td>\n",
       "      <td>53.1000</td>\n",
       "      <td>C123</td>\n",
       "      <td>S</td>\n",
       "    </tr>\n",
       "    <tr>\n",
       "      <th>4</th>\n",
       "      <td>5</td>\n",
       "      <td>0.0</td>\n",
       "      <td>3</td>\n",
       "      <td>Allen, Mr. William Henry</td>\n",
       "      <td>male</td>\n",
       "      <td>35.0</td>\n",
       "      <td>0</td>\n",
       "      <td>0</td>\n",
       "      <td>373450</td>\n",
       "      <td>8.0500</td>\n",
       "      <td>NaN</td>\n",
       "      <td>S</td>\n",
       "    </tr>\n",
       "  </tbody>\n",
       "</table>\n",
       "</div>"
      ],
      "text/plain": [
       "   PassengerId  Survived  Pclass  \\\n",
       "0            1       0.0       3   \n",
       "1            2       1.0       1   \n",
       "2            3       1.0       3   \n",
       "3            4       1.0       1   \n",
       "4            5       0.0       3   \n",
       "\n",
       "                                                Name     Sex   Age  SibSp  \\\n",
       "0                            Braund, Mr. Owen Harris    male  22.0      1   \n",
       "1  Cumings, Mrs. John Bradley (Florence Briggs Th...  female  38.0      1   \n",
       "2                             Heikkinen, Miss. Laina  female  26.0      0   \n",
       "3       Futrelle, Mrs. Jacques Heath (Lily May Peel)  female  35.0      1   \n",
       "4                           Allen, Mr. William Henry    male  35.0      0   \n",
       "\n",
       "   Parch            Ticket     Fare Cabin Embarked  \n",
       "0      0         A/5 21171   7.2500   NaN        S  \n",
       "1      0          PC 17599  71.2833   C85        C  \n",
       "2      0  STON/O2. 3101282   7.9250   NaN        S  \n",
       "3      0            113803  53.1000  C123        S  \n",
       "4      0            373450   8.0500   NaN        S  "
      ]
     },
     "execution_count": 2,
     "metadata": {},
     "output_type": "execute_result"
    }
   ],
   "source": [
    "train_data=pd.read_csv('train.csv') #reading the csv file \n",
    "test_data=pd.read_csv('test.csv') \n",
    "full_data=pd.concat([train_data,test_data],axis=0,sort=False) #concatenating the train and test data \n",
    "full_data.head() #checking the first 5 rows of the data"
   ]
  },
  {
   "cell_type": "code",
   "execution_count": 3,
   "metadata": {},
   "outputs": [
    {
     "data": {
      "text/html": [
       "<div>\n",
       "<style scoped>\n",
       "    .dataframe tbody tr th:only-of-type {\n",
       "        vertical-align: middle;\n",
       "    }\n",
       "\n",
       "    .dataframe tbody tr th {\n",
       "        vertical-align: top;\n",
       "    }\n",
       "\n",
       "    .dataframe thead th {\n",
       "        text-align: right;\n",
       "    }\n",
       "</style>\n",
       "<table border=\"1\" class=\"dataframe\">\n",
       "  <thead>\n",
       "    <tr style=\"text-align: right;\">\n",
       "      <th></th>\n",
       "      <th>PassengerId</th>\n",
       "      <th>Survived</th>\n",
       "      <th>Pclass</th>\n",
       "      <th>Name</th>\n",
       "      <th>Sex</th>\n",
       "      <th>Age</th>\n",
       "      <th>SibSp</th>\n",
       "      <th>Parch</th>\n",
       "      <th>Ticket</th>\n",
       "      <th>Fare</th>\n",
       "      <th>Cabin</th>\n",
       "      <th>Embarked</th>\n",
       "    </tr>\n",
       "  </thead>\n",
       "  <tbody>\n",
       "    <tr>\n",
       "      <th>0</th>\n",
       "      <td>1</td>\n",
       "      <td>0</td>\n",
       "      <td>3</td>\n",
       "      <td>Braund, Mr. Owen Harris</td>\n",
       "      <td>male</td>\n",
       "      <td>22.0</td>\n",
       "      <td>1</td>\n",
       "      <td>0</td>\n",
       "      <td>A/5 21171</td>\n",
       "      <td>7.2500</td>\n",
       "      <td>NaN</td>\n",
       "      <td>S</td>\n",
       "    </tr>\n",
       "    <tr>\n",
       "      <th>1</th>\n",
       "      <td>2</td>\n",
       "      <td>1</td>\n",
       "      <td>1</td>\n",
       "      <td>Cumings, Mrs. John Bradley (Florence Briggs Th...</td>\n",
       "      <td>female</td>\n",
       "      <td>38.0</td>\n",
       "      <td>1</td>\n",
       "      <td>0</td>\n",
       "      <td>PC 17599</td>\n",
       "      <td>71.2833</td>\n",
       "      <td>C85</td>\n",
       "      <td>C</td>\n",
       "    </tr>\n",
       "    <tr>\n",
       "      <th>2</th>\n",
       "      <td>3</td>\n",
       "      <td>1</td>\n",
       "      <td>3</td>\n",
       "      <td>Heikkinen, Miss. Laina</td>\n",
       "      <td>female</td>\n",
       "      <td>26.0</td>\n",
       "      <td>0</td>\n",
       "      <td>0</td>\n",
       "      <td>STON/O2. 3101282</td>\n",
       "      <td>7.9250</td>\n",
       "      <td>NaN</td>\n",
       "      <td>S</td>\n",
       "    </tr>\n",
       "    <tr>\n",
       "      <th>3</th>\n",
       "      <td>4</td>\n",
       "      <td>1</td>\n",
       "      <td>1</td>\n",
       "      <td>Futrelle, Mrs. Jacques Heath (Lily May Peel)</td>\n",
       "      <td>female</td>\n",
       "      <td>35.0</td>\n",
       "      <td>1</td>\n",
       "      <td>0</td>\n",
       "      <td>113803</td>\n",
       "      <td>53.1000</td>\n",
       "      <td>C123</td>\n",
       "      <td>S</td>\n",
       "    </tr>\n",
       "    <tr>\n",
       "      <th>4</th>\n",
       "      <td>5</td>\n",
       "      <td>0</td>\n",
       "      <td>3</td>\n",
       "      <td>Allen, Mr. William Henry</td>\n",
       "      <td>male</td>\n",
       "      <td>35.0</td>\n",
       "      <td>0</td>\n",
       "      <td>0</td>\n",
       "      <td>373450</td>\n",
       "      <td>8.0500</td>\n",
       "      <td>NaN</td>\n",
       "      <td>S</td>\n",
       "    </tr>\n",
       "  </tbody>\n",
       "</table>\n",
       "</div>"
      ],
      "text/plain": [
       "   PassengerId  Survived  Pclass  \\\n",
       "0            1         0       3   \n",
       "1            2         1       1   \n",
       "2            3         1       3   \n",
       "3            4         1       1   \n",
       "4            5         0       3   \n",
       "\n",
       "                                                Name     Sex   Age  SibSp  \\\n",
       "0                            Braund, Mr. Owen Harris    male  22.0      1   \n",
       "1  Cumings, Mrs. John Bradley (Florence Briggs Th...  female  38.0      1   \n",
       "2                             Heikkinen, Miss. Laina  female  26.0      0   \n",
       "3       Futrelle, Mrs. Jacques Heath (Lily May Peel)  female  35.0      1   \n",
       "4                           Allen, Mr. William Henry    male  35.0      0   \n",
       "\n",
       "   Parch            Ticket     Fare Cabin Embarked  \n",
       "0      0         A/5 21171   7.2500   NaN        S  \n",
       "1      0          PC 17599  71.2833   C85        C  \n",
       "2      0  STON/O2. 3101282   7.9250   NaN        S  \n",
       "3      0            113803  53.1000  C123        S  \n",
       "4      0            373450   8.0500   NaN        S  "
      ]
     },
     "execution_count": 3,
     "metadata": {},
     "output_type": "execute_result"
    }
   ],
   "source": [
    "train_data.head() #checking the first 5 rows of the dataset "
   ]
  },
  {
   "cell_type": "code",
   "execution_count": 4,
   "metadata": {},
   "outputs": [
    {
     "data": {
      "image/png": "[encoded data removed]",
      "text/plain": [
       "<Figure size 640x480 with 1 Axes>"
      ]
     },
     "metadata": {},
     "output_type": "display_data"
    }
   ],
   "source": [
    "# Data Analysis Countplot\n",
    "sns.countplot(x='Survived',data=train_data) #countplot for survived column\n",
    "plt.title('Survived Countplot') \n",
    "plt.show() "
   ]
  },
  {
   "cell_type": "code",
   "execution_count": null,
   "metadata": {},
   "outputs": [],
   "source": [
    "# # Countplot of survival by gender \n",
    "# # change int value to string \n",
    "# df['Survived']=df['Survived'].replace(0,'No') \n",
    "# df['Survived']=df['Survived'].replace(1,'Yes') "
   ]
  },
  {
   "cell_type": "code",
   "execution_count": null,
   "metadata": {},
   "outputs": [],
   "source": [
    "sns.countplot(x='Survived', data=train_data, hue='Sex') #countplot for survived column \n",
    "plt.title('Survival Count by Gender') \n",
    "plt.show() "
   ]
  },
  {
   "cell_type": "code",
   "execution_count": null,
   "metadata": {},
   "outputs": [],
   "source": [
    "sns.countplot(x='Survived', data=train_data, hue='Pclass') #countplot for survived column \n",
    "plt.title('Survival Count by Passenger Class') \n",
    "plt.show()"
   ]
  },
  {
   "cell_type": "code",
   "execution_count": null,
   "metadata": {},
   "outputs": [],
   "source": [
    "#4. Countplot of survival by number of siblings/spouses aboard:\n",
    "# This plot presents the count of passengers who survived and those who did not survive, categorized by the number of siblings/spouses they had aboard.\n",
    "# It helps to explore the influence of having siblings/spouses on survival. \n",
    "\n",
    "ax=sns.countplot(x='Survived', hue=\"SibSp\", data=train_data)\n",
    "plt.title('Survival Count by Siblings/Spouses Aboard')\n",
    "sns.move_legend(ax, \"center right\") #moving the legend to the upper right corner of the plot\n",
    "plt.show()"
   ]
  },
  {
   "cell_type": "code",
   "execution_count": null,
   "metadata": {},
   "outputs": [],
   "source": [
    "#5.Countplot of survival by number of parents/children aboard: \n",
    "#his plot showcases the count of passengers who survived and those who did not survive, categorized by the number of parents/children they had aboard.\n",
    "#It provides insights into the impact of having parents/children on survival.\n",
    "sns.countplot(x='Survived', hue=\"Parch\", data=train_data) \n",
    "plt.title('Survival Count by Parents/Children Aboard') \n",
    "plt.show() "
   ]
  },
  {
   "cell_type": "code",
   "execution_count": null,
   "metadata": {},
   "outputs": [],
   "source": [
    "train_data['Age']=train_data['Age'].fillna(train_data['Age'].mean()) #filling the missing values in the Age column with the mean age  of all passengers"
   ]
  },
  {
   "cell_type": "code",
   "execution_count": null,
   "metadata": {},
   "outputs": [],
   "source": [
    "train_data['Age']=train_data['Age'].astype(int) #histogram of the Age column"
   ]
  },
  {
   "cell_type": "code",
   "execution_count": null,
   "metadata": {},
   "outputs": [],
   "source": [
    "#Histogram of the Age column \n",
    "train_data['Age'].plot.hist()"
   ]
  },
  {
   "cell_type": "code",
   "execution_count": null,
   "metadata": {},
   "outputs": [],
   "source": [
    "#Histogram of the Fare column \n",
    "#7. Boxplot of passenger fare by passenger class:\n",
    "#This plot displays the distribution of passenger fares across different passenger classes using quartiles.\n",
    "#It provides insights into the fare differences among different passenger classes and the presence of outliers. \n",
    "\n",
    "sns.boxplot(x='Pclass', y='Fare', data=train_data) \n",
    "plt.title('Passenger Fare by Class') \n",
    "plt.show() \n"
   ]
  },
  {
   "cell_type": "code",
   "execution_count": null,
   "metadata": {},
   "outputs": [],
   "source": [
    "train_data.info() "
   ]
  },
  {
   "cell_type": "code",
   "execution_count": null,
   "metadata": {},
   "outputs": [],
   "source": [
    "#8. Heatmap of correlation between numeric features:\n",
    "#This plot shows the correlation between numeric features using colors, where darker colors represent stronger correlations.\n",
    "#It helps to identify relationships and dependencies among numeric variables in the dataset.\n",
    "numeric_features = ['Age', 'SibSp', 'Parch', 'Fare'] \n",
    "correlation_matrix = train_data[numeric_features].corr() \n",
    "sns.heatmap(correlation_matrix, annot=True, cmap='coolwarm')  \n",
    "plt.title('Correlation Matrix') \n",
    "plt.show()"
   ]
  },
  {
   "cell_type": "code",
   "execution_count": null,
   "metadata": {},
   "outputs": [],
   "source": [
    "#10. Violinplot of passenger age by passenger class and survival status: \n",
    "# This plot depicts the distribution of passenger ages by passenger class and\n",
    "# survival status using violin shapes.\n",
    "# It provides insights into the age distribution and its relationship\n",
    "# with passenger class and survival.\n",
    "sns.violinplot(x='Pclass', y='Age', hue='Survived', data=train_data, split=True)  \n",
    "plt.title('Passenger Age by Class and Survival Status')\n",
    "plt.xlabel('Passenger Class')\n",
    "plt.ylabel('Age') \n",
    "plt.show()"
   ]
  },
  {
   "cell_type": "code",
   "execution_count": null,
   "metadata": {},
   "outputs": [],
   "source": [
    "# 11. Swarmplot of passenger fare by passenger class and survival: \n",
    "#This plot displays individual data points of passenger fares, categorized by passenger class and survival status,\n",
    "# along the categorical axis.\n",
    "#It helps to examine the fare distribution and \n",
    "#Its relationship with passenger class and survival.\n",
    "sns.swarmplot(x='Pclass', y='Fare', hue='Survived', data=train_data) \n",
    "plt.title('Passenger Fare by Class and Survival Status')\n",
    "plt.xlabel('Passenger Class')\n",
    "plt.ylabel('Fare') \n",
    "plt.show() "
   ]
  },
  {
   "cell_type": "code",
   "execution_count": null,
   "metadata": {},
   "outputs": [],
   "source": [
    "# # Pairwise correlation plot\n",
    "# corr_data = train_data.drop(['PassengerId'], axis=1).corr()\n",
    "# sns.heatmap(corr_data, annot=True, cmap='coolwarm')\n",
    "# plt.title('Pairwise Correlation Plot')\n",
    "# plt.show()"
   ]
  },
  {
   "cell_type": "markdown",
   "metadata": {},
   "source": [
    "# Explore Data "
   ]
  },
  {
   "cell_type": "code",
   "execution_count": null,
   "metadata": {},
   "outputs": [],
   "source": [
    "#train_data.head(3).style.background_gradient(cmap='greys') "
   ]
  },
  {
   "cell_type": "code",
   "execution_count": null,
   "metadata": {},
   "outputs": [],
   "source": [
    "#updgrade pandas to use pd.DataFrame.style.background_gradient\n",
    "#! pip install --upgrade pandas "
   ]
  },
  {
   "cell_type": "markdown",
   "metadata": {},
   "source": [
    "# Prepare data removing outliers"
   ]
  },
  {
   "cell_type": "code",
   "execution_count": null,
   "metadata": {},
   "outputs": [],
   "source": [
    "# #Lets visialize the numerical continous features for outliers\n",
    "# #sns.set(rc={\"axes.facecolor\":\"#FFF9ED\",\"figure.facecolor\":\"#FFF9ED\"})\n",
    "# print(\"Reletive Plot Of Some Selected Features: A Data Subset\")\n",
    "# plt.figure()\n",
    "# sns.pairplot(train_data[[ \"Survived\",\"Age\",\"SibSp\", \"Parch\",\"Fare\"]], hue= \"Survived\",palette= \"dark\")"
   ]
  },
  {
   "cell_type": "code",
   "execution_count": null,
   "metadata": {},
   "outputs": [],
   "source": [
    "#Dropping the outliers by setting a cap on SibSp and Fare. \n",
    "print(\"The total number of data-points before removing the outliers are:\", len(train_data))\n",
    "train_data = train_data[(train_data[\"SibSp\"]<6)]\n",
    "train_data = train_data[(train_data[\"Fare\"]<350)]\n",
    "train_data = train_data[(train_data[\"Parch\"]<5)]\n",
    "print(\"The total number of data-points after removing the outliers are:\", len(train_data))"
   ]
  },
  {
   "cell_type": "code",
   "execution_count": null,
   "metadata": {},
   "outputs": [],
   "source": [
    "# Name \n",
    "# Extracting salutation to check the correlation with Target \n",
    "train_data['Title'] = train_data['Name'].apply(lambda x: x.split(',')[1].split('.')[0].strip())\n",
    "\n",
    "train_data['Title'].replace({'Mlle': 'Miss', 'Mme': 'Mrs', 'Ms': 'Miss'}, inplace = True)\n",
    "\n",
    "train_data['Title'].replace(['Don', 'Rev', 'Dr', 'Major',  'Col', 'Capt', 'Jonkheer'],\n",
    "                            'Rare Title', inplace = True)\n",
    "\n",
    "train_data['Title'].replace(['the Countess', 'Lady', 'Sir'],'Honarary', inplace = True)\n",
    "\n",
    "train_data['Title'].value_counts() "
   ]
  },
  {
   "cell_type": "code",
   "execution_count": null,
   "metadata": {},
   "outputs": [],
   "source": [
    "# repeating same for test data\n",
    "test_data['Title']=test_data['Name'].apply(lambda x: x.split(',')[1].split('.')[0].strip()) \n",
    "test_data['Title'].replace({'Mlle': 'Miss', 'Mme': 'Mrs', 'Ms': 'Miss'}, inplace = True)\n",
    "test_data['Title'].replace(['Don', 'Rev', 'Dr', 'Major',  'Col', 'Capt', 'Jonkheer'],\n",
    "                            'Rare Title', inplace = True) \n",
    "test_data['Title'].replace(['the Countess', 'Lady', 'Sir'],'Honarary', inplace = True)\n",
    "test_data['Title'].value_counts() "
   ]
  },
  {
   "cell_type": "code",
   "execution_count": null,
   "metadata": {},
   "outputs": [],
   "source": [
    "plt.figure(figsize=(10,5)) \n",
    "sns.barplot(x='Title', y='Survived', data=train_data, palette='dark') \n",
    "plt.title('Survival Rate by Title')\n",
    "plt.show() "
   ]
  },
  {
   "cell_type": "code",
   "execution_count": null,
   "metadata": {},
   "outputs": [],
   "source": [
    "#to include for modelling lets map each of the title groups to a numerical value (Encoding)\n",
    "title_mapping = {\"Mr\": 1, \"Miss\": 2, \"Mrs\": 3, \"Master\": 4, \"Rare Title\": 5, \"Honarary\": 6}\n",
    "train_data['Title'] = train_data['Title'].map(title_mapping)\n",
    "test_data['Title'] = test_data['Title'].map(title_mapping)"
   ]
  },
  {
   "cell_type": "code",
   "execution_count": null,
   "metadata": {},
   "outputs": [],
   "source": [
    "# #Dropping Name from both train and test\n",
    "# train_data = train_data.drop(\"Name\",axis=1)\n",
    "# test_data = test_data.drop(\"Name\",axis=1)\n",
    "# #train_data.head(3).style.set_properties(subset=['Title'], **{'background-color': 'yellow'})"
   ]
  },
  {
   "cell_type": "code",
   "execution_count": null,
   "metadata": {},
   "outputs": [],
   "source": [
    "train_data.columns"
   ]
  },
  {
   "cell_type": "code",
   "execution_count": null,
   "metadata": {},
   "outputs": [],
   "source": [
    "cols = ['grey','black']\n",
    "plt.figure(figsize=(5,3))   \n",
    "sns.barplot(x = train_data[\"Sex\"], y = train_data[\"Survived\"],palette=cols)\n",
    "plt.title(\"Survival rate by Gender\")\n",
    "plt.show()"
   ]
  },
  {
   "cell_type": "code",
   "execution_count": null,
   "metadata": {},
   "outputs": [],
   "source": [
    "pd.crosstab(train_data['Sex'], train_data['Survived'], normalize = 'index') "
   ]
  },
  {
   "cell_type": "code",
   "execution_count": null,
   "metadata": {},
   "outputs": [],
   "source": [
    "# No doubt, Female has highest survival rate of ~75% compare to that of Men with ~ 20%.\n",
    "# Conclusion : Sex to include for building model alogrithm"
   ]
  },
  {
   "cell_type": "code",
   "execution_count": null,
   "metadata": {},
   "outputs": [],
   "source": [
    "#replacing missing values with its Median \n",
    "train_data[\"Age\"].replace(np.nan,train_data[\"Age\"].median(), inplace=True)\n",
    "test_data[\"Age\"].replace(np.nan,test_data[\"Age\"].median(), inplace=True)\n",
    "\n",
    "#Bin names\n",
    "bin_names=[\"Baby\",\"Child\",\"Teenager\",\"Early Adult\",\"Adult\",\"Late Adult\",\"Senior\"]\n",
    "\n",
    "#Sorting asc and drawing divider to the column\n",
    "bins_train = np.linspace(min(train_data[\"Age\"]),max(train_data[\"Age\"]),8)\n",
    "bins_test = np.linspace(min(test_data[\"Age\"]),max(test_data[\"Age\"]),8)\n",
    "\n",
    "#dividing the column\n",
    "train_data[\"Age_binned\"] = pd.cut(train_data[\"Age\"],bins_train,labels = bin_names,include_lowest=True)\n",
    "test_data[\"Age_binned\"] = pd.cut(test_data[\"Age\"],bins_test,labels = bin_names,include_lowest=True)"
   ]
  },
  {
   "cell_type": "code",
   "execution_count": null,
   "metadata": {},
   "outputs": [],
   "source": [
    "plt.figure(figsize=(7,5))\n",
    "plt.title(\"Survival rate by Age group\")\n",
    "sns.barplot(x=train_data[\"Age_binned\"],y=train_data[\"Survived\"],palette=\"dark\")\n",
    "plt.show()"
   ]
  },
  {
   "cell_type": "code",
   "execution_count": null,
   "metadata": {},
   "outputs": [],
   "source": [
    "# Converting to numerical data\n",
    "title_mapping = {\"Baby\":1,\"Child\":2,\"Teenager\":3,\"Early Adult\":4,\"Adult\":5,\"Late Adult\":6,\"Senior\": 7}\n",
    "train_data[\"Age_binned\"] = train_data[\"Age_binned\"].map(title_mapping)\n",
    "test_data[\"Age_binned\"] = test_data[\"Age_binned\"].map(title_mapping)\n",
    "train_data = train_data.drop(\"Age\",axis=1)\n",
    "test_data = test_data.drop(\"Age\",axis=1) "
   ]
  },
  {
   "cell_type": "code",
   "execution_count": null,
   "metadata": {},
   "outputs": [],
   "source": [
    "train_data[\"SibSp\"].value_counts()"
   ]
  },
  {
   "cell_type": "code",
   "execution_count": null,
   "metadata": {},
   "outputs": [],
   "source": [
    "plt.figure(figsize=(7,5))\n",
    "plt.title(\"Survival rate by SibSp\")\n",
    "sns.barplot(x=train_data[\"SibSp\"],y=train_data[\"Survived\"],palette='dark')\n",
    "plt.show()"
   ]
  },
  {
   "cell_type": "code",
   "execution_count": null,
   "metadata": {},
   "outputs": [],
   "source": [
    "train_data[\"Parch\"].value_counts()"
   ]
  },
  {
   "cell_type": "code",
   "execution_count": null,
   "metadata": {},
   "outputs": [],
   "source": [
    "plt.figure(figsize=(7,5))\n",
    "plt.title(\"Survival rate by Parch\")\n",
    "sns.barplot(x=train_data[\"Parch\"],y=train_data[\"Survived\"],palette='dark')\n",
    "plt.show()"
   ]
  },
  {
   "cell_type": "code",
   "execution_count": null,
   "metadata": {},
   "outputs": [],
   "source": [
    "# Considering to drop these two columns as Tikect dont contribute any information to predictive model and Cabin has ~80% missing values.\n",
    "to_drop = [\"Ticket\",\"Cabin\"]\n",
    "train_data = train_data.drop(to_drop,axis=1)\n",
    "test_data = test_data.drop(to_drop,axis=1)"
   ]
  },
  {
   "cell_type": "code",
   "execution_count": null,
   "metadata": {},
   "outputs": [],
   "source": [
    "train_data.columns"
   ]
  },
  {
   "cell_type": "code",
   "execution_count": null,
   "metadata": {},
   "outputs": [],
   "source": [
    "#Replacig missing value with median in test data\n",
    "test_data[\"Fare\"].replace(np.nan,test_data[\"Fare\"].median(), inplace=True)"
   ]
  },
  {
   "cell_type": "code",
   "execution_count": null,
   "metadata": {},
   "outputs": [],
   "source": [
    "labels = [\"low\",\"mid\",\"standard\",\"premium\",\"gold\"]\n",
    "train_data['Fare_binned'] = pd.qcut(train_data['Fare'],5,labels=labels)\n",
    "test_data['Fare_binned'] = pd.qcut(test_data['Fare'], 5,labels=labels)\n",
    "train_data['Fare_binned'].value_counts()"
   ]
  },
  {
   "cell_type": "code",
   "execution_count": null,
   "metadata": {},
   "outputs": [],
   "source": [
    "# plt.figure(figsize=(5,3))  \n",
    "# plt.title(\"Survival rate by Fare\")\n",
    "# plt.xlim(0,200)\n",
    "# sns.histplot(train_data['Fare'])\n",
    "# plt.show()"
   ]
  },
  {
   "cell_type": "code",
   "execution_count": 69,
   "metadata": {},
   "outputs": [
    {
     "data": {
      "image/png": "[encoded data removed]",
      "text/plain": [
       "<Figure size 504x360 with 1 Axes>"
      ]
     },
     "metadata": {},
     "output_type": "display_data"
    }
   ],
   "source": [
    "plt.figure(figsize=(7,5))\n",
    "plt.title(\"Survival rate by Fare_binned\")\n",
    "sns.barplot(x=train_data[\"Fare_binned\"],y=train_data[\"Survived\"],palette='dark')\n",
    "plt.show()"
   ]
  },
  {
   "cell_type": "code",
   "execution_count": 70,
   "metadata": {},
   "outputs": [],
   "source": [
    "# After binning Fare it is abvious that higher the fare price is higher will be the survival chance.\n",
    "# Conclusion: Fare_binned to include for Modelling \n",
    "# Converting to numerical data\n",
    "fare_mapping = {\"low\":1,\"mid\":2,\"standard\":3,\"premium\":4,\"gold\":5}\n",
    "train_data[\"Fare_binned\"] = train_data[\"Fare_binned\"].map(fare_mapping)\n",
    "test_data[\"Fare_binned\"] = test_data[\"Fare_binned\"].map(fare_mapping)\n",
    "train_data = train_data.drop(\"Fare\",axis=1)\n",
    "test_data = test_data.drop(\"Fare\",axis=1)"
   ]
  },
  {
   "cell_type": "code",
   "execution_count": 71,
   "metadata": {},
   "outputs": [
    {
     "data": {
      "text/plain": [
       "Embarked\n",
       "S    632\n",
       "C    165\n",
       "Q     76\n",
       "Name: count, dtype: int64"
      ]
     },
     "execution_count": 71,
     "metadata": {},
     "output_type": "execute_result"
    }
   ],
   "source": [
    "train_data[\"Embarked\"].value_counts()"
   ]
  },
  {
   "cell_type": "code",
   "execution_count": 72,
   "metadata": {},
   "outputs": [],
   "source": [
    "#Replacing missing values from train data with frequency to embarked column\n",
    "train_data[\"Embarked\"].replace(np.nan, train_data[\"Embarked\"].mode()[0], inplace=True)"
   ]
  },
  {
   "cell_type": "code",
   "execution_count": 73,
   "metadata": {},
   "outputs": [
    {
     "data": {
      "image/png": "[encoded data removed]",
      "text/plain": [
       "<Figure size 504x360 with 1 Axes>"
      ]
     },
     "metadata": {},
     "output_type": "display_data"
    }
   ],
   "source": [
    "plt.figure(figsize=(7,5))\n",
    "plt.title(\"Survival rate by Embarked\")\n",
    "sns.countplot(x=\"Embarked\",hue =\"Survived\", data =train_data,palette='dark')\n",
    "plt.show()"
   ]
  },
  {
   "cell_type": "code",
   "execution_count": 74,
   "metadata": {},
   "outputs": [],
   "source": [
    "Embarked_mapping = {\"S\": 1, \"C\": 2, \"Q\": 3}\n",
    "train_data['Embarked'] = train_data['Embarked'].map(Embarked_mapping)\n",
    "test_data['Embarked'] = test_data['Embarked'].map(Embarked_mapping)"
   ]
  },
  {
   "cell_type": "code",
   "execution_count": 76,
   "metadata": {},
   "outputs": [],
   "source": [
    "#map each Sex value to a numerical value\n",
    "sex_mapping = {\"male\": 0, \"female\": 1}\n",
    "train_data['Sex'] = train_data['Sex'].map(sex_mapping)\n",
    "test_data['Sex'] = test_data['Sex'].map(sex_mapping)"
   ]
  },
  {
   "cell_type": "markdown",
   "metadata": {},
   "source": [
    "# Splitting and Scaling data"
   ]
  },
  {
   "cell_type": "code",
   "execution_count": 77,
   "metadata": {},
   "outputs": [
    {
     "data": {
      "text/html": [
       "<div>\n",
       "<style scoped>\n",
       "    .dataframe tbody tr th:only-of-type {\n",
       "        vertical-align: middle;\n",
       "    }\n",
       "\n",
       "    .dataframe tbody tr th {\n",
       "        vertical-align: top;\n",
       "    }\n",
       "\n",
       "    .dataframe thead th {\n",
       "        text-align: right;\n",
       "    }\n",
       "</style>\n",
       "<table border=\"1\" class=\"dataframe\">\n",
       "  <thead>\n",
       "    <tr style=\"text-align: right;\">\n",
       "      <th></th>\n",
       "      <th>Pclass</th>\n",
       "      <th>Sex</th>\n",
       "      <th>SibSp</th>\n",
       "      <th>Parch</th>\n",
       "      <th>Embarked</th>\n",
       "      <th>Title</th>\n",
       "      <th>Age_binned</th>\n",
       "      <th>Fare_binned</th>\n",
       "    </tr>\n",
       "  </thead>\n",
       "  <tbody>\n",
       "    <tr>\n",
       "      <th>0</th>\n",
       "      <td>3</td>\n",
       "      <td>0</td>\n",
       "      <td>1</td>\n",
       "      <td>0</td>\n",
       "      <td>1</td>\n",
       "      <td>1</td>\n",
       "      <td>2</td>\n",
       "      <td>1</td>\n",
       "    </tr>\n",
       "    <tr>\n",
       "      <th>1</th>\n",
       "      <td>1</td>\n",
       "      <td>1</td>\n",
       "      <td>1</td>\n",
       "      <td>0</td>\n",
       "      <td>2</td>\n",
       "      <td>3</td>\n",
       "      <td>4</td>\n",
       "      <td>5</td>\n",
       "    </tr>\n",
       "    <tr>\n",
       "      <th>2</th>\n",
       "      <td>3</td>\n",
       "      <td>1</td>\n",
       "      <td>0</td>\n",
       "      <td>0</td>\n",
       "      <td>1</td>\n",
       "      <td>2</td>\n",
       "      <td>3</td>\n",
       "      <td>2</td>\n",
       "    </tr>\n",
       "  </tbody>\n",
       "</table>\n",
       "</div>"
      ],
      "text/plain": [
       "   Pclass  Sex  SibSp  Parch  Embarked  Title Age_binned Fare_binned\n",
       "0       3    0      1      0         1      1          2           1\n",
       "1       1    1      1      0         2      3          4           5\n",
       "2       3    1      0      0         1      2          3           2"
      ]
     },
     "execution_count": 77,
     "metadata": {},
     "output_type": "execute_result"
    }
   ],
   "source": [
    "# import standard scaler \n",
    "from sklearn.preprocessing import StandardScaler  \n",
    "X = train_data[train_data.columns[~train_data.columns.isin(['PassengerId','Survived'])]]\n",
    "Y = train_data[\"Survived\"] # Target Variable\n",
    "scaler = StandardScaler()\n",
    "X.head(3) "
   ]
  },
  {
   "cell_type": "code",
   "execution_count": 78,
   "metadata": {},
   "outputs": [],
   "source": [
    "X_scaled = scaler.fit_transform(X)\n",
    "X_scaled = pd.DataFrame(X_scaled) # Predictor\n",
    "X_scaled.columns = [\"Pclass\",\"Sex\",\"SibSp\",\"Parch\",\"Embarked\",\"Title\",\"Age_binned\",\"Fare_binned\"]"
   ]
  },
  {
   "cell_type": "code",
   "execution_count": 79,
   "metadata": {},
   "outputs": [],
   "source": [
    "# To check Accurancy of different model, spliting Train_data into 80 % train and 20 % test is required.\n",
    "# import train_test_split \n",
    "from sklearn.model_selection import train_test_split\n",
    "x_train, x_test, y_train, y_test = train_test_split(X_scaled,Y,test_size=0.2,random_state=1)"
   ]
  },
  {
   "cell_type": "markdown",
   "metadata": {},
   "source": [
    "I will be testing the following models with my training data (got the list from here):\n",
    "\n",
    "Gaussian Naive Bayes\n",
    "\n",
    "Logistic Regression\n",
    "\n",
    "Support Vector Machines\n",
    "\n",
    "Perceptron\n",
    "\n",
    "Decision Tree Classifier\n",
    "\n",
    "Random Forest Classifier\n",
    "\n",
    "KNN or k-Nearest Neighbors\n",
    "\n",
    "Stochastic Gradient Descent\n",
    "\n",
    "Gradient Boosting Classifier"
   ]
  },
  {
   "cell_type": "code",
   "execution_count": 80,
   "metadata": {},
   "outputs": [
    {
     "name": "stdout",
     "output_type": "stream",
     "text": [
      "Accuracy of GaussianNB model is: 83.43\n"
     ]
    }
   ],
   "source": [
    "from sklearn.naive_bayes import GaussianNB \n",
    "from sklearn.metrics import accuracy_score\n",
    "gaussian= GaussianNB() \n",
    "ypred_gaussian = gaussian.fit(x_train,y_train).predict(x_test)\n",
    "acc_gaussian = round(accuracy_score(ypred_gaussian,y_test)*100,2)\n",
    "print(\"Accuracy of GaussianNB model is:\",acc_gaussian)"
   ]
  },
  {
   "cell_type": "code",
   "execution_count": 81,
   "metadata": {},
   "outputs": [
    {
     "name": "stdout",
     "output_type": "stream",
     "text": [
      "Accuracy of LogisticRegression model is: 81.71\n"
     ]
    }
   ],
   "source": [
    "from sklearn.linear_model import LogisticRegression \n",
    "from sklearn.metrics import accuracy_score \n",
    "logreg = LogisticRegression() \n",
    "ypred_logreg = logreg.fit(x_train,y_train).predict(x_test) \n",
    "acc_logreg = round(accuracy_score(ypred_logreg,y_test)*100,2) \n",
    "print(\"Accuracy of LogisticRegression model is:\",acc_logreg) "
   ]
  },
  {
   "cell_type": "code",
   "execution_count": 82,
   "metadata": {},
   "outputs": [
    {
     "name": "stdout",
     "output_type": "stream",
     "text": [
      "Accuracy of SVC model is: 85.71\n"
     ]
    }
   ],
   "source": [
    "from sklearn.svm import SVC \n",
    "from sklearn.metrics import accuracy_score\n",
    "svc = SVC()\n",
    "ypred_svc = svc.fit(x_train,y_train).predict(x_test) \n",
    "acc_svc = round(accuracy_score(ypred_svc,y_test)*100,2) \n",
    "print(\"Accuracy of SVC model is:\",acc_svc) \n"
   ]
  },
  {
   "cell_type": "code",
   "execution_count": 83,
   "metadata": {},
   "outputs": [
    {
     "name": "stdout",
     "output_type": "stream",
     "text": [
      "Accuracy of Perceptron model is: 81.14\n"
     ]
    }
   ],
   "source": [
    "from sklearn.linear_model import Perceptron \n",
    "from sklearn.metrics import accuracy_score \n",
    "perceptron = Perceptron()\n",
    "ypred_perceptron = perceptron.fit(x_train,y_train).predict(x_test) \n",
    "acc_perceptron = round(accuracy_score(ypred_perceptron,y_test)*100,2) \n",
    "print(\"Accuracy of Perceptron model is:\",acc_perceptron) "
   ]
  },
  {
   "cell_type": "code",
   "execution_count": 84,
   "metadata": {},
   "outputs": [
    {
     "name": "stdout",
     "output_type": "stream",
     "text": [
      "Accuracy of DecisionTreeClassifier model is: 84.0\n"
     ]
    }
   ],
   "source": [
    "from sklearn.tree import DecisionTreeClassifier \n",
    "from sklearn.metrics import accuracy_score \n",
    "decisiontree = DecisionTreeClassifier()\n",
    "ypred_decisiontree = decisiontree.fit(x_train,y_train).predict(x_test) \n",
    "acc_decisiontree = round(accuracy_score(ypred_decisiontree,y_test)*100,2)\n",
    "print(\"Accuracy of DecisionTreeClassifier model is:\",acc_decisiontree) "
   ]
  },
  {
   "cell_type": "code",
   "execution_count": 85,
   "metadata": {},
   "outputs": [
    {
     "name": "stdout",
     "output_type": "stream",
     "text": [
      "Accuracy of RandomForestClassifier model is: 84.57\n"
     ]
    }
   ],
   "source": [
    "from sklearn.ensemble import RandomForestClassifier \n",
    "from sklearn.metrics import accuracy_score \n",
    "randomforest = RandomForestClassifier() \n",
    "ypred_randomforest = randomforest.fit(x_train,y_train).predict(x_test) \n",
    "acc_randomforest = round(accuracy_score(ypred_randomforest,y_test)*100,2) \n",
    "print(\"Accuracy of RandomForestClassifier model is:\",acc_randomforest)"
   ]
  },
  {
   "cell_type": "code",
   "execution_count": 86,
   "metadata": {},
   "outputs": [
    {
     "name": "stdout",
     "output_type": "stream",
     "text": [
      "Accuracy of KNeighborsClassifier model is: 85.14\n"
     ]
    }
   ],
   "source": [
    "from sklearn.neighbors import KNeighborsClassifier \n",
    "from sklearn.metrics import accuracy_score\n",
    "knn = KNeighborsClassifier()\n",
    "ypred_knn = knn.fit(x_train,y_train).predict(x_test) \n",
    "acc_knn = round(accuracy_score(ypred_knn,y_test)*100,2) \n",
    "print(\"Accuracy of KNeighborsClassifier model is:\",acc_knn) "
   ]
  },
  {
   "cell_type": "code",
   "execution_count": 87,
   "metadata": {},
   "outputs": [
    {
     "name": "stdout",
     "output_type": "stream",
     "text": [
      "Accuracy of SGDClassifier model is: 77.71\n"
     ]
    }
   ],
   "source": [
    "from sklearn.linear_model import SGDClassifier \n",
    "from sklearn.metrics import accuracy_score\n",
    "sgdc=SGDClassifier()\n",
    "ypred_sgdc = sgdc.fit(x_train,y_train).predict(x_test)\n",
    "acc_sgdc = round(accuracy_score(ypred_sgdc,y_test)*100,2) \n",
    "print(\"Accuracy of SGDClassifier model is:\",acc_sgdc) "
   ]
  },
  {
   "cell_type": "code",
   "execution_count": 88,
   "metadata": {},
   "outputs": [
    {
     "name": "stdout",
     "output_type": "stream",
     "text": [
      "Accuracy of GradientBoostingClassifier model is: 85.14\n"
     ]
    }
   ],
   "source": [
    "from sklearn.ensemble import GradientBoostingClassifier \n",
    "from sklearn.metrics import accuracy_score\n",
    "gbk = GradientBoostingClassifier() \n",
    "ypred_gbk = gbk.fit(x_train,y_train).predict(x_test) \n",
    "acc_gbk = round(accuracy_score(ypred_gbk,y_test)*100,2) \n",
    "print(\"Accuracy of GradientBoostingClassifier model is:\",acc_gbk) "
   ]
  },
  {
   "cell_type": "code",
   "execution_count": 92,
   "metadata": {},
   "outputs": [
    {
     "data": {
      "text/html": [
       "<div>\n",
       "<style scoped>\n",
       "    .dataframe tbody tr th:only-of-type {\n",
       "        vertical-align: middle;\n",
       "    }\n",
       "\n",
       "    .dataframe tbody tr th {\n",
       "        vertical-align: top;\n",
       "    }\n",
       "\n",
       "    .dataframe thead th {\n",
       "        text-align: right;\n",
       "    }\n",
       "</style>\n",
       "<table border=\"1\" class=\"dataframe\">\n",
       "  <thead>\n",
       "    <tr style=\"text-align: right;\">\n",
       "      <th></th>\n",
       "      <th>Model</th>\n",
       "      <th>Score</th>\n",
       "    </tr>\n",
       "  </thead>\n",
       "  <tbody>\n",
       "    <tr>\n",
       "      <th>0</th>\n",
       "      <td>Support Vector Machines</td>\n",
       "      <td>85.71</td>\n",
       "    </tr>\n",
       "    <tr>\n",
       "      <th>1</th>\n",
       "      <td>KNN</td>\n",
       "      <td>85.14</td>\n",
       "    </tr>\n",
       "    <tr>\n",
       "      <th>7</th>\n",
       "      <td>Gradient Boosting Classifier</td>\n",
       "      <td>85.14</td>\n",
       "    </tr>\n",
       "    <tr>\n",
       "      <th>3</th>\n",
       "      <td>Random Forest</td>\n",
       "      <td>84.57</td>\n",
       "    </tr>\n",
       "    <tr>\n",
       "      <th>6</th>\n",
       "      <td>Stochastic Gradient Descent</td>\n",
       "      <td>84.00</td>\n",
       "    </tr>\n",
       "    <tr>\n",
       "      <th>4</th>\n",
       "      <td>Perceptron</td>\n",
       "      <td>83.43</td>\n",
       "    </tr>\n",
       "    <tr>\n",
       "      <th>2</th>\n",
       "      <td>Logistic Regression</td>\n",
       "      <td>81.71</td>\n",
       "    </tr>\n",
       "    <tr>\n",
       "      <th>5</th>\n",
       "      <td>Decision Tree</td>\n",
       "      <td>81.14</td>\n",
       "    </tr>\n",
       "  </tbody>\n",
       "</table>\n",
       "</div>"
      ],
      "text/plain": [
       "                          Model  Score\n",
       "0       Support Vector Machines  85.71\n",
       "1                           KNN  85.14\n",
       "7  Gradient Boosting Classifier  85.14\n",
       "3                 Random Forest  84.57\n",
       "6   Stochastic Gradient Descent  84.00\n",
       "4                    Perceptron  83.43\n",
       "2           Logistic Regression  81.71\n",
       "5                 Decision Tree  81.14"
      ]
     },
     "execution_count": 92,
     "metadata": {},
     "output_type": "execute_result"
    }
   ],
   "source": [
    "models = pd.DataFrame({\n",
    "    'Model': ['Support Vector Machines', 'KNN', 'Logistic Regression', \n",
    "                'Random Forest',  'Perceptron', \n",
    "                'Decision Tree', 'Stochastic Gradient Descent', 'Gradient Boosting Classifier'],\n",
    "    'Score': [acc_svc, acc_knn, acc_logreg, \n",
    "                acc_randomforest, acc_gaussian, acc_perceptron, acc_decisiontree, acc_gbk]})\n",
    "models.sort_values(by='Score', ascending=False)"
   ]
  },
  {
   "cell_type": "code",
   "execution_count": 93,
   "metadata": {},
   "outputs": [
    {
     "data": {
      "text/html": [
       "<div>\n",
       "<style scoped>\n",
       "    .dataframe tbody tr th:only-of-type {\n",
       "        vertical-align: middle;\n",
       "    }\n",
       "\n",
       "    .dataframe tbody tr th {\n",
       "        vertical-align: top;\n",
       "    }\n",
       "\n",
       "    .dataframe thead th {\n",
       "        text-align: right;\n",
       "    }\n",
       "</style>\n",
       "<table border=\"1\" class=\"dataframe\">\n",
       "  <thead>\n",
       "    <tr style=\"text-align: right;\">\n",
       "      <th></th>\n",
       "      <th>Pclass</th>\n",
       "      <th>Sex</th>\n",
       "      <th>SibSp</th>\n",
       "      <th>Parch</th>\n",
       "      <th>Embarked</th>\n",
       "      <th>Title</th>\n",
       "      <th>Age_binned</th>\n",
       "      <th>Fare_binned</th>\n",
       "    </tr>\n",
       "  </thead>\n",
       "  <tbody>\n",
       "    <tr>\n",
       "      <th>0</th>\n",
       "      <td>3</td>\n",
       "      <td>0</td>\n",
       "      <td>0</td>\n",
       "      <td>0</td>\n",
       "      <td>3</td>\n",
       "      <td>1.0</td>\n",
       "      <td>4</td>\n",
       "      <td>2</td>\n",
       "    </tr>\n",
       "    <tr>\n",
       "      <th>1</th>\n",
       "      <td>3</td>\n",
       "      <td>1</td>\n",
       "      <td>1</td>\n",
       "      <td>0</td>\n",
       "      <td>1</td>\n",
       "      <td>3.0</td>\n",
       "      <td>5</td>\n",
       "      <td>1</td>\n",
       "    </tr>\n",
       "    <tr>\n",
       "      <th>2</th>\n",
       "      <td>2</td>\n",
       "      <td>0</td>\n",
       "      <td>0</td>\n",
       "      <td>0</td>\n",
       "      <td>3</td>\n",
       "      <td>1.0</td>\n",
       "      <td>6</td>\n",
       "      <td>2</td>\n",
       "    </tr>\n",
       "  </tbody>\n",
       "</table>\n",
       "</div>"
      ],
      "text/plain": [
       "   Pclass  Sex  SibSp  Parch  Embarked  Title Age_binned Fare_binned\n",
       "0       3    0      0      0         3    1.0          4           2\n",
       "1       3    1      1      0         1    3.0          5           1\n",
       "2       2    0      0      0         3    1.0          6           2"
      ]
     },
     "execution_count": 93,
     "metadata": {},
     "output_type": "execute_result"
    }
   ],
   "source": [
    "#scaling test data\n",
    "test_id = test_data['PassengerId'] \n",
    "predictors = test_data[test_data.columns[~test_data.columns.isin(['PassengerId'])]]\n",
    "scaler_test = StandardScaler()\n",
    "predictors.head(3)"
   ]
  },
  {
   "cell_type": "code",
   "execution_count": 94,
   "metadata": {},
   "outputs": [
    {
     "data": {
      "text/html": [
       "<div>\n",
       "<style scoped>\n",
       "    .dataframe tbody tr th:only-of-type {\n",
       "        vertical-align: middle;\n",
       "    }\n",
       "\n",
       "    .dataframe tbody tr th {\n",
       "        vertical-align: top;\n",
       "    }\n",
       "\n",
       "    .dataframe thead th {\n",
       "        text-align: right;\n",
       "    }\n",
       "</style>\n",
       "<table border=\"1\" class=\"dataframe\">\n",
       "  <thead>\n",
       "    <tr style=\"text-align: right;\">\n",
       "      <th></th>\n",
       "      <th>Pclass</th>\n",
       "      <th>Sex</th>\n",
       "      <th>SibSp</th>\n",
       "      <th>Parch</th>\n",
       "      <th>Embarked</th>\n",
       "      <th>Title</th>\n",
       "      <th>Age_binned</th>\n",
       "      <th>Fare_binned</th>\n",
       "    </tr>\n",
       "  </thead>\n",
       "  <tbody>\n",
       "    <tr>\n",
       "      <th>0</th>\n",
       "      <td>0.873482</td>\n",
       "      <td>-0.755929</td>\n",
       "      <td>-0.499470</td>\n",
       "      <td>-0.400248</td>\n",
       "      <td>2.243165</td>\n",
       "      <td>-0.738743</td>\n",
       "      <td>0.652641</td>\n",
       "      <td>-0.703316</td>\n",
       "    </tr>\n",
       "    <tr>\n",
       "      <th>1</th>\n",
       "      <td>0.873482</td>\n",
       "      <td>1.322876</td>\n",
       "      <td>0.616992</td>\n",
       "      <td>-0.400248</td>\n",
       "      <td>-0.677841</td>\n",
       "      <td>1.274693</td>\n",
       "      <td>1.507826</td>\n",
       "      <td>-1.408319</td>\n",
       "    </tr>\n",
       "    <tr>\n",
       "      <th>2</th>\n",
       "      <td>-0.315819</td>\n",
       "      <td>-0.755929</td>\n",
       "      <td>-0.499470</td>\n",
       "      <td>-0.400248</td>\n",
       "      <td>2.243165</td>\n",
       "      <td>-0.738743</td>\n",
       "      <td>2.363011</td>\n",
       "      <td>-0.703316</td>\n",
       "    </tr>\n",
       "  </tbody>\n",
       "</table>\n",
       "</div>"
      ],
      "text/plain": [
       "     Pclass       Sex     SibSp     Parch  Embarked     Title  Age_binned   \n",
       "0  0.873482 -0.755929 -0.499470 -0.400248  2.243165 -0.738743    0.652641  \\\n",
       "1  0.873482  1.322876  0.616992 -0.400248 -0.677841  1.274693    1.507826   \n",
       "2 -0.315819 -0.755929 -0.499470 -0.400248  2.243165 -0.738743    2.363011   \n",
       "\n",
       "   Fare_binned  \n",
       "0    -0.703316  \n",
       "1    -1.408319  \n",
       "2    -0.703316  "
      ]
     },
     "execution_count": 94,
     "metadata": {},
     "output_type": "execute_result"
    }
   ],
   "source": [
    "predictors_scaled = scaler_test.fit_transform(predictors)\n",
    "predictors_scaled = pd.DataFrame(predictors_scaled) # Predictor\n",
    "predictors_scaled.columns = [\"Pclass\",\"Sex\",\"SibSp\",\"Parch\",\"Embarked\",\"Title\",\"Age_binned\",\"Fare_binned\"]\n",
    "predictors_scaled.head(3)"
   ]
  },
  {
   "cell_type": "code",
   "execution_count": 97,
   "metadata": {},
   "outputs": [],
   "source": [
    "predictors_scaled.dropna(inplace=True)"
   ]
  },
  {
   "cell_type": "code",
   "execution_count": 98,
   "metadata": {},
   "outputs": [],
   "source": [
    "#Using SVM for Prediction\n",
    "predictions = svc.predict(predictors_scaled)"
   ]
  },
  {
   "cell_type": "code",
   "execution_count": 100,
   "metadata": {},
   "outputs": [],
   "source": [
    "output = pd.DataFrame({ 'PassengerId' : p_id, 'Survived': predictions })\n",
    "#output.to_csv('submission.csv', index=False)"
   ]
  }
 ],
 "metadata": {
  "kernelspec": {
   "display_name": "base",
   "language": "python",
   "name": "python3"
  },
  "language_info": {
   "codemirror_mode": {
    "name": "ipython",
    "version": 3
   },
   "file_extension": ".py",
   "mimetype": "text/x-python",
   "name": "python",
   "nbconvert_exporter": "python",
   "pygments_lexer": "ipython3",
   "version": "3.9.17"
  },
  "orig_nbformat": 4
 },
 "nbformat": 4,
 "nbformat_minor": 2
}
