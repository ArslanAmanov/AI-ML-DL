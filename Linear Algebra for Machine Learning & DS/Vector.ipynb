{
 "cells": [
  {
   "cell_type": "code",
   "execution_count": 3,
   "metadata": {},
   "outputs": [
    {
     "data": {
      "text/plain": [
       "array([1, 2, 3])"
      ]
     },
     "execution_count": 3,
     "metadata": {},
     "output_type": "execute_result"
    }
   ],
   "source": [
    "import numpy as np \n",
    "x = [1,2,3]\n",
    "vector = np.array(x)\n",
    "vector"
   ]
  },
  {
   "cell_type": "code",
   "execution_count": 4,
   "metadata": {},
   "outputs": [
    {
     "data": {
      "text/plain": [
       "1"
      ]
     },
     "execution_count": 4,
     "metadata": {},
     "output_type": "execute_result"
    }
   ],
   "source": [
    "vector.ndim "
   ]
  },
  {
   "cell_type": "code",
   "execution_count": 6,
   "metadata": {},
   "outputs": [
    {
     "data": {
      "text/plain": [
       "(3,)"
      ]
     },
     "execution_count": 6,
     "metadata": {},
     "output_type": "execute_result"
    }
   ],
   "source": [
    "vector.shape"
   ]
  },
  {
   "attachments": {},
   "cell_type": "markdown",
   "metadata": {},
   "source": [
    "# Arithmetic Operations on Vectors "
   ]
  },
  {
   "cell_type": "code",
   "execution_count": 8,
   "metadata": {},
   "outputs": [
    {
     "name": "stdout",
     "output_type": "stream",
     "text": [
      "[21 11 20 34 36]\n",
      "[59 63 51 69 58]\n",
      "[ 80  74  71 103  94]\n"
     ]
    }
   ],
   "source": [
    "a = np.random.randint(10, 50, size=5) \n",
    "b = np.random.randint(25, 75, size=5) \n",
    "print(a)\n",
    "print(b)\n",
    "c=a+b \n",
    "print(c)"
   ]
  },
  {
   "cell_type": "code",
   "execution_count": 9,
   "metadata": {},
   "outputs": [
    {
     "name": "stdout",
     "output_type": "stream",
     "text": [
      "[13 45 49 39 31]\n",
      "[25 53 58 61 48]\n",
      "Difference =  [-12  -8  -9 -22 -17]\n"
     ]
    }
   ],
   "source": [
    "a = np.random.randint(10, 50, size=5) \n",
    "b = np.random.randint(25, 75, size=5) \n",
    "print(a)\n",
    "print(b)\n",
    "c=a-b \n",
    "print(\"Difference = \",c)"
   ]
  },
  {
   "cell_type": "code",
   "execution_count": 10,
   "metadata": {},
   "outputs": [
    {
     "name": "stdout",
     "output_type": "stream",
     "text": [
      "[25 24 32 20 14]\n",
      "[34 29 62 63 48]\n",
      "Multiplication =  [ 850  696 1984 1260  672]\n"
     ]
    }
   ],
   "source": [
    "a = np.random.randint(10, 50, size=5) \n",
    "b = np.random.randint(25, 75, size=5) \n",
    "print(a)\n",
    "print(b)\n",
    "c=a*b \n",
    "print(\"Multiplication = \",c)"
   ]
  },
  {
   "cell_type": "code",
   "execution_count": 11,
   "metadata": {},
   "outputs": [
    {
     "name": "stdout",
     "output_type": "stream",
     "text": [
      "[24 44 43 42 30]\n",
      "[53 40 47 43 61]\n",
      "Division =  [0.45283019 1.1        0.91489362 0.97674419 0.49180328]\n"
     ]
    }
   ],
   "source": [
    "a = np.random.randint(10, 50, size=5) \n",
    "b = np.random.randint(25, 75, size=5) \n",
    "print(a)\n",
    "print(b)\n",
    "c=a/b \n",
    "print(\"Division = \",c)"
   ]
  },
  {
   "attachments": {},
   "cell_type": "markdown",
   "metadata": {},
   "source": [
    "# Dot Product "
   ]
  },
  {
   "cell_type": "code",
   "execution_count": 12,
   "metadata": {},
   "outputs": [
    {
     "name": "stdout",
     "output_type": "stream",
     "text": [
      "[43 49 19 13 20]\n",
      "[25 49 57 63 52]\n"
     ]
    }
   ],
   "source": [
    "a = np.random.randint(10, 50, size=5) \n",
    "b = np.random.randint(25, 75, size=5) \n",
    "print(a)\n",
    "print(b)\n"
   ]
  },
  {
   "cell_type": "code",
   "execution_count": 13,
   "metadata": {},
   "outputs": [
    {
     "data": {
      "text/plain": [
       "6418"
      ]
     },
     "execution_count": 13,
     "metadata": {},
     "output_type": "execute_result"
    }
   ],
   "source": [
    "vector_dot = a.dot(b)\n",
    "vector_dot "
   ]
  },
  {
   "cell_type": "code",
   "execution_count": 16,
   "metadata": {},
   "outputs": [
    {
     "name": "stdout",
     "output_type": "stream",
     "text": [
      "[5 6 7 8 9]\n",
      "[0 1 2 3 4]\n",
      "dot product 80\n"
     ]
    }
   ],
   "source": [
    "import numpy as np  \n",
    "x = np.arange(5,10)\n",
    "y = np.arange(5)\n",
    "print(x)\n",
    "print(y)\n",
    "vector_dot = x.dot(y)\n",
    "print(\"dot product\", vector_dot) "
   ]
  },
  {
   "attachments": {},
   "cell_type": "markdown",
   "metadata": {},
   "source": [
    "# Vector Scalar Multiplication \n"
   ]
  },
  {
   "cell_type": "code",
   "execution_count": 17,
   "metadata": {},
   "outputs": [],
   "source": [
    "x = np.arange(5,10) \n"
   ]
  },
  {
   "cell_type": "code",
   "execution_count": 18,
   "metadata": {},
   "outputs": [
    {
     "name": "stdout",
     "output_type": "stream",
     "text": [
      "Vector Scalar Multiplication is : [15 18 21 24 27]\n"
     ]
    }
   ],
   "source": [
    "vs = 3*x \n",
    "print(\"Vector Scalar Multiplication is :\", vs)"
   ]
  },
  {
   "cell_type": "code",
   "execution_count": 19,
   "metadata": {},
   "outputs": [
    {
     "data": {
      "text/plain": [
       "array([5, 6, 7, 8, 9])"
      ]
     },
     "execution_count": 19,
     "metadata": {},
     "output_type": "execute_result"
    }
   ],
   "source": [
    "x"
   ]
  }
 ],
 "metadata": {
  "kernelspec": {
   "display_name": "base",
   "language": "python",
   "name": "python3"
  },
  "language_info": {
   "codemirror_mode": {
    "name": "ipython",
    "version": 3
   },
   "file_extension": ".py",
   "mimetype": "text/x-python",
   "name": "python",
   "nbconvert_exporter": "python",
   "pygments_lexer": "ipython3",
   "version": "3.9.7"
  },
  "orig_nbformat": 4,
  "vscode": {
   "interpreter": {
    "hash": "40d3a090f54c6569ab1632332b64b2c03c39dcf918b08424e98f38b5ae0af88f"
   }
  }
 },
 "nbformat": 4,
 "nbformat_minor": 2
}
