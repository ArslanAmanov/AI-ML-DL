{
 "cells": [
  {
   "cell_type": "markdown",
   "metadata": {},
   "source": [
    "# PageRank\n",
    "In this notebook, you'll build on your knowledge of eigenvectors and eigenvalues by exploring the GooglePageRank algorithm."
   ]
  },
  {
   "cell_type": "markdown",
   "metadata": {},
   "source": [
    "### Introduction\n",
    "\n",
    "PageRank developed by Larry Page and Sergey Brin.\n",
    "PageRank works by counting the number and quality of links to a page to determine a rough estimate of how important the website is. The underlying assumption is that more important websites are, they are more likely to receive more links from other websites.\n"
   ]
  },
  {
   "cell_type": "code",
   "execution_count": 1,
   "metadata": {},
   "outputs": [],
   "source": [
    "#importing libraries\n",
    "import numpy as np\n",
    "import numpy.linalg as la"
   ]
  },
  {
   "cell_type": "markdown",
   "metadata": {},
   "source": [
    "### PageRank as a linear algebra problem\n",
    "For our understanding , we will be making use of the micro internet as discussed in our videos"
   ]
  },
  {
   "cell_type": "code",
   "execution_count": 2,
   "metadata": {},
   "outputs": [],
   "source": [
    "#Build Link Matrix\n",
    "\n",
    "L = np.array([[0,   1/2, 0,  0   ],\n",
    "              [1/3, 0,   0,  1/2 ],\n",
    "              [1/3, 0,   0,  1/2 ],\n",
    "              [1/3, 1/2, 1,  0 ]])"
   ]
  },
  {
   "cell_type": "code",
   "execution_count": 3,
   "metadata": {},
   "outputs": [
    {
     "data": {
      "text/plain": [
       "array([25., 25., 25., 25.])"
      ]
     },
     "execution_count": 3,
     "metadata": {},
     "output_type": "execute_result"
    }
   ],
   "source": [
    "#Lets setup the initial vector r,\n",
    "r = 100*np.ones(4)/4   # This will set the vector with 4 enries of 1/4 X 100 each\n",
    "r # Display r value "
   ]
  },
  {
   "cell_type": "code",
   "execution_count": 4,
   "metadata": {},
   "outputs": [
    {
     "data": {
      "text/plain": [
       "array([12.5       , 20.83333333, 20.83333333, 45.83333333])"
      ]
     },
     "execution_count": 4,
     "metadata": {},
     "output_type": "execute_result"
    }
   ],
   "source": [
    "#Lets perform the first iteration\n",
    "r = L @ r # Apply Link matrix to R\n",
    "r # Show value of r"
   ]
  },
  {
   "cell_type": "code",
   "execution_count": 10,
   "metadata": {},
   "outputs": [
    {
     "data": {
      "text/plain": [
       "array([10.41666667, 27.08333333, 27.08333333, 35.41666667])"
      ]
     },
     "execution_count": 10,
     "metadata": {},
     "output_type": "execute_result"
    }
   ],
   "source": [
    "#We can run again\n",
    "r = L @ r \n",
    "r"
   ]
  },
  {
   "cell_type": "code",
   "execution_count": 11,
   "metadata": {},
   "outputs": [
    {
     "data": {
      "text/plain": [
       "array([13.54166667, 21.18055556, 21.18055556, 44.09722222])"
      ]
     },
     "execution_count": 11,
     "metadata": {},
     "output_type": "execute_result"
    }
   ],
   "source": [
    "r = L @ r \n",
    "r"
   ]
  },
  {
   "cell_type": "code",
   "execution_count": 12,
   "metadata": {},
   "outputs": [
    {
     "data": {
      "text/plain": [
       "array([11.99986288, 24.00024908, 24.00024908, 39.99963896])"
      ]
     },
     "execution_count": 12,
     "metadata": {},
     "output_type": "execute_result"
    }
   ],
   "source": [
    "#We can run many times using loop\n",
    "r = 100*np.ones(4)/4\n",
    "for i in np.arange(100) : #Repeat 100 times\n",
    "    r = L@r\n",
    "r"
   ]
  },
  {
   "cell_type": "code",
   "execution_count": 13,
   "metadata": {},
   "outputs": [
    {
     "name": "stdout",
     "output_type": "stream",
     "text": [
      "[10.41666667 27.08333333 27.08333333 35.41666667]\n",
      "[13.54166667 21.18055556 21.18055556 44.09722222]\n",
      "[10.59027778 26.5625     26.5625     36.28472222]\n",
      "[13.28125    21.6724537  21.6724537  43.37384259]\n",
      "[10.83622685 26.11400463 26.11400463 36.93576389]\n",
      "[13.05700231 22.07995756 22.07995756 42.78308256]\n",
      "[11.03997878 25.74387539 25.74387539 37.47227045]\n",
      "[12.87193769 22.41612815 22.41612815 42.29580601]\n",
      "[11.20806408 25.4385489  25.4385489  37.91483812]\n",
      "[12.71927445 22.69344042 22.69344042 41.89384471]\n",
      "[11.34672021 25.1866805  25.1866805  38.27991878]\n",
      "[12.59334025 22.92219946 22.92219946 41.56226083]\n",
      "[11.46109973 24.9789105  24.9789105  38.58107927]\n",
      "[12.48945525 23.11090621 23.11090621 41.28873232]\n",
      "[11.55545311 24.80751791 24.80751791 38.82951107]\n",
      "[12.40375896 23.26657324 23.26657324 41.06309457]\n",
      "[11.63328662 24.6661336  24.6661336  39.03444618]\n",
      "[12.3330668  23.39498529 23.39498529 40.87696261]\n",
      "[11.69749265 24.54950357 24.54950357 39.20350021]\n",
      "[12.27475179 23.50091432 23.50091432 40.72341957]\n",
      "[11.75045716 24.45329372 24.45329372 39.34295541]\n",
      "[12.22664686 23.58829676 23.58829676 40.59675963]\n",
      "[11.79414838 24.37392877 24.37392877 39.45799409]\n",
      "[12.18696438 23.66037984 23.66037984 40.49227594]\n",
      "[11.83018992 24.30845943 24.30845943 39.55289122]\n",
      "[12.15422972 23.71984225 23.71984225 40.40608579]\n",
      "[11.85992112 24.2544528  24.2544528  39.63117328]\n",
      "[12.1272264  23.76889368 23.76889368 40.33498624]\n",
      "[11.88444684 24.20990192 24.20990192 39.69574932]\n",
      "[12.10495096 23.80935694 23.80935694 40.27633516]\n",
      "[11.90467847 24.17315123 24.17315123 39.74901906]\n",
      "[12.08657562 23.84273569 23.84273569 40.22795301]\n",
      "[11.92136784 24.14283504 24.14283504 39.79296207]\n",
      "[12.07141752 23.87027032 23.87027032 40.18804184]\n",
      "[11.93513516 24.11782676 24.11782676 39.82921132]\n",
      "[12.05891338 23.89298404 23.89298404 40.15511853]\n",
      "[11.94649202 24.09719706 24.09719706 39.85911386]\n",
      "[12.04859853 23.91172094 23.91172094 40.1279596 ]\n",
      "[11.95586047 24.08017931 24.08017931 39.88378092]\n",
      "[12.04008965 23.92717728 23.92717728 40.10555578]\n",
      "[11.96358864 24.06614111 24.06614111 39.90412914]\n",
      "[12.03307056 23.93992745 23.93992745 40.08707455]\n",
      "[11.96996372 24.05456079 24.05456079 39.92091469]\n",
      "[12.0272804  23.95044525 23.95044525 40.07182909]\n",
      "[11.97522263 24.04500801 24.04500801 39.93476135]\n",
      "[12.02250401 23.95912155 23.95912155 40.05925289]\n",
      "[11.97956077 24.03712778 24.03712778 39.94618366]\n",
      "[12.01856389 23.96627875 23.96627875 40.0488786 ]\n",
      "[11.98313938 24.03062726 24.03062726 39.9556061 ]\n",
      "[12.01531363 23.97218284 23.97218284 40.04032069]\n",
      "[11.98609142 24.02526489 24.02526489 39.9633788 ]\n",
      "[12.01263244 23.97705321 23.97705321 40.03326114]\n",
      "[11.9885266  24.02084138 24.02084138 39.96979063]\n",
      "[12.01042069 23.98107085 23.98107085 40.02743761]\n",
      "[11.99053542 24.01719237 24.01719237 39.97507984]\n",
      "[12.00859618 23.98438506 23.98438506 40.0226337 ]\n",
      "[11.99219253 24.01418224 24.01418224 39.97944299]\n",
      "[12.00709112 23.987119   23.987119   40.01867087]\n",
      "[11.9935595  24.01169914 24.01169914 39.98304221]\n",
      "[12.00584957 23.98937427 23.98937427 40.01540188]\n",
      "[11.99468714 24.0096508  24.0096508  39.98601127]\n",
      "[12.0048254  23.99123468 23.99123468 40.01270524]\n",
      "[11.99561734 24.00796109 24.00796109 39.98846048]\n",
      "[12.00398054 23.99276936 23.99276936 40.01048075]\n",
      "[11.99638468 24.00656722 24.00656722 39.99048088]\n",
      "[12.00328361 23.99403533 23.99403533 40.00864572]\n",
      "[11.99701767 24.0054174  24.0054174  39.99214754]\n",
      "[12.0027087  23.99507966 23.99507966 40.00713199]\n",
      "[11.99753983 24.00446889 24.00446889 39.99352239]\n",
      "[12.00223445 23.99594114 23.99594114 40.00588328]\n",
      "[11.99797057 24.00368646 24.00368646 39.99465652]\n",
      "[12.00184323 23.99665178 23.99665178 40.00485321]\n",
      "[11.99832589 24.00304101 24.00304101 39.99559208]\n",
      "[12.00152051 23.997238   23.997238   40.00400348]\n",
      "[11.998619   24.00250858 24.00250858 39.99636384]\n",
      "[12.00125429 23.99772159 23.99772159 40.00330253]\n",
      "[11.99886079 24.00206936 24.00206936 39.99700048]\n",
      "77is the number of iterations performed for convergence\n"
     ]
    },
    {
     "data": {
      "text/plain": [
       "array([11.99886079, 24.00206936, 24.00206936, 39.99700048])"
      ]
     },
     "execution_count": 13,
     "metadata": {},
     "output_type": "execute_result"
    }
   ],
   "source": [
    "# We can run this loop untill we get the required tolerance\n",
    "r = 100*np.ones(4)/4 #4 entries of 1/4 of 100\n",
    "lastR = r\n",
    "r = L @ r\n",
    "i = 0\n",
    "while la.norm(lastR - r) > 0.01:\n",
    "    lastR = r\n",
    "    r = L @ r\n",
    "    i += 1\n",
    "    print(r)\n",
    "print(str(i) + \"is the number of iterations performed for convergence\")\n",
    "r #finally printing r"
   ]
  },
  {
   "cell_type": "code",
   "execution_count": 14,
   "metadata": {},
   "outputs": [],
   "source": [
    "#Lets take a new case with 6 pages\n",
    "\n",
    "L = np.array([[0,   1/2, 1/3, 0, 0,    0 ],\n",
    "              [1/3, 0,   0,   0, 1/2, 1/3],\n",
    "              [1/3, 1/2, 0,   1, 0,   0 ],\n",
    "              [1/3, 0,   1/3, 0, 1/2, 1/3 ],\n",
    "              [0,   0,   0,   0, 0,   1/3 ],\n",
    "              [0,   0,   1/3, 0, 0,   0 ]])"
   ]
  },
  {
   "cell_type": "code",
   "execution_count": 15,
   "metadata": {},
   "outputs": [
    {
     "name": "stdout",
     "output_type": "stream",
     "text": [
      "[19.90740741  9.25925926 39.35185185 19.44444444  1.85185185 10.18518519]\n",
      "[17.74691358 10.95679012 30.70987654 24.07407407  3.39506173 13.11728395]\n",
      "[15.71502058 11.98559671 35.468107   22.22222222  4.37242798 10.23662551]\n",
      "[17.81550069 10.83676269 33.45336077 22.65946502  3.4122085  11.82270233]\n",
      "[16.5695016  11.58550526 34.01634659 22.73662551  3.94090078 11.15112026]\n",
      "[17.13153483 11.21065767 34.05254534 22.54943987  3.71704009 11.3387822 ]\n",
      "[16.95617728 11.34862572 33.86528032 22.69947417  3.77959407 11.35084845]\n",
      "[16.96273963 11.32547228 34.02584612 22.61389905  3.78361615 11.28842677]\n",
      "[17.00468485 11.30886354 33.93088173 22.65081225  3.76280892 11.34194871]\n",
      "[16.96472568 11.33028231 33.9734723  22.64057622  3.78064957 11.31029391]\n",
      "[16.98963192 11.31533132 33.96062594 22.63982208  3.77009797 11.32449077]\n",
      "[16.9778743  11.32308988 33.96069838 22.64329853  3.77483026 11.32020865]\n",
      "[16.98177773 11.32010945 33.9641349  22.64034224  3.77340288 11.32023279]\n",
      "13is the number of iterations performed for convergence\n"
     ]
    },
    {
     "data": {
      "text/plain": [
       "array([16.98177773, 11.32010945, 33.9641349 , 22.64034224,  3.77340288,\n",
       "       11.32023279])"
      ]
     },
     "execution_count": 15,
     "metadata": {},
     "output_type": "execute_result"
    }
   ],
   "source": [
    "# We can run this loop untill we get the required tolerance\n",
    "r = 100*np.ones(6)/6 #6 entries of 1/6 of 100\n",
    "lastR = r\n",
    "r = L @ r\n",
    "i = 0\n",
    "while la.norm(lastR - r) > 0.01: #Tolerance\n",
    "    lastR = r\n",
    "    r = L @ r\n",
    "    i += 1\n",
    "    print(r)\n",
    "print(str(i) + \"is the number of iterations performed for convergence\")\n",
    "r #finally printing r"
   ]
  },
  {
   "cell_type": "markdown",
   "metadata": {},
   "source": [
    "Congratulations! You've just calculated your first PageRank!"
   ]
  },
  {
   "cell_type": "code",
   "execution_count": 16,
   "metadata": {},
   "outputs": [],
   "source": [
    "#Lets assume we have a new page added and it has link to itself\n",
    "Link2 = np.array([[0,   1/2, 1/3, 0, 0,   0, 0 ],\n",
    "               [1/3, 0,   0,   0, 1/2, 1/3, 0 ],\n",
    "               [1/3, 1/2, 0,   1, 0,   0, 0 ],\n",
    "               [1/3, 0,   1/3, 0, 1/2, 1/3, 0 ],\n",
    "               [0,   0,   0,   0, 0,   1/3, 0 ],\n",
    "               [0,   0,   1/3, 0, 0,   0, 0 ],\n",
    "               [0,   0,   0,   0, 0,   0, 1 ]])"
   ]
  },
  {
   "cell_type": "code",
   "execution_count": 17,
   "metadata": {},
   "outputs": [
    {
     "name": "stdout",
     "output_type": "stream",
     "text": [
      "[17.06349206  7.93650794 33.73015873 16.66666667  1.58730159  8.73015873\n",
      " 14.28571429]\n",
      "[15.21164021  9.39153439 26.32275132 20.63492063  2.91005291 11.24338624\n",
      " 14.28571429]\n",
      "[13.47001764 10.27336861 30.40123457 19.04761905  3.74779541  8.77425044\n",
      " 14.28571429]\n",
      "[15.27042916  9.28865373 28.67430923 19.42239859  2.92475015 10.13374486\n",
      " 14.28571429]\n",
      "[14.20242994  9.93043308 29.15686851 19.48853616  3.37791495  9.55810308\n",
      " 14.28571429]\n",
      "[14.68417271  9.60913515 29.18789601 19.32809132  3.18603436  9.71895617\n",
      " 14.28571429]\n",
      "[14.53386624  9.72739347 29.02738313 19.45669214  3.23965206  9.72929867\n",
      " 14.28571429]\n",
      "[14.53949111  9.70754767 29.16501096 19.38334204  3.24309956  9.67579438\n",
      " 14.28571429]\n",
      "[14.57544415  9.69331161 29.08361291 19.41498193  3.22526479  9.72167032\n",
      " 14.28571429]\n",
      "[14.54119344  9.71167055 29.12011912 19.40620819  3.24055677  9.69453764\n",
      " 14.28571429]\n",
      "[14.56254165  9.69885541 29.10910795 19.40556179  3.23151255  9.70670637\n",
      " 14.28571429]\n",
      "[14.55246369  9.70550561 29.10917004 19.4085416   3.23556879  9.70303598\n",
      " 14.28571429]\n",
      "[14.55580949  9.70295095 29.11211563 19.40600763  3.23434533  9.70305668\n",
      " 14.28571429]\n",
      "13is the number of iterations performed for convergence\n"
     ]
    },
    {
     "data": {
      "text/plain": [
       "array([14.55580949,  9.70295095, 29.11211563, 19.40600763,  3.23434533,\n",
       "        9.70305668, 14.28571429])"
      ]
     },
     "execution_count": 17,
     "metadata": {},
     "output_type": "execute_result"
    }
   ],
   "source": [
    "# We can run this loop untill we get the required tolerance\n",
    "r = 100*np.ones(7)/7 #7 entries of 1/7 of 100\n",
    "lastR = r\n",
    "r = Link2 @ r\n",
    "i = 0\n",
    "while la.norm(lastR - r) > 0.01:\n",
    "    lastR = r\n",
    "    r = Link2 @ r\n",
    "    i += 1\n",
    "    print(r)\n",
    "print(str(i) + \"is the number of iterations performed for convergence\")\n",
    "r #finally printing r"
   ]
  },
  {
   "cell_type": "markdown",
   "metadata": {},
   "source": [
    "Page G is taking all the traffic on the micro-internet. Once the user goes to page G, then he can’t leave that page, as the page does not have any outgoing links.\n",
    "Once the user goes to page G, then he can’t leave that page, as the page does not have any outgoing links.\n",
    "\n",
    "To correct this, we will make use of probability that user does not follow a link, but types the url to goto another website.\n",
    "\n",
    "As discussed in Video, this will be the equation\n",
    "\n",
    "$$ M = d \\, L + \\frac{1-d}{n} \\, J $$\n",
    "where $J$ is an $n\\times n$ matrix where every element is one.\n"
   ]
  },
  {
   "cell_type": "code",
   "execution_count": 18,
   "metadata": {},
   "outputs": [],
   "source": [
    "d = 0.5 #Try changing once we run the code\n",
    "M = d*Link2 + (1-d)/7 * np.ones([7,7])"
   ]
  },
  {
   "cell_type": "code",
   "execution_count": 19,
   "metadata": {},
   "outputs": [
    {
     "name": "stdout",
     "output_type": "stream",
     "text": [
      "[14.38492063 13.29365079 22.12301587 16.66666667  8.73015873 10.51587302\n",
      " 14.28571429]\n",
      "[14.15343915 13.4755291  21.19708995 17.16269841  8.89550265 10.83002646\n",
      " 14.28571429]\n",
      "[14.04458774 13.53064374 21.45199515 17.06349206  8.94786155 10.67570547\n",
      " 14.28571429]\n",
      "[14.1008506  13.4998714  21.39802873 17.07520392  8.92214139 10.71818967\n",
      " 14.28571429]\n",
      "[14.08416311 13.5098992  21.40556872 17.07623732  8.92922209 10.70919527\n",
      " 14.28571429]\n",
      "[14.08792673 13.50738906 21.40581112 17.07498385  8.92772302 10.71045193\n",
      " 14.28571429]\n",
      "6is the number of iterations performed for convergence\n"
     ]
    },
    {
     "data": {
      "text/plain": [
       "array([14.08792673, 13.50738906, 21.40581112, 17.07498385,  8.92772302,\n",
       "       10.71045193, 14.28571429])"
      ]
     },
     "execution_count": 19,
     "metadata": {},
     "output_type": "execute_result"
    }
   ],
   "source": [
    "r = 100*np.ones(7)/7 #7 entries of 1/7 of 100\n",
    "lastR = r\n",
    "r = M @ r\n",
    "i = 0\n",
    "while la.norm(lastR - r) > 0.01:\n",
    "    lastR = r\n",
    "    r = M @ r\n",
    "    i += 1\n",
    "    print(r)\n",
    "print(str(i) + \"is the number of iterations performed for convergence\")\n",
    "r #finally printing r"
   ]
  },
  {
   "cell_type": "code",
   "execution_count": 20,
   "metadata": {},
   "outputs": [
    {
     "name": "stdout",
     "output_type": "stream",
     "text": [
      "[17.06349206  7.93650794 33.73015873 16.66666667  1.58730159  8.73015873\n",
      " 14.28571429]\n",
      "[15.21164021  9.39153439 26.32275132 20.63492063  2.91005291 11.24338624\n",
      " 14.28571429]\n",
      "[13.47001764 10.27336861 30.40123457 19.04761905  3.74779541  8.77425044\n",
      " 14.28571429]\n",
      "[15.27042916  9.28865373 28.67430923 19.42239859  2.92475015 10.13374486\n",
      " 14.28571429]\n",
      "[14.20242994  9.93043308 29.15686851 19.48853616  3.37791495  9.55810308\n",
      " 14.28571429]\n",
      "[14.68417271  9.60913515 29.18789601 19.32809132  3.18603436  9.71895617\n",
      " 14.28571429]\n",
      "[14.53386624  9.72739347 29.02738313 19.45669214  3.23965206  9.72929867\n",
      " 14.28571429]\n",
      "[14.53949111  9.70754767 29.16501096 19.38334204  3.24309956  9.67579438\n",
      " 14.28571429]\n",
      "[14.57544415  9.69331161 29.08361291 19.41498193  3.22526479  9.72167032\n",
      " 14.28571429]\n",
      "[14.54119344  9.71167055 29.12011912 19.40620819  3.24055677  9.69453764\n",
      " 14.28571429]\n",
      "[14.56254165  9.69885541 29.10910795 19.40556179  3.23151255  9.70670637\n",
      " 14.28571429]\n",
      "[14.55246369  9.70550561 29.10917004 19.4085416   3.23556879  9.70303598\n",
      " 14.28571429]\n",
      "[14.55580949  9.70295095 29.11211563 19.40600763  3.23434533  9.70305668\n",
      " 14.28571429]\n",
      "13is the number of iterations performed for convergence\n"
     ]
    },
    {
     "data": {
      "text/plain": [
       "array([14.55580949,  9.70295095, 29.11211563, 19.40600763,  3.23434533,\n",
       "        9.70305668, 14.28571429])"
      ]
     },
     "execution_count": 20,
     "metadata": {},
     "output_type": "execute_result"
    }
   ],
   "source": [
    "#Testing when d = 1\n",
    "d = 1 #Try changing once we run the code\n",
    "M = d*Link2 + (1-d)/7 * np.ones([7,7])\n",
    "r = 100*np.ones(7)/7 #7 entries of 1/7 of 100\n",
    "lastR = r\n",
    "r = M @ r\n",
    "i = 0\n",
    "while la.norm(lastR - r) > 0.01:\n",
    "    lastR = r\n",
    "    r = M @ r\n",
    "    i += 1\n",
    "    print(r)\n",
    "print(str(i) + \"is the number of iterations performed for convergence\")\n",
    "r #finally printing r"
   ]
  },
  {
   "cell_type": "code",
   "execution_count": 21,
   "metadata": {},
   "outputs": [
    {
     "name": "stdout",
     "output_type": "stream",
     "text": [
      "0is the number of iterations performed for convergence\n"
     ]
    },
    {
     "data": {
      "text/plain": [
       "array([14.28571429, 14.28571429, 14.28571429, 14.28571429, 14.28571429,\n",
       "       14.28571429, 14.28571429])"
      ]
     },
     "execution_count": 21,
     "metadata": {},
     "output_type": "execute_result"
    }
   ],
   "source": [
    "#Testing when d = 0\n",
    "d = 0 #Try changing once we run the code\n",
    "M = d*Link2 + (1-d)/7 * np.ones([7,7])\n",
    "r = 100*np.ones(7)/7 #7 entries of 1/7 of 100\n",
    "lastR = r\n",
    "r = M @ r\n",
    "i = 0\n",
    "while la.norm(lastR - r) > 0.01:\n",
    "    lastR = r\n",
    "    r = M @ r\n",
    "    i += 1\n",
    "    print(r)\n",
    "print(str(i) + \"is the number of iterations performed for convergence\")\n",
    "r #finally printing r"
   ]
  },
  {
   "cell_type": "code",
   "execution_count": 22,
   "metadata": {},
   "outputs": [],
   "source": [
    "#When d is zero, this is the probability of visiting random page 1/7  X 100"
   ]
  },
  {
   "cell_type": "markdown",
   "metadata": {},
   "source": [
    "## Assessment"
   ]
  },
  {
   "cell_type": "code",
   "execution_count": 23,
   "metadata": {},
   "outputs": [],
   "source": [
    "#Test the Program with below link Matrix\n",
    "\n",
    "L = np.array([[0,   1/3, 1/3, 0, 0,    0 ],\n",
    "              [1/4, 0,   0,   0, 1/3, 1/3],\n",
    "              [1/4, 1/3, 0,  0, 0,   0 ],\n",
    "              [1/4, 0,   1/3, 0, 1/3, 1/3 ],\n",
    "              [0,   0,   0,   1, 0,   1/3 ],\n",
    "              [1/4, 1/3,   1/3, 0, 1/3,   0 ]])"
   ]
  },
  {
   "cell_type": "code",
   "execution_count": 24,
   "metadata": {},
   "outputs": [],
   "source": [
    "#Build some more matrices and run the program to get deeper  understanding"
   ]
  },
  {
   "cell_type": "code",
   "execution_count": null,
   "metadata": {},
   "outputs": [],
   "source": []
  }
 ],
 "metadata": {
  "kernelspec": {
   "display_name": "Python 3",
   "language": "python",
   "name": "python3"
  },
  "language_info": {
   "codemirror_mode": {
    "name": "ipython",
    "version": 3
   },
   "file_extension": ".py",
   "mimetype": "text/x-python",
   "name": "python",
   "nbconvert_exporter": "python",
   "pygments_lexer": "ipython3",
   "version": "3.9.17"
  }
 },
 "nbformat": 4,
 "nbformat_minor": 2
}
