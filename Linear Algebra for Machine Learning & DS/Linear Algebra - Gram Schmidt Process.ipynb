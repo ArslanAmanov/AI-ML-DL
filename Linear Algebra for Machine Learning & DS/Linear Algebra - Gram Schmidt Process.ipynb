{
 "cells": [
  {
   "cell_type": "markdown",
   "metadata": {},
   "source": [
    "# Gram-Schmidt process\n",
    "\n",
    "## Instructions\n",
    "In this Notebook exercise we will write a function to perform the Gram-Schmidt procedure.\n",
    "The Function takes a list of vectors which are non-orthonormal, and forms an orthonormal basis from this set.\n",
    "Additionally, the procedure allows us to determine the dimension of the space spanned by the basis vectors, which is equal to or less than the space which the vectors sit (this happens when one of the vector set is linearly dependent) .\n",
    "\n",
    "First, we will write a function for 4 basis vectors, and then we will generalize the concept by making use of loops to perform to any arbitrary number of vectors.\n",
    "\n",
    "We have added the comments to explain the reason as why we have written wherever possible. Please use the Video as Reference in case you get struck while reading.\n",
    "All the Best.\n",
    "\n",
    "## Recall from Basics\n",
    "\n",
    "### Matrices in Python\n",
    "1. The structure for matrices in *numpy* is,\n",
    "```python\n",
    "A[0, 0]  A[0, 1]  A[0, 2]  A[0, 3]\n",
    "A[1, 0]  A[1, 1]  A[1, 2]  A[1, 3]\n",
    "A[2, 0]  A[2, 1]  A[2, 2]  A[2, 3]\n",
    "A[3, 0]  A[3, 1]  A[3, 2]  A[3, 3]\n",
    "```\n",
    "2. We can access the value of each element individually using,\n",
    "```python\n",
    "A[n, m]\n",
    "```\n",
    "3. To access a whole row at in a single time using,\n",
    "```python\n",
    "A[n]\n",
    "```\n",
    "\n",
    "4. To access a whole column at time using,\n",
    "```python\n",
    "A[:, m]\n",
    "```\n",
    "This will select the m'th column (starting at zero column).\n",
    "\n",
    "\n",
    "5. We take the dot product of the vector using the @ operator.\n",
    "So, To take the dot product vectors u and v, simply use the code,\n",
    "```python\n",
    "u @ v\n",
    "```"
   ]
  },
  {
   "cell_type": "code",
   "execution_count": 77,
   "metadata": {},
   "outputs": [],
   "source": [
    "# Importing from libraries\n",
    "import numpy as np\n",
    "import numpy.linalg as la\n",
    "\n",
    "# We will first write the function that performs Gram-Schmidt procedure for 4 basis vectors.\n",
    "# We will take this list of vectors as the columns of a matrix, X.\n",
    "# We will then iterate them, one at a time and set them to be orthogonal\n",
    "# to all the vectors, and then we devide it by its magnitude to find the unit vector.\n",
    "\n",
    "def gsprocess(X) :\n",
    "    Y = np.array(X, dtype=np.float_) # Create Y - copy of X, since we are altering it's values.\n",
    "    # For the Zeroth column, no other vectors are present to normalize.\n",
    "    # So, We just have to normalise it. I.e. divide by its modulus, or norm.\n",
    "    Y[:, 0] = Y[:, 0] / la.norm(Y[:, 0])\n",
    "    \n",
    "    # For the first column, we need to subtract any overlap with our new zeroth vector.\n",
    "    Y[:, 1] = Y[:, 1] - Y[:, 1] @ Y[:, 0] * Y[:, 0]\n",
    "    \n",
    "   # For the remaining value we will normalse it \n",
    "    Y[:, 1] = Y[:, 1] / la.norm(Y[:, 1])\n",
    "   \n",
    "    # Repeating the same steps for column 2 and column 3\n",
    "    # So, for column 2, We will subtract with the zeroth vector, and overlap with first.\n",
    "    \n",
    "    Y[:,2] = Y[:,2] - Y[:,2] @ Y[:,0]*Y[:,0] - Y[:,2] @ Y[:,1]*Y[:,1]\n",
    "    \n",
    "    Y[:,2] = Y[:,2]/la.norm(Y[:,2])\n",
    "\n",
    "    #Similar Steps for Column 3\n",
    "    Y[:,3] = Y[:,3] - Y[:,3] @ Y[:,0] * Y[:,0] - Y[:,3] @ Y[:,1] * Y[:,1] - Y[: ,3] @ Y[:,2] * Y[:,2]\n",
    "    \n",
    "    Y[:,3] = Y[:,3]/la.norm(Y[:,3])\n",
    "     \n",
    "    # Finally, we return the result:\n",
    "    return Y\n",
    "\n",
    "# This function uses the Gram-schmidt process to calculate the dimension\n",
    "# spanned by a list of vectors.\n",
    "# Since each vector is normalised to one, or is zero,\n",
    "# the sum of all the norms will be the dimension.\n",
    "def dimensions(X) :\n",
    "    return np.sum(la.norm(gsprocess(X), axis = 0))"
   ]
  },
  {
   "cell_type": "markdown",
   "metadata": {},
   "source": [
    "## Test the code "
   ]
  },
  {
   "cell_type": "code",
   "execution_count": 78,
   "metadata": {},
   "outputs": [
    {
     "data": {
      "text/plain": [
       "array([[ 0.65653216, -0.05403511,  0.32111719,  0.68038921],\n",
       "       [ 0.26261287,  0.13508778,  0.74723182, -0.59534056],\n",
       "       [-0.65653216,  0.36743876,  0.50311276,  0.42524326],\n",
       "       [ 0.26261287,  0.9185969 , -0.29224289, -0.04252433]])"
      ]
     },
     "execution_count": 78,
     "metadata": {},
     "output_type": "execute_result"
    }
   ],
   "source": [
    "V = np.array([[5,0,3,4],\n",
    "              [2,1,9,2],\n",
    "              [-5,2,8,3],\n",
    "              [2,6,2,1]], dtype=np.float_)\n",
    "Vgs = gsprocess(V)\n",
    "Vgs\n"
   ]
  },
  {
   "cell_type": "code",
   "execution_count": 79,
   "metadata": {},
   "outputs": [],
   "source": [
    "#Testing whether resultant matrix is orthogonal or not\n",
    "# if both inverse ond Transpose both are equal then, resultant Matrix has\n",
    "#Orthogonal Vectors\n",
    "inverse = la.inv(Vgs)\n",
    "Transpose = np.transpose(Vgs)"
   ]
  },
  {
   "cell_type": "code",
   "execution_count": 80,
   "metadata": {},
   "outputs": [
    {
     "data": {
      "text/plain": [
       "array([[ 0.65653216,  0.26261287, -0.65653216,  0.26261287],\n",
       "       [-0.05403511,  0.13508778,  0.36743876,  0.9185969 ],\n",
       "       [ 0.32111719,  0.74723182,  0.50311276, -0.29224289],\n",
       "       [ 0.68038921, -0.59534056,  0.42524326, -0.04252433]])"
      ]
     },
     "execution_count": 80,
     "metadata": {},
     "output_type": "execute_result"
    }
   ],
   "source": [
    "inverse"
   ]
  },
  {
   "cell_type": "code",
   "execution_count": 81,
   "metadata": {},
   "outputs": [
    {
     "data": {
      "text/plain": [
       "array([[ 0.65653216,  0.26261287, -0.65653216,  0.26261287],\n",
       "       [-0.05403511,  0.13508778,  0.36743876,  0.9185969 ],\n",
       "       [ 0.32111719,  0.74723182,  0.50311276, -0.29224289],\n",
       "       [ 0.68038921, -0.59534056,  0.42524326, -0.04252433]])"
      ]
     },
     "execution_count": 81,
     "metadata": {},
     "output_type": "execute_result"
    }
   ],
   "source": [
    "Transpose"
   ]
  },
  {
   "cell_type": "code",
   "execution_count": 82,
   "metadata": {},
   "outputs": [
    {
     "data": {
      "text/plain": [
       "4.0"
      ]
     },
     "execution_count": 82,
     "metadata": {},
     "output_type": "execute_result"
    }
   ],
   "source": [
    "#Finding the dimensions of the resultant Orthogonal Matrix\n",
    "dimensions(V)"
   ]
  },
  {
   "cell_type": "markdown",
   "metadata": {},
   "source": [
    "## Assignment\n",
    "\n",
    "#### Repeat the process by executing for new Matrix\n",
    "1. Generate orthogonal basis vector set\n",
    "2. Find Transpose and Inverse -  Verify basis vector set is orthogonal"
   ]
  },
  {
   "cell_type": "code",
   "execution_count": 7,
   "metadata": {},
   "outputs": [],
   "source": [
    "A = np.array([[5,0,3,4],\n",
    "              [2,1,9,2],\n",
    "              [-5,2,8,3],\n",
    "              [2,6,2,1]], dtype=np.float_)"
   ]
  },
  {
   "cell_type": "code",
   "execution_count": 8,
   "metadata": {},
   "outputs": [],
   "source": [
    "## Write code and complete the Assignment"
   ]
  },
  {
   "cell_type": "code",
   "execution_count": null,
   "metadata": {},
   "outputs": [],
   "source": []
  },
  {
   "cell_type": "code",
   "execution_count": null,
   "metadata": {},
   "outputs": [],
   "source": []
  },
  {
   "cell_type": "code",
   "execution_count": null,
   "metadata": {},
   "outputs": [],
   "source": []
  },
  {
   "cell_type": "markdown",
   "metadata": {},
   "source": [
    "# Part 2 :\n",
    "## Write the general form to make the function to generate orthogonal basis vector set for any number of column set of input matrix"
   ]
  },
  {
   "cell_type": "code",
   "execution_count": 124,
   "metadata": {},
   "outputs": [],
   "source": [
    "#Lets take a very small number and if the magnitude value goes less than that, we will equate to zero,\n",
    "#Because , Magnitude cannot be negetive\n",
    "verySmallNumber = 1e-14 # That's 1×10⁻¹⁴ = 0.00000000000001\n",
    "def gsprocess2(X) :\n",
    "    Y = np.array(X, dtype=np.float_)\n",
    "    Y[:,0] = Y[:,0]/la.norm(Y[:,0])\n",
    "    for i in range(1,Y.shape[1]):    \n",
    "        for j in range (0,i):\n",
    "            Y[:,i] = Y[:,i] - Y[:,i]@ Y[:,j] * Y[:,j]        \n",
    "        if la.norm(Y[:, i]) > verySmallNumber :\n",
    "            Y[:,i] = Y[:,i]/la.norm(Y[:,i]) #Finally deviding by its magnitude\n",
    "        else:\n",
    "            Y[:, i] = np.zeros_like(Y[:, i])\n",
    "    return Y\n",
    "\n",
    "def dimensions2(X) :\n",
    "     return np.sum(la.norm(gsprocess2(X), axis = 0))"
   ]
  },
  {
   "cell_type": "code",
   "execution_count": 125,
   "metadata": {},
   "outputs": [
    {
     "data": {
      "text/plain": [
       "array([[ 0.65653216, -0.05403511,  0.32111719,  0.68038921],\n",
       "       [ 0.26261287,  0.13508778,  0.74723182, -0.59534056],\n",
       "       [-0.65653216,  0.36743876,  0.50311276,  0.42524326],\n",
       "       [ 0.26261287,  0.9185969 , -0.29224289, -0.04252433]])"
      ]
     },
     "execution_count": 125,
     "metadata": {},
     "output_type": "execute_result"
    }
   ],
   "source": [
    "A = np.array([[5,0,3,4],\n",
    "              [2,1,9,2],\n",
    "              [-5,2,8,3],\n",
    "              [2,6,2,1]], dtype=np.float_)\n",
    "Ags = gsprocess2(A)\n",
    "Ags\n"
   ]
  },
  {
   "cell_type": "code",
   "execution_count": 126,
   "metadata": {},
   "outputs": [
    {
     "data": {
      "text/plain": [
       "array([[ 0.23643312,  0.18771349,  0.22132104],\n",
       "       [ 0.15762208,  0.74769023, -0.64395812],\n",
       "       [ 0.15762208,  0.57790444,  0.72904263],\n",
       "       [ 0.94573249, -0.26786082, -0.06951101]])"
      ]
     },
     "execution_count": 126,
     "metadata": {},
     "output_type": "execute_result"
    }
   ],
   "source": [
    "## Testing for Non Square Matrix\n",
    "B = np.array([[3,2,3],\n",
    "              [2,5,-1],\n",
    "              [2,4,8],\n",
    "              [12,2,1]], dtype=np.float_)\n",
    "Bgs = gsprocess2(B)\n",
    "Bgs"
   ]
  },
  {
   "cell_type": "code",
   "execution_count": 127,
   "metadata": {},
   "outputs": [
    {
     "data": {
      "text/plain": [
       "array([[ 0.23643312,  0.15762208,  0.15762208,  0.94573249],\n",
       "       [ 0.18771349,  0.74769023,  0.57790444, -0.26786082],\n",
       "       [ 0.22132104, -0.64395812,  0.72904263, -0.06951101]])"
      ]
     },
     "execution_count": 127,
     "metadata": {},
     "output_type": "execute_result"
    }
   ],
   "source": [
    "#Testing whether resultant matrix is orthogonal or not\n",
    "# if both inverse ond Transpose both are equal then, resultant Matrix has\n",
    "#Orthogonal Vectors\n",
    "Transpose2 = np.transpose(Bgs)\n",
    "Transpose2 "
   ]
  },
  {
   "cell_type": "code",
   "execution_count": 128,
   "metadata": {},
   "outputs": [],
   "source": [
    "#No Inverse for non square matrix"
   ]
  },
  {
   "cell_type": "code",
   "execution_count": 129,
   "metadata": {
    "scrolled": true
   },
   "outputs": [
    {
     "data": {
      "text/plain": [
       "3.0"
      ]
     },
     "execution_count": 129,
     "metadata": {},
     "output_type": "execute_result"
    }
   ],
   "source": [
    "dimensions2(B)"
   ]
  },
  {
   "cell_type": "code",
   "execution_count": 130,
   "metadata": {},
   "outputs": [
    {
     "data": {
      "text/plain": [
       "array([[ 0.4472136 ,  0.        ,  0.        ],\n",
       "       [ 0.        , -1.        ,  0.        ],\n",
       "       [ 0.89442719,  0.        ,  0.        ]])"
      ]
     },
     "execution_count": 130,
     "metadata": {},
     "output_type": "execute_result"
    }
   ],
   "source": [
    "#Testing when one vector is linear dependent of another\n",
    "C = np.array([[4,4,2],\n",
    "              [0,-2,-5],\n",
    "              [8,8,4]], dtype=np.float_)\n",
    "gsprocess2(C)"
   ]
  },
  {
   "cell_type": "code",
   "execution_count": 132,
   "metadata": {},
   "outputs": [
    {
     "data": {
      "text/plain": [
       "2.0"
      ]
     },
     "execution_count": 132,
     "metadata": {},
     "output_type": "execute_result"
    }
   ],
   "source": [
    "#Results in losing the space\n",
    "dimensions2(C)"
   ]
  },
  {
   "cell_type": "markdown",
   "metadata": {},
   "source": [
    "## Assignment"
   ]
  },
  {
   "cell_type": "code",
   "execution_count": null,
   "metadata": {},
   "outputs": [],
   "source": [
    "B = np.array([[4,3,4,6],\n",
    "              [1,2,2,2],\n",
    "              [-2,4,2,1],\n",
    "              [-1,7,5,3]], dtype=np.float_)"
   ]
  },
  {
   "cell_type": "code",
   "execution_count": null,
   "metadata": {},
   "outputs": [],
   "source": []
  }
 ],
 "metadata": {
  "kernelspec": {
   "display_name": "Python 3",
   "language": "python",
   "name": "python3"
  },
  "language_info": {
   "codemirror_mode": {
    "name": "ipython",
    "version": 3
   },
   "file_extension": ".py",
   "mimetype": "text/x-python",
   "name": "python",
   "nbconvert_exporter": "python",
   "pygments_lexer": "ipython3",
   "version": "3.6.5"
  }
 },
 "nbformat": 4,
 "nbformat_minor": 2
}
